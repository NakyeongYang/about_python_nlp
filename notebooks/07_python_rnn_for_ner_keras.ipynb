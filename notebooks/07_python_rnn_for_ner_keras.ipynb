{
 "cells": [
  {
   "cell_type": "markdown",
   "metadata": {
    "deletable": true,
    "editable": true
   },
   "source": [
    "# 06. 파이썬을 이용한 RNN for NER (Using Keras)"
   ]
  },
  {
   "cell_type": "markdown",
   "metadata": {
    "deletable": true,
    "editable": true
   },
   "source": [
    "* 싸이그래머 / 어바웃 파이썬\n",
    "* 김무성"
   ]
  },
  {
   "cell_type": "markdown",
   "metadata": {
    "deletable": true,
    "editable": true
   },
   "source": [
    "# 차례\n",
    "* NER / CRF for NER / CRF-LSTM for NER  \n",
    "* anaGo를 이용한 NER - 간단 사용법\n",
    "* anaGo를 이용한 NER - 영어 데이터 학습 적용\n",
    "* anaGo를 이용한 NER - 한국어 데이터 학습 적용"
   ]
  },
  {
   "cell_type": "markdown",
   "metadata": {
    "deletable": true,
    "editable": true
   },
   "source": [
    "#### 참고\n",
    "* [1] Lecture 10: Recurrent Neural Networks - http://cs231n.stanford.edu/slides/2017/cs231n_2017_lecture10.pdf\n",
    "* [2] CRF기반 개채명 인식기(Named Entitiy Recognizer) 만들기 - https://github.com/biospin/biopy/blob/gh-pages/notebook/Part3/Week7/python-crfsuite-NER.ipynb\n",
    "* [3] LSTM-CRF for NER\n",
    "    - (원 논문) Bidirectional LSTM-CRF Models for Sequence Tagging - https://arxiv.org/abs/1508.01991\n",
    "    - (슬라이드) Bi-directional LSTM-CNNs-CRF for Italian Sequence Labeling - https://www.slideshare.net/basilepp/bidirectional-lstmcnnscrf-for-italian-sequence-labeling-84065298\n",
    "    - (슬라이드) 論文紹介：「End-to-end Sequence Labeling via Bi-directional LSTM-CNNs-CRF」 - https://www.slideshare.net/NaonoriNagano/endtoend-sequence-labeling-via-bidirectional-lstmcnnscrf\n",
    "    - (슬라이드 일부) Python과 Tensorflow를 활용한 AI Chatbot 개발 및 실무 적용 - https://www.slideshare.net/healess/python-tensorflow-ai-chatbot\n",
    "    - (슬라이드 일부) 20170227 파이썬으로 챗봇_만들기 - https://www.slideshare.net/KimSungdong1/20170227-72644192\n",
    "    - (슬라이드 일부) Deep Learning for Chatbot (2/4) - https://www.slideshare.net/JaeminCho6/dl-chatbot-seminar-day-02"
   ]
  },
  {
   "cell_type": "markdown",
   "metadata": {
    "deletable": true,
    "editable": true
   },
   "source": [
    "# NER / CRF for NER / CRF-LSTM for NER"
   ]
  },
  {
   "cell_type": "markdown",
   "metadata": {
    "deletable": true,
    "editable": true
   },
   "source": [
    "<img src=\"http://imanage.com/wp-content/uploads/2014/10/NER1.png\" width=600/>"
   ]
  },
  {
   "cell_type": "markdown",
   "metadata": {
    "deletable": true,
    "editable": true
   },
   "source": [
    "<img src=\"https://www.codeproject.com/KB/recipes/559535/gerative-discriminative.png\" width=600 />"
   ]
  },
  {
   "cell_type": "markdown",
   "metadata": {
    "deletable": true,
    "editable": true
   },
   "source": [
    "<img src=\"http://www.cs.cmu.edu/~ssandeep/images/lstm-crf.png\" width=600 />"
   ]
  },
  {
   "cell_type": "markdown",
   "metadata": {
    "deletable": true,
    "editable": true
   },
   "source": [
    "---------------------------------"
   ]
  },
  {
   "cell_type": "markdown",
   "metadata": {
    "deletable": true,
    "editable": true
   },
   "source": [
    "# anaGo를 이용한 NER - 간단 사용법\n",
    "* 설치\n",
    "* 실습을 위한 환경구성\n",
    "* pre-trained models을 사용하기"
   ]
  },
  {
   "cell_type": "markdown",
   "metadata": {
    "deletable": true,
    "editable": true
   },
   "source": [
    "#### 참고\n",
    "* [4] anaGo - https://github.com/Hironsan/anago"
   ]
  },
  {
   "cell_type": "markdown",
   "metadata": {
    "deletable": true,
    "editable": true
   },
   "source": [
    "## 설치"
   ]
  },
  {
   "cell_type": "code",
   "execution_count": null,
   "metadata": {
    "collapsed": true,
    "deletable": true,
    "editable": true
   },
   "outputs": [],
   "source": [
    "# 설치\n",
    "#pip install anago"
   ]
  },
  {
   "cell_type": "markdown",
   "metadata": {
    "deletable": true,
    "editable": true
   },
   "source": [
    "## 실습을 위한 환경구성"
   ]
  },
  {
   "cell_type": "code",
   "execution_count": null,
   "metadata": {
    "collapsed": false,
    "deletable": true,
    "editable": true
   },
   "outputs": [],
   "source": [
    "import anago"
   ]
  },
  {
   "cell_type": "code",
   "execution_count": null,
   "metadata": {
    "collapsed": true,
    "deletable": true,
    "editable": true
   },
   "outputs": [],
   "source": [
    "# 아래와 같은 폴더가 만들어져 있어야 한다."
   ]
  },
  {
   "cell_type": "code",
   "execution_count": null,
   "metadata": {
    "collapsed": false,
    "deletable": true,
    "editable": true
   },
   "outputs": [],
   "source": [
    "%ls 07_data/*"
   ]
  },
  {
   "cell_type": "markdown",
   "metadata": {
    "deletable": true,
    "editable": true
   },
   "source": [
    "## pre-trained models을 사용하기"
   ]
  },
  {
   "cell_type": "code",
   "execution_count": null,
   "metadata": {
    "collapsed": false,
    "deletable": true,
    "editable": true
   },
   "outputs": [],
   "source": [
    "# Downloading pre-trained models - 해당 패키지가 좀 준비해놓은 것이 있다.\n",
    "from anago.utils import download\n",
    "\n",
    "dir_path = '07_data/models/defult'\n",
    "url = 'https://storage.googleapis.com/chakki/datasets/public/models.zip'\n",
    "download(url, dir_path)"
   ]
  },
  {
   "cell_type": "code",
   "execution_count": null,
   "metadata": {
    "collapsed": false,
    "deletable": true,
    "editable": true
   },
   "outputs": [],
   "source": [
    "%ls 07_data/models/defult"
   ]
  },
  {
   "cell_type": "code",
   "execution_count": null,
   "metadata": {
    "collapsed": true,
    "deletable": true,
    "editable": true
   },
   "outputs": [],
   "source": [
    "# 모델 로드\n",
    "model = anago.Sequence.load(dir_path)"
   ]
  },
  {
   "cell_type": "code",
   "execution_count": null,
   "metadata": {
    "collapsed": false,
    "deletable": true,
    "editable": true
   },
   "outputs": [],
   "source": [
    "# 분석할 문장 준비\n",
    "words = 'President Obama is speaking at the White House.'.split()\n",
    "words"
   ]
  },
  {
   "cell_type": "code",
   "execution_count": null,
   "metadata": {
    "collapsed": false,
    "deletable": true,
    "editable": true
   },
   "outputs": [],
   "source": [
    "# NER 탐지\n",
    "model.analyze(words)"
   ]
  },
  {
   "cell_type": "markdown",
   "metadata": {
    "deletable": true,
    "editable": true
   },
   "source": [
    "---------------------------"
   ]
  },
  {
   "cell_type": "markdown",
   "metadata": {
    "deletable": true,
    "editable": true
   },
   "source": [
    "# anaGo를 이용한 NER - 영어 데이터 학습 적용\n",
    "* 나만의 학습 데이터로 모델 만들기\n",
    "    - 학습 / 평가\n",
    "    - 예측\n",
    "* pre-trained word embeddings 사용하기 (gensim)"
   ]
  },
  {
   "cell_type": "markdown",
   "metadata": {
    "deletable": true,
    "editable": true
   },
   "source": [
    "## 나만의 학습 데이터로 모델 만들기"
   ]
  },
  {
   "cell_type": "markdown",
   "metadata": {
    "deletable": true,
    "editable": true
   },
   "source": [
    "#### 아래와 같은 형식으로 태깅된 파일을 준비하면 된다.\n",
    "* Training data takes a tsv format. The following text is an example of training data:"
   ]
  },
  {
   "cell_type": "markdown",
   "metadata": {
    "deletable": true,
    "editable": true
   },
   "source": [
    "```\n",
    "EU\tB-ORG\n",
    "rejects\tO\n",
    "German\tB-MISC\n",
    "call\tO\n",
    "to\tO\n",
    "boycott\tO\n",
    "British\tB-MISC\n",
    "lamb\tO\n",
    ".\tO\n",
    "\n",
    "Peter\tB-PER\n",
    "Blackburn\tI-PER\n",
    "```"
   ]
  },
  {
   "cell_type": "markdown",
   "metadata": {
    "deletable": true,
    "editable": true
   },
   "source": [
    "#### 학습용 데이터가 들어갈 폴더에 train.txt, valid.txt, test.txt 파일을 만들어 넣는다."
   ]
  },
  {
   "cell_type": "code",
   "execution_count": null,
   "metadata": {
    "collapsed": false,
    "deletable": true,
    "editable": true
   },
   "outputs": [],
   "source": [
    "%ls 07_data/data/en"
   ]
  },
  {
   "cell_type": "code",
   "execution_count": null,
   "metadata": {
    "collapsed": true,
    "deletable": true,
    "editable": true
   },
   "outputs": [],
   "source": [
    "import anago\n",
    "from anago.reader import load_data_and_labels"
   ]
  },
  {
   "cell_type": "code",
   "execution_count": null,
   "metadata": {
    "collapsed": true,
    "deletable": true,
    "editable": true
   },
   "outputs": [],
   "source": [
    "train_data_dir = \"07_data/data/en/train.txt\"\n",
    "valid_data_dir = \"07_data/data/en/valid.txt\"\n",
    "test_data_dir = \"07_data/data/en/test.txt\""
   ]
  },
  {
   "cell_type": "code",
   "execution_count": null,
   "metadata": {
    "collapsed": true,
    "deletable": true,
    "editable": true
   },
   "outputs": [],
   "source": [
    "x_train, y_train = load_data_and_labels(train_data_dir)\n",
    "x_valid, y_valid = load_data_and_labels(valid_data_dir)\n",
    "x_test, y_test = load_data_and_labels(test_data_dir)"
   ]
  },
  {
   "cell_type": "code",
   "execution_count": null,
   "metadata": {
    "collapsed": true,
    "deletable": true,
    "editable": true
   },
   "outputs": [],
   "source": [
    "x_train"
   ]
  },
  {
   "cell_type": "code",
   "execution_count": null,
   "metadata": {
    "collapsed": true,
    "deletable": true,
    "editable": true
   },
   "outputs": [],
   "source": [
    "y_train"
   ]
  },
  {
   "cell_type": "code",
   "execution_count": null,
   "metadata": {
    "collapsed": true,
    "deletable": true,
    "editable": true
   },
   "outputs": [],
   "source": [
    "x_valid"
   ]
  },
  {
   "cell_type": "code",
   "execution_count": null,
   "metadata": {
    "collapsed": true,
    "deletable": true,
    "editable": true
   },
   "outputs": [],
   "source": [
    "y_valid"
   ]
  },
  {
   "cell_type": "code",
   "execution_count": null,
   "metadata": {
    "collapsed": true,
    "deletable": true,
    "editable": true
   },
   "outputs": [],
   "source": [
    "x_test"
   ]
  },
  {
   "cell_type": "code",
   "execution_count": null,
   "metadata": {
    "collapsed": true,
    "deletable": true,
    "editable": true
   },
   "outputs": [],
   "source": [
    "y_test"
   ]
  },
  {
   "cell_type": "code",
   "execution_count": null,
   "metadata": {
    "collapsed": true,
    "deletable": true,
    "editable": true
   },
   "outputs": [],
   "source": [
    "model = anago.Sequence(max_epoch=1)\n",
    "model.train(x_train, y_train, x_valid, y_valid)"
   ]
  },
  {
   "cell_type": "code",
   "execution_count": null,
   "metadata": {
    "collapsed": true,
    "deletable": true,
    "editable": true
   },
   "outputs": [],
   "source": [
    "model.eval(x_test, y_test)"
   ]
  },
  {
   "cell_type": "code",
   "execution_count": null,
   "metadata": {
    "collapsed": true,
    "deletable": true,
    "editable": true
   },
   "outputs": [],
   "source": [
    "words = 'President Obama is speaking at the White House.'.split()\n",
    "model.analyze(words)"
   ]
  },
  {
   "cell_type": "markdown",
   "metadata": {
    "deletable": true,
    "editable": true
   },
   "source": [
    "## pre-trained word embeddings 사용하기 (gensim)"
   ]
  },
  {
   "cell_type": "markdown",
   "metadata": {
    "deletable": true,
    "editable": true
   },
   "source": [
    "#### 참고\n",
    "* [5] ner_word2vec exmaple -  https://github.com/Hironsan/anago/blob/master/examples/ner_word2vec.py\n",
    "* [6] The List of Pretrained Word Embeddings - http://ahogrammer.com/2017/01/20/the-list-of-pretrained-word-embeddings/"
   ]
  },
  {
   "cell_type": "code",
   "execution_count": null,
   "metadata": {
    "collapsed": true,
    "deletable": true,
    "editable": true
   },
   "outputs": [],
   "source": [
    "# 해보자"
   ]
  },
  {
   "cell_type": "markdown",
   "metadata": {
    "deletable": true,
    "editable": true
   },
   "source": [
    "--------------------------"
   ]
  },
  {
   "cell_type": "markdown",
   "metadata": {
    "deletable": true,
    "editable": true
   },
   "source": [
    "# anaGo를 이용한 NER - 한국어 데이터 학습 적용"
   ]
  },
  {
   "cell_type": "markdown",
   "metadata": {
    "deletable": true,
    "editable": true
   },
   "source": [
    "* 나만의 학습 데이터로 모델 만들기\n",
    "    - 학습 / 평가\n",
    "    - 예측\n",
    "* pre-trained word embeddings 사용하기 (gensim)"
   ]
  },
  {
   "cell_type": "markdown",
   "metadata": {
    "deletable": true,
    "editable": true
   },
   "source": [
    "## 나만의 학습 데이터로 모델 만들기"
   ]
  },
  {
   "cell_type": "code",
   "execution_count": null,
   "metadata": {
    "collapsed": true,
    "deletable": true,
    "editable": true
   },
   "outputs": [],
   "source": [
    "import anago\n",
    "from anago.reader import load_data_and_labels"
   ]
  },
  {
   "cell_type": "code",
   "execution_count": null,
   "metadata": {
    "collapsed": false,
    "deletable": true,
    "editable": true
   },
   "outputs": [],
   "source": [
    "%ls 07_data/data/kr"
   ]
  },
  {
   "cell_type": "code",
   "execution_count": null,
   "metadata": {
    "collapsed": true,
    "deletable": true,
    "editable": true
   },
   "outputs": [],
   "source": [
    "train_data_dir = \"07_data/data/kr/train.txt\"\n",
    "valid_data_dir = \"07_data/data/kr/valid.txt\"\n",
    "test_data_dir = \"07_data/data/kr/test.txt\""
   ]
  },
  {
   "cell_type": "code",
   "execution_count": null,
   "metadata": {
    "collapsed": false,
    "deletable": true,
    "editable": true
   },
   "outputs": [],
   "source": [
    "x_train, y_train = load_data_and_labels(train_data_dir)\n",
    "x_valid, y_valid = load_data_and_labels(valid_data_dir)\n",
    "x_test, y_test = load_data_and_labels(test_data_dir)"
   ]
  },
  {
   "cell_type": "code",
   "execution_count": null,
   "metadata": {
    "collapsed": false,
    "deletable": true,
    "editable": true
   },
   "outputs": [],
   "source": [
    "x_train"
   ]
  },
  {
   "cell_type": "code",
   "execution_count": null,
   "metadata": {
    "collapsed": false,
    "deletable": true,
    "editable": true
   },
   "outputs": [],
   "source": [
    "y_train"
   ]
  },
  {
   "cell_type": "code",
   "execution_count": null,
   "metadata": {
    "collapsed": false,
    "deletable": true,
    "editable": true
   },
   "outputs": [],
   "source": [
    "x_valid"
   ]
  },
  {
   "cell_type": "code",
   "execution_count": null,
   "metadata": {
    "collapsed": false,
    "deletable": true,
    "editable": true
   },
   "outputs": [],
   "source": [
    "y_valid"
   ]
  },
  {
   "cell_type": "code",
   "execution_count": null,
   "metadata": {
    "collapsed": false,
    "deletable": true,
    "editable": true
   },
   "outputs": [],
   "source": [
    "x_test"
   ]
  },
  {
   "cell_type": "code",
   "execution_count": null,
   "metadata": {
    "collapsed": false,
    "deletable": true,
    "editable": true
   },
   "outputs": [],
   "source": [
    "y_test"
   ]
  },
  {
   "cell_type": "code",
   "execution_count": null,
   "metadata": {
    "collapsed": false,
    "deletable": true,
    "editable": true
   },
   "outputs": [],
   "source": [
    "model = anago.Sequence(max_epoch=1)\n",
    "model.train(x_train, y_train, x_valid, y_valid)"
   ]
  },
  {
   "cell_type": "code",
   "execution_count": null,
   "metadata": {
    "collapsed": false,
    "deletable": true,
    "editable": true
   },
   "outputs": [],
   "source": [
    "model.eval(x_test, y_test)"
   ]
  },
  {
   "cell_type": "code",
   "execution_count": null,
   "metadata": {
    "collapsed": false,
    "deletable": true,
    "editable": true
   },
   "outputs": [],
   "source": [
    "words = '하지만 한국 은 끝내 마지막 김은정 의 샷이 점수가 되며 감격의 승리를 거뒀다'.split()\n",
    "#words = '김은정 은 자신의 실수를 만회하며 한국 의 승리를 이끌었다.'.split()\n",
    "#words = '김은정 스킵과 리드 김영미, 세컨드 김선영, 서드 김경애, 후보 김초희로 이뤄진 한국 여자 컬링 대표팀은 5엔드까지 홀수 엔드에서는 일본을 눌렀다.'.split()\n",
    "model.analyze(words)"
   ]
  },
  {
   "cell_type": "markdown",
   "metadata": {
    "deletable": true,
    "editable": true
   },
   "source": [
    "## pre-trained word embeddings 사용하기 (gensim)"
   ]
  },
  {
   "cell_type": "markdown",
   "metadata": {
    "deletable": true,
    "editable": true
   },
   "source": [
    "#### 참고\n",
    "* [7] Pre-trained word vectors of 30+ languages -https://github.com/Kyubyong/wordvectors\n",
    "* [8] kor2vec - https://github.com/dongjun-Lee/kor2vec"
   ]
  },
  {
   "cell_type": "code",
   "execution_count": null,
   "metadata": {
    "collapsed": true,
    "deletable": true,
    "editable": true
   },
   "outputs": [],
   "source": [
    "# 해보자"
   ]
  },
  {
   "cell_type": "markdown",
   "metadata": {
    "deletable": true,
    "editable": true
   },
   "source": [
    "# 참고자료 \n",
    "* [1] Lecture 10: Recurrent Neural Networks - http://cs231n.stanford.edu/slides/2017/cs231n_2017_lecture10.pdf\n",
    "* [2] CRF기반 개채명 인식기(Named Entitiy Recognizer) 만들기 - https://github.com/biospin/biopy/blob/gh-pages/notebook/Part3/Week7/python-crfsuite-NER.ipynb\n",
    "* [3] LSTM-CRF for NER\n",
    "    - (원 논문) Bidirectional LSTM-CRF Models for Sequence Tagging - https://arxiv.org/abs/1508.01991\n",
    "    - (슬라이드) Bi-directional LSTM-CNNs-CRF for Italian Sequence Labeling - https://www.slideshare.net/basilepp/bidirectional-lstmcnnscrf-for-italian-sequence-labeling-84065298\n",
    "    - (슬라이드) 論文紹介：「End-to-end Sequence Labeling via Bi-directional LSTM-CNNs-CRF」 - https://www.slideshare.net/NaonoriNagano/endtoend-sequence-labeling-via-bidirectional-lstmcnnscrf\n",
    "    - (슬라이드 일부) Python과 Tensorflow를 활용한 AI Chatbot 개발 및 실무 적용 - https://www.slideshare.net/healess/python-tensorflow-ai-chatbot\n",
    "    - (슬라이드 일부) 20170227 파이썬으로 챗봇_만들기 - https://www.slideshare.net/KimSungdong1/20170227-72644192\n",
    "    - (슬라이드 일부) Deep Learning for Chatbot (2/4) - https://www.slideshare.net/JaeminCho6/dl-chatbot-seminar-day-02\n",
    "* [4] anaGo - https://github.com/Hironsan/anago\n",
    "* [5] ner_word2vec exmaple -  https://github.com/Hironsan/anago/blob/master/examples/ner_word2vec.py\n",
    "* [6] The List of Pretrained Word Embeddings - http://ahogrammer.com/2017/01/20/the-list-of-pretrained-word-embeddings/\n",
    "* [7] Pre-trained word vectors of 30+ languages -https://github.com/Kyubyong/wordvectors\n",
    "* [8] kor2vec - https://github.com/dongjun-Lee/kor2vec"
   ]
  }
 ],
 "metadata": {
  "kernelspec": {
   "display_name": "Python 3",
   "language": "python",
   "name": "python3"
  },
  "language_info": {
   "codemirror_mode": {
    "name": "ipython",
    "version": 3
   },
   "file_extension": ".py",
   "mimetype": "text/x-python",
   "name": "python",
   "nbconvert_exporter": "python",
   "pygments_lexer": "ipython3",
   "version": "3.5.2"
  },
  "name": "Gensim Newsgroup.ipynb"
 },
 "nbformat": 4,
 "nbformat_minor": 0
}
