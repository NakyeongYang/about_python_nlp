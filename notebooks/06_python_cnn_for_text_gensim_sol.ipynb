{
 "cells": [
  {
   "cell_type": "markdown",
   "metadata": {
    "deletable": true,
    "editable": true
   },
   "source": [
    "# 06. 파이썬을 이용한 CNN for Text (Using Gensim + Keras)"
   ]
  },
  {
   "cell_type": "markdown",
   "metadata": {
    "deletable": true,
    "editable": true
   },
   "source": [
    "* 싸이그래머 / 어바웃 파이썬\n",
    "* 김무성"
   ]
  },
  {
   "cell_type": "markdown",
   "metadata": {
    "deletable": true,
    "editable": true
   },
   "source": [
    "# 차례\n",
    "* Word2Vec (Gensim) + Deep Learning (Keras) 간단 예제 : 코사도 유사도  \n",
    "* 1D CNN for Text (Gensim + Keras)\n",
    "* 2D CNN for Text (Gensim + Keras)"
   ]
  },
  {
   "cell_type": "markdown",
   "metadata": {
    "deletable": true,
    "editable": true
   },
   "source": [
    "# Word2Vec (Gensim) + Deep Learning (Keras) 간단 예제 : 코사도 유사도 "
   ]
  },
  {
   "cell_type": "code",
   "execution_count": 1,
   "metadata": {
    "collapsed": true,
    "deletable": true,
    "editable": true
   },
   "outputs": [],
   "source": [
    "from gensim.models import word2vec"
   ]
  },
  {
   "cell_type": "code",
   "execution_count": 2,
   "metadata": {
    "collapsed": true,
    "deletable": true,
    "editable": true
   },
   "outputs": [],
   "source": [
    "sentences = [\n",
    "    ['human', 'interface', 'computer'],\n",
    "    ['survey', 'user', 'computer', 'system', 'response', 'time'],\n",
    "    ['eps', 'user', 'interface', 'system'],\n",
    "    ['system', 'human', 'system', 'eps'],\n",
    "    ['user', 'response', 'time'],\n",
    "    ['trees'],\n",
    "    ['graph', 'trees'],\n",
    "    ['graph', 'minors', 'trees'],\n",
    "    ['graph', 'minors', 'survey']\n",
    "]"
   ]
  },
  {
   "cell_type": "code",
   "execution_count": 3,
   "metadata": {
    "collapsed": true,
    "deletable": true,
    "editable": true
   },
   "outputs": [],
   "source": [
    "model = word2vec.Word2Vec(sentences, size=100, min_count=1, hs=1)"
   ]
  },
  {
   "cell_type": "code",
   "execution_count": 4,
   "metadata": {
    "collapsed": false,
    "deletable": true,
    "editable": true
   },
   "outputs": [
    {
     "name": "stderr",
     "output_type": "stream",
     "text": [
      "Using TensorFlow backend.\n"
     ]
    }
   ],
   "source": [
    "import numpy as np\n",
    "from keras.engine import Input\n",
    "from keras.models import Model\n",
    "from keras.layers.merge import dot"
   ]
  },
  {
   "cell_type": "code",
   "execution_count": 5,
   "metadata": {
    "collapsed": true,
    "deletable": true,
    "editable": true
   },
   "outputs": [],
   "source": [
    "wv = model.wv\n",
    "embedding_layer = wv.get_keras_embedding()"
   ]
  },
  {
   "cell_type": "code",
   "execution_count": 6,
   "metadata": {
    "collapsed": false,
    "deletable": true,
    "editable": true
   },
   "outputs": [
    {
     "name": "stdout",
     "output_type": "stream",
     "text": [
      "WARNING:tensorflow:From /opt/conda/lib/python3.5/site-packages/keras/backend/tensorflow_backend.py:3148: calling l2_normalize (from tensorflow.python.ops.nn_impl) with dim is deprecated and will be removed in a future version.\n",
      "Instructions for updating:\n",
      "dim is deprecated, use axis instead\n"
     ]
    },
    {
     "name": "stderr",
     "output_type": "stream",
     "text": [
      "/opt/conda/lib/python3.5/site-packages/ipykernel/__main__.py:7: UserWarning: Update your `Model` call to the Keras 2 API: `Model(outputs=Tensor(\"do..., inputs=[<tf.Tenso...)`\n"
     ]
    }
   ],
   "source": [
    "input_a = Input(shape=(1,), dtype='int32', name='input_a')\n",
    "input_b = Input(shape=(1,), dtype='int32', name='input_b')\n",
    "embedding_a = embedding_layer(input_a)\n",
    "embedding_b = embedding_layer(input_b)\n",
    "similarity = dot([embedding_a, embedding_b], axes=2, normalize=True)\n",
    "\n",
    "keras_model = Model(input=[input_a, input_b], output=similarity)\n",
    "keras_model.compile(optimizer='sgd', loss='mse')"
   ]
  },
  {
   "cell_type": "code",
   "execution_count": 7,
   "metadata": {
    "collapsed": false,
    "deletable": true,
    "editable": true
   },
   "outputs": [
    {
     "name": "stdout",
     "output_type": "stream",
     "text": [
      "[[[ 0.1080837]]]\n"
     ]
    }
   ],
   "source": [
    "word_a = 'graph'\n",
    "word_b = 'trees'\n",
    "# output is the cosine distance between the two words (as a similarity measure)\n",
    "output = keras_model.predict([np.asarray([model.wv.vocab[word_a].index]), np.asarray([model.wv.vocab[word_b].index])])\n",
    "\n",
    "print(output)"
   ]
  },
  {
   "cell_type": "markdown",
   "metadata": {
    "deletable": true,
    "editable": true
   },
   "source": [
    "--------------------------"
   ]
  },
  {
   "cell_type": "markdown",
   "metadata": {
    "deletable": true,
    "editable": true
   },
   "source": [
    "# 1D CNN for Text (Gensim + Keras) \n",
    "* Data 준비\n",
    "* 딥러닝 모델에 입력가능한 포맷으로 변환\n",
    "* Keras에서 사용할 embedding layer 생성\n",
    "* CNN 모델 생성 및 학습\n",
    "* 학습된 모델로 새로운 문장"
   ]
  },
  {
   "cell_type": "markdown",
   "metadata": {
    "deletable": true,
    "editable": true
   },
   "source": [
    "#### 참고\n",
    "* [2] Using wrappers for Gensim models for working with Keras - https://github.com/RaRe-Technologies/gensim/blob/develop/docs/notebooks/keras_wrapper.ipynb"
   ]
  },
  {
   "cell_type": "markdown",
   "metadata": {},
   "source": [
    "<img src=\"https://qph.ec.quoracdn.net/main-qimg-523434af0d21bb0b59454aa9563cc90b-c\" width=600 />"
   ]
  },
  {
   "cell_type": "markdown",
   "metadata": {
    "deletable": true,
    "editable": true
   },
   "source": [
    "## Data 준비 (영어 - 20newsgroups)"
   ]
  },
  {
   "cell_type": "markdown",
   "metadata": {
    "deletable": true,
    "editable": true
   },
   "source": [
    "#### 필요한 라이브러리들"
   ]
  },
  {
   "cell_type": "code",
   "execution_count": 8,
   "metadata": {
    "collapsed": true,
    "deletable": true,
    "editable": true
   },
   "outputs": [],
   "source": [
    "import os\n",
    "import sys\n",
    "import keras\n",
    "import numpy as np\n",
    "\n",
    "from gensim.models import word2vec\n",
    "\n",
    "from keras.models import Model\n",
    "from keras.preprocessing.text import Tokenizer\n",
    "from keras.preprocessing.sequence import pad_sequences\n",
    "from keras.utils.np_utils import to_categorical\n",
    "from keras.layers import Input, Dense, Flatten\n",
    "from keras.layers import Conv1D, MaxPooling1D\n",
    "\n",
    "from sklearn.datasets import fetch_20newsgroups"
   ]
  },
  {
   "cell_type": "markdown",
   "metadata": {
    "deletable": true,
    "editable": true
   },
   "source": [
    "#### 데이터 준비 결과는 아래 세 리스트에 담긴다."
   ]
  },
  {
   "cell_type": "code",
   "execution_count": 9,
   "metadata": {
    "collapsed": true,
    "deletable": true,
    "editable": true
   },
   "outputs": [],
   "source": [
    "texts = []  # list of text samples\n",
    "texts_w2v = []  # used to train the word embeddings\n",
    "labels = []  # list of label ids"
   ]
  },
  {
   "cell_type": "markdown",
   "metadata": {
    "deletable": true,
    "editable": true
   },
   "source": [
    "#### 20뉴스그룹 데이터의 일부분(카테고리 3가지 정도만)을 가져온다"
   ]
  },
  {
   "cell_type": "code",
   "execution_count": 10,
   "metadata": {
    "collapsed": false,
    "deletable": true,
    "editable": true
   },
   "outputs": [],
   "source": [
    "#using 3 categories for training the classifier\n",
    "data = fetch_20newsgroups(subset='train', categories=['alt.atheism', 'comp.graphics', 'sci.space'])"
   ]
  },
  {
   "cell_type": "code",
   "execution_count": 11,
   "metadata": {
    "collapsed": false,
    "deletable": true,
    "editable": true
   },
   "outputs": [
    {
     "data": {
      "text/plain": [
       "['DESCR', 'data', 'description', 'filenames', 'target', 'target_names']"
      ]
     },
     "execution_count": 11,
     "metadata": {},
     "output_type": "execute_result"
    }
   ],
   "source": [
    "dir(data)"
   ]
  },
  {
   "cell_type": "code",
   "execution_count": 12,
   "metadata": {
    "collapsed": false,
    "deletable": true,
    "editable": true
   },
   "outputs": [
    {
     "data": {
      "text/plain": [
       "6"
      ]
     },
     "execution_count": 12,
     "metadata": {},
     "output_type": "execute_result"
    }
   ],
   "source": [
    "len(data)"
   ]
  },
  {
   "cell_type": "code",
   "execution_count": 13,
   "metadata": {
    "collapsed": false,
    "deletable": true,
    "editable": true
   },
   "outputs": [
    {
     "data": {
      "text/plain": [
       "'the 20 newsgroups by date dataset'"
      ]
     },
     "execution_count": 13,
     "metadata": {},
     "output_type": "execute_result"
    }
   ],
   "source": [
    "data.description"
   ]
  },
  {
   "cell_type": "code",
   "execution_count": 14,
   "metadata": {
    "collapsed": false,
    "deletable": true,
    "editable": true
   },
   "outputs": [
    {
     "data": {
      "text/plain": [
       "1657"
      ]
     },
     "execution_count": 14,
     "metadata": {},
     "output_type": "execute_result"
    }
   ],
   "source": [
    "len(data.data)"
   ]
  },
  {
   "cell_type": "code",
   "execution_count": 15,
   "metadata": {
    "collapsed": false,
    "deletable": true,
    "editable": true
   },
   "outputs": [
    {
     "data": {
      "text/plain": [
       "1657"
      ]
     },
     "execution_count": 15,
     "metadata": {},
     "output_type": "execute_result"
    }
   ],
   "source": [
    "len(data.target)"
   ]
  },
  {
   "cell_type": "code",
   "execution_count": 16,
   "metadata": {
    "collapsed": false,
    "deletable": true,
    "editable": true
   },
   "outputs": [
    {
     "data": {
      "text/plain": [
       "array([2, 1, 0, ..., 2, 2, 2])"
      ]
     },
     "execution_count": 16,
     "metadata": {},
     "output_type": "execute_result"
    }
   ],
   "source": [
    "data.target"
   ]
  },
  {
   "cell_type": "code",
   "execution_count": 17,
   "metadata": {
    "collapsed": false,
    "deletable": true,
    "editable": true
   },
   "outputs": [
    {
     "data": {
      "text/plain": [
       "['alt.atheism', 'comp.graphics', 'sci.space']"
      ]
     },
     "execution_count": 17,
     "metadata": {},
     "output_type": "execute_result"
    }
   ],
   "source": [
    "data.target_names"
   ]
  },
  {
   "cell_type": "markdown",
   "metadata": {
    "deletable": true,
    "editable": true
   },
   "source": [
    "#### 변환 과정을 한줄한줄 따져보자"
   ]
  },
  {
   "cell_type": "code",
   "execution_count": 18,
   "metadata": {
    "collapsed": false,
    "deletable": true,
    "editable": true
   },
   "outputs": [
    {
     "name": "stdout",
     "output_type": "stream",
     "text": [
      "index: 0\n",
      "label_id: 2\n",
      "index: 1\n",
      "label_id: 1\n",
      "index: 2\n",
      "label_id: 0\n",
      "index: 3\n",
      "label_id: 1\n",
      "index: 4\n",
      "label_id: 2\n",
      "index: 5\n",
      "label_id: 2\n"
     ]
    }
   ],
   "source": [
    "for index in range(len(data)):\n",
    "    print(\"index:\", index)\n",
    "    label_id = data.target[index]\n",
    "    print(\"label_id:\",label_id)\n",
    "    #file_data = data.data[index]\n",
    "    #print(file_data)\n",
    "    #i = file_data.find('\\n\\n')  # skip header\n",
    "    #if i > 0:\n",
    "    #    file_data = file_data[i:]\n",
    "    #try:\n",
    "    #    curr_str = str(file_data)\n",
    "    #    sentence_list = curr_str.split('\\n')\n",
    "    #    for sentence in sentence_list:\n",
    "    #        sentence = (sentence.strip()).lower()\n",
    "    #        texts.append(sentence)\n",
    "    #        texts_w2v.append(sentence.split(' '))\n",
    "    #        labels.append(label_id)\n",
    "    #except:\n",
    "    #    None"
   ]
  },
  {
   "cell_type": "code",
   "execution_count": 19,
   "metadata": {
    "collapsed": false,
    "deletable": true,
    "editable": true
   },
   "outputs": [
    {
     "name": "stdout",
     "output_type": "stream",
     "text": [
      "index: 0\n",
      "label_id: 2\n",
      "file_data:\n",
      " From: degroff@netcom.com (21012d)\n",
      "Subject: Re: Venus Lander for Venus Conditions.\n",
      "Organization: Netcom Online Communications Services (408-241-9760 login: guest)\n",
      "Lines: 8\n",
      "\n",
      "\n",
      "  I doubt there are good prospects for  a self armoring system\n",
      "for venus surface conditions (several hundred degrees, very high\n",
      "pressure of CO2, possibly sulfuric and nitric acids or oxides\n",
      "but it is a notion to consider for outer planets rs where you might\n",
      "pick up ices under less extream upper atmosphere conditions buying\n",
      "deeper penetration.  A nice creative idea, unlikly but worthy of\n",
      "thinking about.\n",
      "\n",
      "index: 1\n",
      "label_id: 1\n",
      "file_data:\n",
      " From: ab@nova.cc.purdue.edu (Allen B)\n",
      "Subject: Re: TIFF: philosophical significance of 42\n",
      "Organization: Purdue University\n",
      "Lines: 39\n",
      "\n",
      "In article <prestonm.735400848@cs.man.ac.uk> prestonm@cs.man.ac.uk (Martin  \n",
      "Preston) writes:\n",
      "> Why not use the PD C library for reading/writing TIFF files? It took me a\n",
      "> good 20 minutes to start using them in your own app.\n",
      "\n",
      "I certainly do use it whenever I have to do TIFF, and it usually works\n",
      "very well.  That's not my point.  I'm >philosophically< opposed to it\n",
      "because of its complexity.\n",
      "\n",
      "This complexity has led to some programs' poor TIFF writers making\n",
      "some very bizarre files, other programs' inability to load TIFF\n",
      "images (though they'll save them, of course), and a general\n",
      "inability to interchange images between different environments\n",
      "despite the fact they all think they understand TIFF.\n",
      "\n",
      "As the saying goes, \"It's not me I'm worried about- it's all the\n",
      ">other<  assholes out there!\"  I've had big trouble with misuse and\n",
      "abuse of TIFF over the years, and I chalk it all up to the immense (and\n",
      "unnecessary) complexity of the format.\n",
      "\n",
      "In the words of the TIFF 5.0 spec, Appendix G, page G-1 (capitalized\n",
      "emphasis mine):\n",
      "\n",
      "\"The only problem with this sort of success is that TIFF was designed\n",
      "to be powerful and flexible, at the expense of simplicity.  It takes a\n",
      "fair amount of effort to handle all the options currently defined in\n",
      "this specification (PROBABLY NO APPLICATION DOES A COMPLETE JOB),\n",
      "and that is currently the only way you can be >sure< that you will be\n",
      "able to import any TIFF image, since there are so many\n",
      "image-generating applications out there now.\"\n",
      "\n",
      "\n",
      "If a program (or worse all applications) can't read >every< TIFF\n",
      "image, that means there are some it won't- some that I might have to\n",
      "deal with.  Why would I want my images to be trapped in that format?  I\n",
      "don't and neither should anyone who agrees with my reasoning- not\n",
      "that anyone does, of course! :-)\n",
      "\n",
      "ab\n",
      "\n",
      "index: 2\n",
      "label_id: 0\n",
      "file_data:\n",
      " From: healta@saturn.wwc.edu (Tammy R Healy)\n",
      "Subject: Cannanite genocide in the Bible\n",
      "Lines: 6\n",
      "Organization: Walla Walla College\n",
      "Lines: 6\n",
      "\n",
      "excuse me for my ignorance. But I remember reading once that the \n",
      "Biblical tribe known as the Philistines still exists...they are the modern \n",
      "day Palestinians.\n",
      "Anyone out there with more info, please post it!!!\n",
      "\n",
      "Tammy\n",
      "\n",
      "index: 3\n",
      "label_id: 1\n",
      "file_data:\n",
      " From: capelli@vnet.IBM.COM (Ron Capelli)\n",
      "Subject: Re: detecting double points in bezier curves\n",
      "Disclaimer: This posting represents the poster's views, not those of IBM\n",
      "News-Software: UReply 3.1\n",
      "Lines: 16\n",
      "\n",
      "In <ia522B1w165w@oeinck.waterland.wlink.nl> Ferdinand Oeinck writes:\n",
      ">I'm looking for any information on detecting and/or calculating a double\n",
      ">point and/or cusp in a bezier curve.\n",
      "\n",
      "See:\n",
      "   Maureen Stone and Tony DeRose,\n",
      "   \"A Geometric Characterization of Parametric Cubic Curves\",\n",
      "   ACM TOG, vol 8, no 3, July 1989, pp. 147-163.\n",
      "_______________________________________________________________________\n",
      "\n",
      "...Ron Capelli                 IBM Corp.  Dept. C13,  MS. P230\n",
      "   capelli@vnet.ibm.com        PO Box 950\n",
      "   (914) 435-1673              Poughkeepsie, NY  12602\n",
      "_______________________________________________________________________\n",
      "\n",
      "\"There are no answers, only cross references.\"\n",
      "\n",
      "index: 4\n",
      "label_id: 2\n",
      "file_data:\n",
      " From: henry@zoo.toronto.edu (Henry Spencer)\n",
      "Subject: Re: TRUE \"GLOBE\", Who makes it?\n",
      "Organization: U of Toronto Zoology\n",
      "Lines: 12\n",
      "\n",
      "In article <bill.047m@xpresso.UUCP> bill@xpresso.UUCP (Bill Vance) writes:\n",
      ">It has been known for quite a while that the earth is actually more pear\n",
      ">shaped than globular/spherical.  Does anyone make a \"globe\" that is accurate\n",
      ">as to actual shape, landmass configuration/Long/Lat lines etc.?\n",
      "\n",
      "I don't think you're going to be able to see the differences from a sphere\n",
      "unless they are greatly exaggerated.  Even the equatorial bulge is only\n",
      "about 1 part in 300 -- you'd never notice a 1mm error in a 30cm globe --\n",
      "and the other deviations from spherical shape are much smaller.\n",
      "-- \n",
      "SVR4 resembles a high-speed collision   | Henry Spencer @ U of Toronto Zoology\n",
      "between SVR3 and SunOS.    - Dick Dunn  |  henry@zoo.toronto.edu  utzoo!henry\n",
      "\n",
      "index: 5\n",
      "label_id: 2\n",
      "file_data:\n",
      " From: dietz@cs.rochester.edu (Paul Dietz)\n",
      "Subject: Commercial mining activities on the moon\n",
      "Organization: University of Rochester\n",
      "Lines: 38\n",
      "\n",
      "In article <1993Apr20.152819.28186@ke4zv.uucp> gary@ke4zv.UUCP (Gary Coffman) writes:\n",
      "\n",
      " > be the site of major commercial activity. As far as we know it has no\n",
      " > materials we can't get cheaper right here on Earth or from asteroids\n",
      " > and comets, aside from the semi-mythic He3 that *might* be useful in low\n",
      " > grade fusion reactors.\n",
      "\n",
      "I don't know what a \"low grade\" fusion reactor is, but the major\n",
      "problem with 3He (aside from the difficulty in making any fusion\n",
      "reactor work) is that its concentration in lunar regolith is just so\n",
      "small -- on the order of 5 ppb or so, on average (more in some\n",
      "fractions, but still very small).  Massive amounts of regolith would\n",
      "have to be processed.\n",
      "\n",
      "This thread reminds me of Wingo's claims some time ago about the moon\n",
      "as a source of titanium for use on earth.  As I recall, Wingo wasn't\n",
      "content with being assured that titanium (at .5% in the Earth's crust,\n",
      "average) would not run out, and touted lunar mines, even though the\n",
      "market price of ilmenite concentrate these days is around $.06/pound.\n",
      "This prompted me to look up large potential terrestrial sources.\n",
      "\n",
      "On the moon, titanium occurs in basalts; \"high-Ti\" basalts (Apollo 11\n",
      "and 17) have 8-14% titanium dioxide (by weight).  This is nice, but...\n",
      "terrestrial continental flood basalts are also typically enriched in\n",
      "titanium.  They very often have 3% TiO2, frequently have 4%, and\n",
      "sometimes even 5% TiO2 (again, by weight).  These flood basalts are\n",
      "*enormous* -- millions of cubic kilometers, scattered all over the\n",
      "world (Siberia, Brazil, the NW United States, Ethiopia, etc.).  If\n",
      "even 1% of the basalts are 5% TiO2, this is trillions of tons of TiO2\n",
      "at concentrations only a factor of 2-3 less than in lunar high-Ti\n",
      "basalts.  It is difficult to see how the disadvantages of the moon\n",
      "could be overcome by such a small increase the concentration of the\n",
      "ore (never mind the richer, but less common, terrestrial ores being\n",
      "mined today).\n",
      "\n",
      "\tPaul F. Dietz\n",
      "\tdietz@cs.rochester.edu\n",
      "\n",
      "\n"
     ]
    }
   ],
   "source": [
    "for index in range(len(data)):\n",
    "    print(\"index:\", index)\n",
    "    label_id = data.target[index]\n",
    "    print(\"label_id:\",label_id)\n",
    "    file_data = data.data[index]\n",
    "    print(\"file_data:\\n\",file_data)\n",
    "    #i = file_data.find('\\n\\n')  # skip header\n",
    "    #if i > 0:\n",
    "    #    file_data = file_data[i:]\n",
    "    #try:\n",
    "    #    curr_str = str(file_data)\n",
    "    #    sentence_list = curr_str.split('\\n')\n",
    "    #    for sentence in sentence_list:\n",
    "    #        sentence = (sentence.strip()).lower()\n",
    "    #        texts.append(sentence)\n",
    "    #        texts_w2v.append(sentence.split(' '))\n",
    "    #        labels.append(label_id)\n",
    "    #except:\n",
    "    #    None"
   ]
  },
  {
   "cell_type": "markdown",
   "metadata": {
    "deletable": true,
    "editable": true
   },
   "source": [
    "#### 첫번째 데이터만 가져와서 처리 과정을 차근차근 살펴보자"
   ]
  },
  {
   "cell_type": "code",
   "execution_count": 20,
   "metadata": {
    "collapsed": false,
    "deletable": true,
    "editable": true
   },
   "outputs": [
    {
     "name": "stdout",
     "output_type": "stream",
     "text": [
      "index: 0\n",
      "label_id: 2\n",
      "file_data:\n",
      " From: degroff@netcom.com (21012d)\n",
      "Subject: Re: Venus Lander for Venus Conditions.\n",
      "Organization: Netcom Online Communications Services (408-241-9760 login: guest)\n",
      "Lines: 8\n",
      "\n",
      "\n",
      "  I doubt there are good prospects for  a self armoring system\n",
      "for venus surface conditions (several hundred degrees, very high\n",
      "pressure of CO2, possibly sulfuric and nitric acids or oxides\n",
      "but it is a notion to consider for outer planets rs where you might\n",
      "pick up ices under less extream upper atmosphere conditions buying\n",
      "deeper penetration.  A nice creative idea, unlikly but worthy of\n",
      "thinking about.\n",
      "\n"
     ]
    }
   ],
   "source": [
    "for index in range(1) : #len(data)):\n",
    "    print(\"index:\", index)\n",
    "    label_id = data.target[index]\n",
    "    print(\"label_id:\",label_id)\n",
    "    file_data = data.data[index]\n",
    "    print(\"file_data:\\n\",file_data)\n",
    "    #i = file_data.find('\\n\\n')  # skip header\n",
    "    #if i > 0:\n",
    "    #    file_data = file_data[i:]\n",
    "    #try:\n",
    "    #    curr_str = str(file_data)\n",
    "    #    sentence_list = curr_str.split('\\n')\n",
    "    #    for sentence in sentence_list:\n",
    "    #        sentence = (sentence.strip()).lower()\n",
    "    #        texts.append(sentence)\n",
    "    #        texts_w2v.append(sentence.split(' '))\n",
    "    #        labels.append(label_id)\n",
    "    #except:\n",
    "    #    None"
   ]
  },
  {
   "cell_type": "code",
   "execution_count": 21,
   "metadata": {
    "collapsed": false,
    "deletable": true,
    "editable": true
   },
   "outputs": [
    {
     "name": "stdout",
     "output_type": "stream",
     "text": [
      "index: 0\n",
      "label_id: 2\n",
      "file_data:\n",
      " From: degroff@netcom.com (21012d)\n",
      "Subject: Re: Venus Lander for Venus Conditions.\n",
      "Organization: Netcom Online Communications Services (408-241-9760 login: guest)\n",
      "Lines: 8\n",
      "\n",
      "\n",
      "  I doubt there are good prospects for  a self armoring system\n",
      "for venus surface conditions (several hundred degrees, very high\n",
      "pressure of CO2, possibly sulfuric and nitric acids or oxides\n",
      "but it is a notion to consider for outer planets rs where you might\n",
      "pick up ices under less extream upper atmosphere conditions buying\n",
      "deeper penetration.  A nice creative idea, unlikly but worthy of\n",
      "thinking about.\n",
      "\n",
      "i: 170\n"
     ]
    }
   ],
   "source": [
    "for index in range(1) : #len(data)):\n",
    "    print(\"index:\", index)\n",
    "    label_id = data.target[index]\n",
    "    print(\"label_id:\",label_id)\n",
    "    file_data = data.data[index]\n",
    "    print(\"file_data:\\n\",file_data)\n",
    "    i = file_data.find('\\n\\n')  # skip header\n",
    "    print(\"i:\", i)\n",
    "    #if i > 0:\n",
    "    #    file_data = file_data[i:]\n",
    "    #try:\n",
    "    #    curr_str = str(file_data)\n",
    "    #    sentence_list = curr_str.split('\\n')\n",
    "    #    for sentence in sentence_list:\n",
    "    #        sentence = (sentence.strip()).lower()\n",
    "    #        texts.append(sentence)\n",
    "    #        texts_w2v.append(sentence.split(' '))\n",
    "    #        labels.append(label_id)\n",
    "    #except:\n",
    "    #    None"
   ]
  },
  {
   "cell_type": "code",
   "execution_count": 22,
   "metadata": {
    "collapsed": false,
    "deletable": true,
    "editable": true
   },
   "outputs": [
    {
     "name": "stdout",
     "output_type": "stream",
     "text": [
      "index: 0\n",
      "label_id: 2\n",
      "file_data:\n",
      " From: degroff@netcom.com (21012d)\n",
      "Subject: Re: Venus Lander for Venus Conditions.\n",
      "Organization: Netcom Online Communications Services (408-241-9760 login: guest)\n",
      "Lines: 8\n",
      "\n",
      "\n",
      "  I doubt there are good prospects for  a self armoring system\n",
      "for venus surface conditions (several hundred degrees, very high\n",
      "pressure of CO2, possibly sulfuric and nitric acids or oxides\n",
      "but it is a notion to consider for outer planets rs where you might\n",
      "pick up ices under less extream upper atmosphere conditions buying\n",
      "deeper penetration.  A nice creative idea, unlikly but worthy of\n",
      "thinking about.\n",
      "\n",
      "i: 170\n",
      "file_data(skip_heaer): \n",
      "\n",
      "\n",
      "  I doubt there are good prospects for  a self armoring system\n",
      "for venus surface conditions (several hundred degrees, very high\n",
      "pressure of CO2, possibly sulfuric and nitric acids or oxides\n",
      "but it is a notion to consider for outer planets rs where you might\n",
      "pick up ices under less extream upper atmosphere conditions buying\n",
      "deeper penetration.  A nice creative idea, unlikly but worthy of\n",
      "thinking about.\n",
      "\n"
     ]
    }
   ],
   "source": [
    "for index in range(1) : #len(data)):\n",
    "    print(\"index:\", index)\n",
    "    label_id = data.target[index]\n",
    "    print(\"label_id:\",label_id)\n",
    "    file_data = data.data[index]\n",
    "    print(\"file_data:\\n\",file_data)\n",
    "    i = file_data.find('\\n\\n')  # skip header\n",
    "    print(\"i:\", i)\n",
    "    if i > 0:\n",
    "        file_data = file_data[i:]\n",
    "        print(\"file_data(skip_heaer):\", file_data)\n",
    "    #try:\n",
    "    #    curr_str = str(file_data)\n",
    "    #    sentence_list = curr_str.split('\\n')\n",
    "    #    for sentence in sentence_list:\n",
    "    #        sentence = (sentence.strip()).lower()\n",
    "    #        texts.append(sentence)\n",
    "    #        texts_w2v.append(sentence.split(' '))\n",
    "    #        labels.append(label_id)\n",
    "    #except:\n",
    "    #    None"
   ]
  },
  {
   "cell_type": "code",
   "execution_count": 23,
   "metadata": {
    "collapsed": false,
    "deletable": true,
    "editable": true
   },
   "outputs": [
    {
     "name": "stdout",
     "output_type": "stream",
     "text": [
      "curr_str \n",
      "\n",
      "\n",
      "  I doubt there are good prospects for  a self armoring system\n",
      "for venus surface conditions (several hundred degrees, very high\n",
      "pressure of CO2, possibly sulfuric and nitric acids or oxides\n",
      "but it is a notion to consider for outer planets rs where you might\n",
      "pick up ices under less extream upper atmosphere conditions buying\n",
      "deeper penetration.  A nice creative idea, unlikly but worthy of\n",
      "thinking about.\n",
      "\n"
     ]
    }
   ],
   "source": [
    "for index in range(1) : #len(data)):\n",
    "    #print(\"index:\", index)\n",
    "    label_id = data.target[index]\n",
    "    #print(\"label_id:\",label_id)\n",
    "    file_data = data.data[index]\n",
    "    #print(\"file_data:\\n\",file_data)\n",
    "    i = file_data.find('\\n\\n')  # skip header\n",
    "    #print(\"i:\", i)\n",
    "    if i > 0:\n",
    "        file_data = file_data[i:]\n",
    "        #print(\"file_data(skip_heaer):\", file_data)\n",
    "    try:\n",
    "        curr_str = str(file_data)\n",
    "        print(\"curr_str\", curr_str)\n",
    "    #    sentence_list = curr_str.split('\\n')\n",
    "    #    for sentence in sentence_list:\n",
    "    #        sentence = (sentence.strip()).lower()\n",
    "    #        texts.append(sentence)\n",
    "    #        texts_w2v.append(sentence.split(' '))\n",
    "    #        labels.append(label_id)\n",
    "    except:\n",
    "        None"
   ]
  },
  {
   "cell_type": "code",
   "execution_count": 24,
   "metadata": {
    "collapsed": false,
    "deletable": true,
    "editable": true
   },
   "outputs": [
    {
     "name": "stdout",
     "output_type": "stream",
     "text": [
      "curr_str \n",
      "\n",
      "\n",
      "  I doubt there are good prospects for  a self armoring system\n",
      "for venus surface conditions (several hundred degrees, very high\n",
      "pressure of CO2, possibly sulfuric and nitric acids or oxides\n",
      "but it is a notion to consider for outer planets rs where you might\n",
      "pick up ices under less extream upper atmosphere conditions buying\n",
      "deeper penetration.  A nice creative idea, unlikly but worthy of\n",
      "thinking about.\n",
      "\n",
      "sentence_list:\n",
      " ['', '', '', '  I doubt there are good prospects for  a self armoring system', 'for venus surface conditions (several hundred degrees, very high', 'pressure of CO2, possibly sulfuric and nitric acids or oxides', 'but it is a notion to consider for outer planets rs where you might', 'pick up ices under less extream upper atmosphere conditions buying', 'deeper penetration.  A nice creative idea, unlikly but worthy of', 'thinking about.', '']\n"
     ]
    }
   ],
   "source": [
    "for index in range(1) : #len(data)):\n",
    "    #print(\"index:\", index)\n",
    "    label_id = data.target[index]\n",
    "    #print(\"label_id:\",label_id)\n",
    "    file_data = data.data[index]\n",
    "    #print(\"file_data:\\n\",file_data)\n",
    "    i = file_data.find('\\n\\n')  # skip header\n",
    "    #print(\"i:\", i)\n",
    "    if i > 0:\n",
    "        file_data = file_data[i:]\n",
    "        #print(\"file_data(skip_heaer):\", file_data)\n",
    "    try:\n",
    "        curr_str = str(file_data)\n",
    "        print(\"curr_str\", curr_str)\n",
    "        sentence_list = curr_str.split('\\n')\n",
    "        print(\"sentence_list:\\n\", sentence_list)\n",
    "    #    for sentence in sentence_list:\n",
    "    #        sentence = (sentence.strip()).lower()\n",
    "    #        texts.append(sentence)\n",
    "    #        texts_w2v.append(sentence.split(' '))\n",
    "    #        labels.append(label_id)\n",
    "    except:\n",
    "        None"
   ]
  },
  {
   "cell_type": "code",
   "execution_count": 25,
   "metadata": {
    "collapsed": false,
    "deletable": true,
    "editable": true
   },
   "outputs": [
    {
     "name": "stdout",
     "output_type": "stream",
     "text": [
      "curr_str \n",
      "\n",
      "\n",
      "  I doubt there are good prospects for  a self armoring system\n",
      "for venus surface conditions (several hundred degrees, very high\n",
      "pressure of CO2, possibly sulfuric and nitric acids or oxides\n",
      "but it is a notion to consider for outer planets rs where you might\n",
      "pick up ices under less extream upper atmosphere conditions buying\n",
      "deeper penetration.  A nice creative idea, unlikly but worthy of\n",
      "thinking about.\n",
      "\n",
      "sentence_list:\n",
      " ['', '', '', '  I doubt there are good prospects for  a self armoring system', 'for venus surface conditions (several hundred degrees, very high', 'pressure of CO2, possibly sulfuric and nitric acids or oxides', 'but it is a notion to consider for outer planets rs where you might', 'pick up ices under less extream upper atmosphere conditions buying', 'deeper penetration.  A nice creative idea, unlikly but worthy of', 'thinking about.', '']\n",
      "sentence:\n",
      " \n",
      "sentence:\n",
      " \n",
      "sentence:\n",
      " \n",
      "sentence:\n",
      " i doubt there are good prospects for  a self armoring system\n",
      "sentence:\n",
      " for venus surface conditions (several hundred degrees, very high\n",
      "sentence:\n",
      " pressure of co2, possibly sulfuric and nitric acids or oxides\n",
      "sentence:\n",
      " but it is a notion to consider for outer planets rs where you might\n",
      "sentence:\n",
      " pick up ices under less extream upper atmosphere conditions buying\n",
      "sentence:\n",
      " deeper penetration.  a nice creative idea, unlikly but worthy of\n",
      "sentence:\n",
      " thinking about.\n",
      "sentence:\n",
      " \n"
     ]
    }
   ],
   "source": [
    "for index in range(1) : #len(data)):\n",
    "    #print(\"index:\", index)\n",
    "    label_id = data.target[index]\n",
    "    #print(\"label_id:\",label_id)\n",
    "    file_data = data.data[index]\n",
    "    #print(\"file_data:\\n\",file_data)\n",
    "    i = file_data.find('\\n\\n')  # skip header\n",
    "    #print(\"i:\", i)\n",
    "    if i > 0:\n",
    "        file_data = file_data[i:]\n",
    "        #print(\"file_data(skip_heaer):\", file_data)\n",
    "    try:\n",
    "        curr_str = str(file_data)\n",
    "        print(\"curr_str\", curr_str)\n",
    "        sentence_list = curr_str.split('\\n')\n",
    "        print(\"sentence_list:\\n\", sentence_list)\n",
    "        for sentence in sentence_list:\n",
    "            sentence = (sentence.strip()).lower()\n",
    "            print(\"sentence:\\n\", sentence)\n",
    "    #        texts.append(sentence)\n",
    "    #        texts_w2v.append(sentence.split(' '))\n",
    "    #        labels.append(label_id)\n",
    "    except:\n",
    "        None"
   ]
  },
  {
   "cell_type": "code",
   "execution_count": 26,
   "metadata": {
    "collapsed": false,
    "deletable": true,
    "editable": true
   },
   "outputs": [
    {
     "name": "stdout",
     "output_type": "stream",
     "text": [
      "sentence:\n",
      " \n",
      "sentence:\n",
      " \n",
      "sentence:\n",
      " \n",
      "sentence:\n",
      " i doubt there are good prospects for  a self armoring system\n",
      "sentence:\n",
      " for venus surface conditions (several hundred degrees, very high\n",
      "sentence:\n",
      " pressure of co2, possibly sulfuric and nitric acids or oxides\n",
      "sentence:\n",
      " but it is a notion to consider for outer planets rs where you might\n",
      "sentence:\n",
      " pick up ices under less extream upper atmosphere conditions buying\n",
      "sentence:\n",
      " deeper penetration.  a nice creative idea, unlikly but worthy of\n",
      "sentence:\n",
      " thinking about.\n",
      "sentence:\n",
      " \n",
      "texts:\n",
      " ['', '', '', 'i doubt there are good prospects for  a self armoring system', 'for venus surface conditions (several hundred degrees, very high', 'pressure of co2, possibly sulfuric and nitric acids or oxides', 'but it is a notion to consider for outer planets rs where you might', 'pick up ices under less extream upper atmosphere conditions buying', 'deeper penetration.  a nice creative idea, unlikly but worthy of', 'thinking about.', '']\n",
      "texts_w2v:\n",
      " []\n",
      "labels:\n",
      " []\n"
     ]
    }
   ],
   "source": [
    "texts = []  # list of text samples\n",
    "texts_w2v = []  # used to train the word embeddings\n",
    "labels = []  # list of label ids\n",
    "\n",
    "for index in range(1) : #len(data)):\n",
    "    #print(\"index:\", index)\n",
    "    label_id = data.target[index]\n",
    "    #print(\"label_id:\",label_id)\n",
    "    file_data = data.data[index]\n",
    "    #print(\"file_data:\\n\",file_data)\n",
    "    i = file_data.find('\\n\\n')  # skip header\n",
    "    #print(\"i:\", i)\n",
    "    if i > 0:\n",
    "        file_data = file_data[i:]\n",
    "        #print(\"file_data(skip_heaer):\", file_data)\n",
    "    try:\n",
    "        curr_str = str(file_data)\n",
    "        #print(\"curr_str\", curr_str)\n",
    "        sentence_list = curr_str.split('\\n')\n",
    "        #print(\"sentence_list:\\n\", sentence_list)\n",
    "        for sentence in sentence_list:\n",
    "            sentence = (sentence.strip()).lower()\n",
    "            print(\"sentence:\\n\", sentence)\n",
    "            texts.append(sentence)\n",
    "    #        texts_w2v.append(sentence.split(' '))\n",
    "    #        labels.append(label_id)\n",
    "    except:\n",
    "        None\n",
    "\n",
    "print(\"texts:\\n\", texts)\n",
    "print(\"texts_w2v:\\n\", texts_w2v)\n",
    "print(\"labels:\\n\", labels)"
   ]
  },
  {
   "cell_type": "code",
   "execution_count": 27,
   "metadata": {
    "collapsed": false,
    "deletable": true,
    "editable": true
   },
   "outputs": [
    {
     "name": "stdout",
     "output_type": "stream",
     "text": [
      "texts:\n",
      " ['', '', '', 'i doubt there are good prospects for  a self armoring system', 'for venus surface conditions (several hundred degrees, very high', 'pressure of co2, possibly sulfuric and nitric acids or oxides', 'but it is a notion to consider for outer planets rs where you might', 'pick up ices under less extream upper atmosphere conditions buying', 'deeper penetration.  a nice creative idea, unlikly but worthy of', 'thinking about.', '']\n",
      "texts_w2v:\n",
      " [[''], [''], [''], ['i', 'doubt', 'there', 'are', 'good', 'prospects', 'for', '', 'a', 'self', 'armoring', 'system'], ['for', 'venus', 'surface', 'conditions', '(several', 'hundred', 'degrees,', 'very', 'high'], ['pressure', 'of', 'co2,', 'possibly', 'sulfuric', 'and', 'nitric', 'acids', 'or', 'oxides'], ['but', 'it', 'is', 'a', 'notion', 'to', 'consider', 'for', 'outer', 'planets', 'rs', 'where', 'you', 'might'], ['pick', 'up', 'ices', 'under', 'less', 'extream', 'upper', 'atmosphere', 'conditions', 'buying'], ['deeper', 'penetration.', '', 'a', 'nice', 'creative', 'idea,', 'unlikly', 'but', 'worthy', 'of'], ['thinking', 'about.'], ['']]\n",
      "labels:\n",
      " []\n"
     ]
    }
   ],
   "source": [
    "texts = []  # list of text samples\n",
    "texts_w2v = []  # used to train the word embeddings\n",
    "labels = []  # list of label ids\n",
    "\n",
    "for index in range(1) : #len(data)):\n",
    "    #print(\"index:\", index)\n",
    "    label_id = data.target[index]\n",
    "    #print(\"label_id:\",label_id)\n",
    "    file_data = data.data[index]\n",
    "    #print(\"file_data:\\n\",file_data)\n",
    "    i = file_data.find('\\n\\n')  # skip header\n",
    "    #print(\"i:\", i)\n",
    "    if i > 0:\n",
    "        file_data = file_data[i:]\n",
    "        #print(\"file_data(skip_heaer):\", file_data)\n",
    "    try:\n",
    "        curr_str = str(file_data)\n",
    "        #print(\"curr_str\", curr_str)\n",
    "        sentence_list = curr_str.split('\\n')\n",
    "        #print(\"sentence_list:\\n\", sentence_list)\n",
    "        for sentence in sentence_list:\n",
    "            sentence = (sentence.strip()).lower()\n",
    "            #print(\"sentence:\\n\", sentence)\n",
    "            texts.append(sentence)\n",
    "            texts_w2v.append(sentence.split(' '))\n",
    "    #        labels.append(label_id)\n",
    "    except:\n",
    "        None\n",
    "\n",
    "print(\"texts:\\n\", texts)\n",
    "print(\"texts_w2v:\\n\", texts_w2v)\n",
    "print(\"labels:\\n\", labels)"
   ]
  },
  {
   "cell_type": "code",
   "execution_count": 28,
   "metadata": {
    "collapsed": false,
    "deletable": true,
    "editable": true
   },
   "outputs": [
    {
     "name": "stdout",
     "output_type": "stream",
     "text": [
      "texts:\n",
      " ['', '', '', 'i doubt there are good prospects for  a self armoring system', 'for venus surface conditions (several hundred degrees, very high', 'pressure of co2, possibly sulfuric and nitric acids or oxides', 'but it is a notion to consider for outer planets rs where you might', 'pick up ices under less extream upper atmosphere conditions buying', 'deeper penetration.  a nice creative idea, unlikly but worthy of', 'thinking about.', '']\n",
      "texts_w2v:\n",
      " [[''], [''], [''], ['i', 'doubt', 'there', 'are', 'good', 'prospects', 'for', '', 'a', 'self', 'armoring', 'system'], ['for', 'venus', 'surface', 'conditions', '(several', 'hundred', 'degrees,', 'very', 'high'], ['pressure', 'of', 'co2,', 'possibly', 'sulfuric', 'and', 'nitric', 'acids', 'or', 'oxides'], ['but', 'it', 'is', 'a', 'notion', 'to', 'consider', 'for', 'outer', 'planets', 'rs', 'where', 'you', 'might'], ['pick', 'up', 'ices', 'under', 'less', 'extream', 'upper', 'atmosphere', 'conditions', 'buying'], ['deeper', 'penetration.', '', 'a', 'nice', 'creative', 'idea,', 'unlikly', 'but', 'worthy', 'of'], ['thinking', 'about.'], ['']]\n",
      "labels:\n",
      " [2, 2, 2, 2, 2, 2, 2, 2, 2, 2, 2]\n"
     ]
    }
   ],
   "source": [
    "texts = []  # list of text samples\n",
    "texts_w2v = []  # used to train the word embeddings\n",
    "labels = []  # list of label ids\n",
    "\n",
    "for index in range(1) : #len(data)):\n",
    "    #print(\"index:\", index)\n",
    "    label_id = data.target[index]\n",
    "    #print(\"label_id:\",label_id)\n",
    "    file_data = data.data[index]\n",
    "    #print(\"file_data:\\n\",file_data)\n",
    "    i = file_data.find('\\n\\n')  # skip header\n",
    "    #print(\"i:\", i)\n",
    "    if i > 0:\n",
    "        file_data = file_data[i:]\n",
    "        #print(\"file_data(skip_heaer):\", file_data)\n",
    "    try:\n",
    "        curr_str = str(file_data)\n",
    "        #print(\"curr_str\", curr_str)\n",
    "        sentence_list = curr_str.split('\\n')\n",
    "        #print(\"sentence_list:\\n\", sentence_list)\n",
    "        for sentence in sentence_list:\n",
    "            sentence = (sentence.strip()).lower()\n",
    "            #print(\"sentence:\\n\", sentence)\n",
    "            texts.append(sentence)\n",
    "            texts_w2v.append(sentence.split(' '))\n",
    "            labels.append(label_id)\n",
    "    except:\n",
    "        None\n",
    "\n",
    "print(\"texts:\\n\", texts)\n",
    "print(\"texts_w2v:\\n\", texts_w2v)\n",
    "print(\"labels:\\n\", labels)"
   ]
  },
  {
   "cell_type": "markdown",
   "metadata": {
    "deletable": true,
    "editable": true
   },
   "source": [
    "#### 데이터 전체에 적용한 결과"
   ]
  },
  {
   "cell_type": "code",
   "execution_count": 29,
   "metadata": {
    "collapsed": false,
    "deletable": true,
    "editable": true
   },
   "outputs": [
    {
     "name": "stdout",
     "output_type": "stream",
     "text": [
      "texts:\n",
      " ['', '', '', 'i doubt there are good prospects for  a self armoring system', 'for venus surface conditions (several hundred degrees, very high', 'pressure of co2, possibly sulfuric and nitric acids or oxides', 'but it is a notion to consider for outer planets rs where you might', 'pick up ices under less extream upper atmosphere conditions buying', 'deeper penetration.  a nice creative idea, unlikly but worthy of', 'thinking about.', '', '', '', 'in article <prestonm.735400848@cs.man.ac.uk> prestonm@cs.man.ac.uk (martin', 'preston) writes:', '> why not use the pd c library for reading/writing tiff files? it took me a', '> good 20 minutes to start using them in your own app.', '', 'i certainly do use it whenever i have to do tiff, and it usually works', \"very well.  that's not my point.  i'm >philosophically< opposed to it\", 'because of its complexity.', '', \"this complexity has led to some programs' poor tiff writers making\", \"some very bizarre files, other programs' inability to load tiff\", \"images (though they'll save them, of course), and a general\", 'inability to interchange images between different environments', 'despite the fact they all think they understand tiff.', '', 'as the saying goes, \"it\\'s not me i\\'m worried about- it\\'s all the', '>other<  assholes out there!\"  i\\'ve had big trouble with misuse and', 'abuse of tiff over the years, and i chalk it all up to the immense (and', 'unnecessary) complexity of the format.', '', 'in the words of the tiff 5.0 spec, appendix g, page g-1 (capitalized', 'emphasis mine):', '', '\"the only problem with this sort of success is that tiff was designed', 'to be powerful and flexible, at the expense of simplicity.  it takes a', 'fair amount of effort to handle all the options currently defined in', 'this specification (probably no application does a complete job),', 'and that is currently the only way you can be >sure< that you will be', 'able to import any tiff image, since there are so many', 'image-generating applications out there now.\"', '', '', \"if a program (or worse all applications) can't read >every< tiff\", \"image, that means there are some it won't- some that i might have to\", 'deal with.  why would i want my images to be trapped in that format?  i', \"don't and neither should anyone who agrees with my reasoning- not\", 'that anyone does, of course! :-)', '', 'ab', '', '', '', 'excuse me for my ignorance. but i remember reading once that the', 'biblical tribe known as the philistines still exists...they are the modern', 'day palestinians.', 'anyone out there with more info, please post it!!!', '', 'tammy', '', '', '', 'in <ia522b1w165w@oeinck.waterland.wlink.nl> ferdinand oeinck writes:', \">i'm looking for any information on detecting and/or calculating a double\", '>point and/or cusp in a bezier curve.', '', 'see:', 'maureen stone and tony derose,', '\"a geometric characterization of parametric cubic curves\",', 'acm tog, vol 8, no 3, july 1989, pp. 147-163.', '_______________________________________________________________________', '', '...ron capelli                 ibm corp.  dept. c13,  ms. p230', 'capelli@vnet.ibm.com        po box 950', '(914) 435-1673              poughkeepsie, ny  12602', '_______________________________________________________________________', '', '\"there are no answers, only cross references.\"', '', '', '', 'in article <bill.047m@xpresso.uucp> bill@xpresso.uucp (bill vance) writes:', '>it has been known for quite a while that the earth is actually more pear', '>shaped than globular/spherical.  does anyone make a \"globe\" that is accurate', '>as to actual shape, landmass configuration/long/lat lines etc.?', '', \"i don't think you're going to be able to see the differences from a sphere\", 'unless they are greatly exaggerated.  even the equatorial bulge is only', \"about 1 part in 300 -- you'd never notice a 1mm error in a 30cm globe --\", 'and the other deviations from spherical shape are much smaller.', '--', 'svr4 resembles a high-speed collision   | henry spencer @ u of toronto zoology', 'between svr3 and sunos.    - dick dunn  |  henry@zoo.toronto.edu  utzoo!henry', '', '', '', 'in article <1993apr20.152819.28186@ke4zv.uucp> gary@ke4zv.uucp (gary coffman) writes:', '', '> be the site of major commercial activity. as far as we know it has no', \"> materials we can't get cheaper right here on earth or from asteroids\", '> and comets, aside from the semi-mythic he3 that *might* be useful in low', '> grade fusion reactors.', '', 'i don\\'t know what a \"low grade\" fusion reactor is, but the major', 'problem with 3he (aside from the difficulty in making any fusion', 'reactor work) is that its concentration in lunar regolith is just so', 'small -- on the order of 5 ppb or so, on average (more in some', 'fractions, but still very small).  massive amounts of regolith would', 'have to be processed.', '', \"this thread reminds me of wingo's claims some time ago about the moon\", \"as a source of titanium for use on earth.  as i recall, wingo wasn't\", \"content with being assured that titanium (at .5% in the earth's crust,\", 'average) would not run out, and touted lunar mines, even though the', 'market price of ilmenite concentrate these days is around $.06/pound.', 'this prompted me to look up large potential terrestrial sources.', '', 'on the moon, titanium occurs in basalts; \"high-ti\" basalts (apollo 11', 'and 17) have 8-14% titanium dioxide (by weight).  this is nice, but...', 'terrestrial continental flood basalts are also typically enriched in', 'titanium.  they very often have 3% tio2, frequently have 4%, and', 'sometimes even 5% tio2 (again, by weight).  these flood basalts are', '*enormous* -- millions of cubic kilometers, scattered all over the', 'world (siberia, brazil, the nw united states, ethiopia, etc.).  if', 'even 1% of the basalts are 5% tio2, this is trillions of tons of tio2', 'at concentrations only a factor of 2-3 less than in lunar high-ti', 'basalts.  it is difficult to see how the disadvantages of the moon', 'could be overcome by such a small increase the concentration of the', 'ore (never mind the richer, but less common, terrestrial ores being', 'mined today).', '', 'paul f. dietz', 'dietz@cs.rochester.edu', '', '']\n",
      "texts_w2v:\n",
      " [[''], [''], [''], ['i', 'doubt', 'there', 'are', 'good', 'prospects', 'for', '', 'a', 'self', 'armoring', 'system'], ['for', 'venus', 'surface', 'conditions', '(several', 'hundred', 'degrees,', 'very', 'high'], ['pressure', 'of', 'co2,', 'possibly', 'sulfuric', 'and', 'nitric', 'acids', 'or', 'oxides'], ['but', 'it', 'is', 'a', 'notion', 'to', 'consider', 'for', 'outer', 'planets', 'rs', 'where', 'you', 'might'], ['pick', 'up', 'ices', 'under', 'less', 'extream', 'upper', 'atmosphere', 'conditions', 'buying'], ['deeper', 'penetration.', '', 'a', 'nice', 'creative', 'idea,', 'unlikly', 'but', 'worthy', 'of'], ['thinking', 'about.'], [''], [''], [''], ['in', 'article', '<prestonm.735400848@cs.man.ac.uk>', 'prestonm@cs.man.ac.uk', '(martin'], ['preston)', 'writes:'], ['>', 'why', 'not', 'use', 'the', 'pd', 'c', 'library', 'for', 'reading/writing', 'tiff', 'files?', 'it', 'took', 'me', 'a'], ['>', 'good', '20', 'minutes', 'to', 'start', 'using', 'them', 'in', 'your', 'own', 'app.'], [''], ['i', 'certainly', 'do', 'use', 'it', 'whenever', 'i', 'have', 'to', 'do', 'tiff,', 'and', 'it', 'usually', 'works'], ['very', 'well.', '', \"that's\", 'not', 'my', 'point.', '', \"i'm\", '>philosophically<', 'opposed', 'to', 'it'], ['because', 'of', 'its', 'complexity.'], [''], ['this', 'complexity', 'has', 'led', 'to', 'some', \"programs'\", 'poor', 'tiff', 'writers', 'making'], ['some', 'very', 'bizarre', 'files,', 'other', \"programs'\", 'inability', 'to', 'load', 'tiff'], ['images', '(though', \"they'll\", 'save', 'them,', 'of', 'course),', 'and', 'a', 'general'], ['inability', 'to', 'interchange', 'images', 'between', 'different', 'environments'], ['despite', 'the', 'fact', 'they', 'all', 'think', 'they', 'understand', 'tiff.'], [''], ['as', 'the', 'saying', 'goes,', '\"it\\'s', 'not', 'me', \"i'm\", 'worried', 'about-', \"it's\", 'all', 'the'], ['>other<', '', 'assholes', 'out', 'there!\"', '', \"i've\", 'had', 'big', 'trouble', 'with', 'misuse', 'and'], ['abuse', 'of', 'tiff', 'over', 'the', 'years,', 'and', 'i', 'chalk', 'it', 'all', 'up', 'to', 'the', 'immense', '(and'], ['unnecessary)', 'complexity', 'of', 'the', 'format.'], [''], ['in', 'the', 'words', 'of', 'the', 'tiff', '5.0', 'spec,', 'appendix', 'g,', 'page', 'g-1', '(capitalized'], ['emphasis', 'mine):'], [''], ['\"the', 'only', 'problem', 'with', 'this', 'sort', 'of', 'success', 'is', 'that', 'tiff', 'was', 'designed'], ['to', 'be', 'powerful', 'and', 'flexible,', 'at', 'the', 'expense', 'of', 'simplicity.', '', 'it', 'takes', 'a'], ['fair', 'amount', 'of', 'effort', 'to', 'handle', 'all', 'the', 'options', 'currently', 'defined', 'in'], ['this', 'specification', '(probably', 'no', 'application', 'does', 'a', 'complete', 'job),'], ['and', 'that', 'is', 'currently', 'the', 'only', 'way', 'you', 'can', 'be', '>sure<', 'that', 'you', 'will', 'be'], ['able', 'to', 'import', 'any', 'tiff', 'image,', 'since', 'there', 'are', 'so', 'many'], ['image-generating', 'applications', 'out', 'there', 'now.\"'], [''], [''], ['if', 'a', 'program', '(or', 'worse', 'all', 'applications)', \"can't\", 'read', '>every<', 'tiff'], ['image,', 'that', 'means', 'there', 'are', 'some', 'it', \"won't-\", 'some', 'that', 'i', 'might', 'have', 'to'], ['deal', 'with.', '', 'why', 'would', 'i', 'want', 'my', 'images', 'to', 'be', 'trapped', 'in', 'that', 'format?', '', 'i'], [\"don't\", 'and', 'neither', 'should', 'anyone', 'who', 'agrees', 'with', 'my', 'reasoning-', 'not'], ['that', 'anyone', 'does,', 'of', 'course!', ':-)'], [''], ['ab'], [''], [''], [''], ['excuse', 'me', 'for', 'my', 'ignorance.', 'but', 'i', 'remember', 'reading', 'once', 'that', 'the'], ['biblical', 'tribe', 'known', 'as', 'the', 'philistines', 'still', 'exists...they', 'are', 'the', 'modern'], ['day', 'palestinians.'], ['anyone', 'out', 'there', 'with', 'more', 'info,', 'please', 'post', 'it!!!'], [''], ['tammy'], [''], [''], [''], ['in', '<ia522b1w165w@oeinck.waterland.wlink.nl>', 'ferdinand', 'oeinck', 'writes:'], [\">i'm\", 'looking', 'for', 'any', 'information', 'on', 'detecting', 'and/or', 'calculating', 'a', 'double'], ['>point', 'and/or', 'cusp', 'in', 'a', 'bezier', 'curve.'], [''], ['see:'], ['maureen', 'stone', 'and', 'tony', 'derose,'], ['\"a', 'geometric', 'characterization', 'of', 'parametric', 'cubic', 'curves\",'], ['acm', 'tog,', 'vol', '8,', 'no', '3,', 'july', '1989,', 'pp.', '147-163.'], ['_______________________________________________________________________'], [''], ['...ron', 'capelli', '', '', '', '', '', '', '', '', '', '', '', '', '', '', '', '', 'ibm', 'corp.', '', 'dept.', 'c13,', '', 'ms.', 'p230'], ['capelli@vnet.ibm.com', '', '', '', '', '', '', '', 'po', 'box', '950'], ['(914)', '435-1673', '', '', '', '', '', '', '', '', '', '', '', '', '', 'poughkeepsie,', 'ny', '', '12602'], ['_______________________________________________________________________'], [''], ['\"there', 'are', 'no', 'answers,', 'only', 'cross', 'references.\"'], [''], [''], [''], ['in', 'article', '<bill.047m@xpresso.uucp>', 'bill@xpresso.uucp', '(bill', 'vance)', 'writes:'], ['>it', 'has', 'been', 'known', 'for', 'quite', 'a', 'while', 'that', 'the', 'earth', 'is', 'actually', 'more', 'pear'], ['>shaped', 'than', 'globular/spherical.', '', 'does', 'anyone', 'make', 'a', '\"globe\"', 'that', 'is', 'accurate'], ['>as', 'to', 'actual', 'shape,', 'landmass', 'configuration/long/lat', 'lines', 'etc.?'], [''], ['i', \"don't\", 'think', \"you're\", 'going', 'to', 'be', 'able', 'to', 'see', 'the', 'differences', 'from', 'a', 'sphere'], ['unless', 'they', 'are', 'greatly', 'exaggerated.', '', 'even', 'the', 'equatorial', 'bulge', 'is', 'only'], ['about', '1', 'part', 'in', '300', '--', \"you'd\", 'never', 'notice', 'a', '1mm', 'error', 'in', 'a', '30cm', 'globe', '--'], ['and', 'the', 'other', 'deviations', 'from', 'spherical', 'shape', 'are', 'much', 'smaller.'], ['--'], ['svr4', 'resembles', 'a', 'high-speed', 'collision', '', '', '|', 'henry', 'spencer', '@', 'u', 'of', 'toronto', 'zoology'], ['between', 'svr3', 'and', 'sunos.', '', '', '', '-', 'dick', 'dunn', '', '|', '', 'henry@zoo.toronto.edu', '', 'utzoo!henry'], [''], [''], [''], ['in', 'article', '<1993apr20.152819.28186@ke4zv.uucp>', 'gary@ke4zv.uucp', '(gary', 'coffman)', 'writes:'], [''], ['>', 'be', 'the', 'site', 'of', 'major', 'commercial', 'activity.', 'as', 'far', 'as', 'we', 'know', 'it', 'has', 'no'], ['>', 'materials', 'we', \"can't\", 'get', 'cheaper', 'right', 'here', 'on', 'earth', 'or', 'from', 'asteroids'], ['>', 'and', 'comets,', 'aside', 'from', 'the', 'semi-mythic', 'he3', 'that', '*might*', 'be', 'useful', 'in', 'low'], ['>', 'grade', 'fusion', 'reactors.'], [''], ['i', \"don't\", 'know', 'what', 'a', '\"low', 'grade\"', 'fusion', 'reactor', 'is,', 'but', 'the', 'major'], ['problem', 'with', '3he', '(aside', 'from', 'the', 'difficulty', 'in', 'making', 'any', 'fusion'], ['reactor', 'work)', 'is', 'that', 'its', 'concentration', 'in', 'lunar', 'regolith', 'is', 'just', 'so'], ['small', '--', 'on', 'the', 'order', 'of', '5', 'ppb', 'or', 'so,', 'on', 'average', '(more', 'in', 'some'], ['fractions,', 'but', 'still', 'very', 'small).', '', 'massive', 'amounts', 'of', 'regolith', 'would'], ['have', 'to', 'be', 'processed.'], [''], ['this', 'thread', 'reminds', 'me', 'of', \"wingo's\", 'claims', 'some', 'time', 'ago', 'about', 'the', 'moon'], ['as', 'a', 'source', 'of', 'titanium', 'for', 'use', 'on', 'earth.', '', 'as', 'i', 'recall,', 'wingo', \"wasn't\"], ['content', 'with', 'being', 'assured', 'that', 'titanium', '(at', '.5%', 'in', 'the', \"earth's\", 'crust,'], ['average)', 'would', 'not', 'run', 'out,', 'and', 'touted', 'lunar', 'mines,', 'even', 'though', 'the'], ['market', 'price', 'of', 'ilmenite', 'concentrate', 'these', 'days', 'is', 'around', '$.06/pound.'], ['this', 'prompted', 'me', 'to', 'look', 'up', 'large', 'potential', 'terrestrial', 'sources.'], [''], ['on', 'the', 'moon,', 'titanium', 'occurs', 'in', 'basalts;', '\"high-ti\"', 'basalts', '(apollo', '11'], ['and', '17)', 'have', '8-14%', 'titanium', 'dioxide', '(by', 'weight).', '', 'this', 'is', 'nice,', 'but...'], ['terrestrial', 'continental', 'flood', 'basalts', 'are', 'also', 'typically', 'enriched', 'in'], ['titanium.', '', 'they', 'very', 'often', 'have', '3%', 'tio2,', 'frequently', 'have', '4%,', 'and'], ['sometimes', 'even', '5%', 'tio2', '(again,', 'by', 'weight).', '', 'these', 'flood', 'basalts', 'are'], ['*enormous*', '--', 'millions', 'of', 'cubic', 'kilometers,', 'scattered', 'all', 'over', 'the'], ['world', '(siberia,', 'brazil,', 'the', 'nw', 'united', 'states,', 'ethiopia,', 'etc.).', '', 'if'], ['even', '1%', 'of', 'the', 'basalts', 'are', '5%', 'tio2,', 'this', 'is', 'trillions', 'of', 'tons', 'of', 'tio2'], ['at', 'concentrations', 'only', 'a', 'factor', 'of', '2-3', 'less', 'than', 'in', 'lunar', 'high-ti'], ['basalts.', '', 'it', 'is', 'difficult', 'to', 'see', 'how', 'the', 'disadvantages', 'of', 'the', 'moon'], ['could', 'be', 'overcome', 'by', 'such', 'a', 'small', 'increase', 'the', 'concentration', 'of', 'the'], ['ore', '(never', 'mind', 'the', 'richer,', 'but', 'less', 'common,', 'terrestrial', 'ores', 'being'], ['mined', 'today).'], [''], ['paul', 'f.', 'dietz'], ['dietz@cs.rochester.edu'], [''], ['']]\n",
      "labels:\n",
      " [2, 2, 2, 2, 2, 2, 2, 2, 2, 2, 2, 1, 1, 1, 1, 1, 1, 1, 1, 1, 1, 1, 1, 1, 1, 1, 1, 1, 1, 1, 1, 1, 1, 1, 1, 1, 1, 1, 1, 1, 1, 1, 1, 1, 1, 1, 1, 1, 1, 1, 1, 1, 1, 0, 0, 0, 0, 0, 0, 0, 0, 0, 1, 1, 1, 1, 1, 1, 1, 1, 1, 1, 1, 1, 1, 1, 1, 1, 1, 1, 1, 2, 2, 2, 2, 2, 2, 2, 2, 2, 2, 2, 2, 2, 2, 2, 2, 2, 2, 2, 2, 2, 2, 2, 2, 2, 2, 2, 2, 2, 2, 2, 2, 2, 2, 2, 2, 2, 2, 2, 2, 2, 2, 2, 2, 2, 2, 2, 2, 2, 2, 2, 2, 2, 2, 2, 2]\n"
     ]
    }
   ],
   "source": [
    "# full code \n",
    "\n",
    "texts = []  # list of text samples\n",
    "texts_w2v = []  # used to train the word embeddings\n",
    "labels = []  # list of label ids\n",
    "\n",
    "for index in range(len(data)):\n",
    "    label_id = data.target[index]\n",
    "    file_data = data.data[index]\n",
    "    i = file_data.find('\\n\\n')  # skip header\n",
    "    if i > 0:\n",
    "        file_data = file_data[i:]\n",
    "    try:\n",
    "        curr_str = str(file_data)\n",
    "        sentence_list = curr_str.split('\\n')\n",
    "        for sentence in sentence_list:\n",
    "            sentence = (sentence.strip()).lower()\n",
    "            texts.append(sentence)\n",
    "            texts_w2v.append(sentence.split(' '))\n",
    "            labels.append(label_id)\n",
    "    except:\n",
    "        None\n",
    "        \n",
    "        \n",
    "print(\"texts:\\n\", texts)\n",
    "print(\"texts_w2v:\\n\", texts_w2v)\n",
    "print(\"labels:\\n\", labels)        "
   ]
  },
  {
   "cell_type": "markdown",
   "metadata": {
    "deletable": true,
    "editable": true
   },
   "source": [
    "### 데이터 준비 (한국어/실습)"
   ]
  },
  {
   "cell_type": "markdown",
   "metadata": {
    "deletable": true,
    "editable": true
   },
   "source": [
    "##### 다음 문서들을 이용해서 데이터를 만들자. \n",
    "* https://gasazip.com/view.html?no=614736\n",
    "* https://gasazip.com/1224697\n",
    "* https://gasazip.com/view.html?no=599082\n",
    "* https://gasazip.com/view.html?no=645465\n",
    "* http://gasazip.com/view.html?no=643505\n",
    "* https://gasazip.com/view.html?no=615362    "
   ]
  },
  {
   "cell_type": "code",
   "execution_count": 30,
   "metadata": {
    "collapsed": false,
    "deletable": true,
    "editable": true
   },
   "outputs": [
    {
     "name": "stdout",
     "output_type": "stream",
     "text": [
      "texts:\n",
      " []\n",
      "texts_w2v:\n",
      " []\n",
      "labels:\n",
      " []\n"
     ]
    }
   ],
   "source": [
    "# -- coding \n",
    "\n",
    "texts_kr = []  # list of text samples\n",
    "texts_w2v_kr = []  # used to train the word embeddings\n",
    "labels_kr = []  # list of label ids\n",
    "\n",
    "# -- 여기에 데이터 준비하는 코드를 만들면 된다.        \n",
    "        \n",
    "print(\"texts:\\n\", texts_kr)\n",
    "print(\"texts_w2v:\\n\", texts_w2v_kr)\n",
    "print(\"labels:\\n\", labels_kr)        "
   ]
  },
  {
   "cell_type": "markdown",
   "metadata": {
    "deletable": true,
    "editable": true
   },
   "source": [
    "## 딥러닝 모델에 입력가능한 포맷으로 변환  (영어 - 20newsgroups)\n",
    "we format our text samples and labels into tensors that can be fed into a neural network"
   ]
  },
  {
   "cell_type": "code",
   "execution_count": 31,
   "metadata": {
    "collapsed": true,
    "deletable": true,
    "editable": true
   },
   "outputs": [],
   "source": [
    "# we rely on Keras utilities keras.preprocessing.text.Tokenizer and keras.preprocessing.sequence.pad_sequences.\n",
    "\n",
    "MAX_SEQUENCE_LENGTH = 1000\n",
    "\n",
    "# Vectorize the text samples into a 2D integer tensor\n",
    "tokenizer = Tokenizer()\n",
    "tokenizer.fit_on_texts(texts)\n",
    "sequences = tokenizer.texts_to_sequences(texts)\n",
    "\n",
    "# word_index = tokenizer.word_index\n",
    "data = pad_sequences(sequences, maxlen=MAX_SEQUENCE_LENGTH)\n",
    "labels = to_categorical(np.asarray(labels))\n",
    "\n",
    "x_train = data\n",
    "y_train = labels"
   ]
  },
  {
   "cell_type": "code",
   "execution_count": 32,
   "metadata": {
    "collapsed": false,
    "deletable": true,
    "editable": true
   },
   "outputs": [
    {
     "data": {
      "text/plain": [
       "137"
      ]
     },
     "execution_count": 32,
     "metadata": {},
     "output_type": "execute_result"
    }
   ],
   "source": [
    "len(sequences)"
   ]
  },
  {
   "cell_type": "code",
   "execution_count": 33,
   "metadata": {
    "collapsed": false,
    "deletable": true,
    "editable": true
   },
   "outputs": [
    {
     "data": {
      "text/plain": [
       "[[],\n",
       " [],\n",
       " [],\n",
       " [10, 141, 15, 11, 76, 142, 14, 3, 143, 144, 145],\n",
       " [14, 146, 147, 77, 148, 149, 150, 26, 34]]"
      ]
     },
     "execution_count": 33,
     "metadata": {},
     "output_type": "execute_result"
    }
   ],
   "source": [
    "sequences[:5]"
   ]
  },
  {
   "cell_type": "code",
   "execution_count": 34,
   "metadata": {
    "collapsed": false,
    "deletable": true,
    "editable": true
   },
   "outputs": [
    {
     "data": {
      "text/plain": [
       "137"
      ]
     },
     "execution_count": 34,
     "metadata": {},
     "output_type": "execute_result"
    }
   ],
   "source": [
    "len(data)"
   ]
  },
  {
   "cell_type": "code",
   "execution_count": 35,
   "metadata": {
    "collapsed": false,
    "deletable": true,
    "editable": true
   },
   "outputs": [
    {
     "data": {
      "text/plain": [
       "array([[  0,   0,   0, ...,   0,   0,   0],\n",
       "       [  0,   0,   0, ...,   0,   0,   0],\n",
       "       [  0,   0,   0, ...,   0,   0,   0],\n",
       "       [  0,   0,   0, ..., 143, 144, 145],\n",
       "       [  0,   0,   0, ..., 150,  26,  34]], dtype=int32)"
      ]
     },
     "execution_count": 35,
     "metadata": {},
     "output_type": "execute_result"
    }
   ],
   "source": [
    "data[:5]"
   ]
  },
  {
   "cell_type": "code",
   "execution_count": 36,
   "metadata": {
    "collapsed": false,
    "deletable": true,
    "editable": true
   },
   "outputs": [
    {
     "data": {
      "text/plain": [
       "array([[ 0.,  0.,  1.],\n",
       "       [ 0.,  0.,  1.],\n",
       "       [ 0.,  0.,  1.],\n",
       "       [ 0.,  0.,  1.],\n",
       "       [ 0.,  0.,  1.]])"
      ]
     },
     "execution_count": 36,
     "metadata": {},
     "output_type": "execute_result"
    }
   ],
   "source": [
    "labels[:5]"
   ]
  },
  {
   "cell_type": "markdown",
   "metadata": {
    "deletable": true,
    "editable": true
   },
   "source": [
    "### 딥러닝 모델에 입력가능한 포맷으로 변환 (한국어/실습)"
   ]
  },
  {
   "cell_type": "code",
   "execution_count": 37,
   "metadata": {
    "collapsed": true,
    "deletable": true,
    "editable": true
   },
   "outputs": [],
   "source": [
    "# -- coding\n",
    "\n",
    "#x_train_kr \n",
    "#y_train_kr"
   ]
  },
  {
   "cell_type": "markdown",
   "metadata": {
    "deletable": true,
    "editable": true
   },
   "source": [
    "## Keras에서 사용할 embedding layer 생성 (영어 - 20newsgroups)"
   ]
  },
  {
   "cell_type": "code",
   "execution_count": 38,
   "metadata": {
    "collapsed": true,
    "deletable": true,
    "editable": true
   },
   "outputs": [],
   "source": [
    "Keras_w2v = word2vec.Word2Vec(min_count=1)\n",
    "Keras_w2v.build_vocab(texts_w2v)\n",
    "Keras_w2v.train(texts, total_examples=Keras_w2v.corpus_count, epochs=Keras_w2v.iter)\n",
    "Keras_w2v_wv = Keras_w2v.wv\n",
    "embedding_layer = Keras_w2v_wv.get_keras_embedding()"
   ]
  },
  {
   "cell_type": "markdown",
   "metadata": {
    "deletable": true,
    "editable": true
   },
   "source": [
    "### Keras에서 사용할 embedding layer 생성 (한국어/실습)"
   ]
  },
  {
   "cell_type": "code",
   "execution_count": 39,
   "metadata": {
    "collapsed": true,
    "deletable": true,
    "editable": true
   },
   "outputs": [],
   "source": [
    "# -- coding"
   ]
  },
  {
   "cell_type": "markdown",
   "metadata": {
    "deletable": true,
    "editable": true
   },
   "source": [
    "## CNN 모델 생성 및 학습 (영어 - 20newsgroups)"
   ]
  },
  {
   "cell_type": "code",
   "execution_count": 40,
   "metadata": {
    "collapsed": false,
    "deletable": true,
    "editable": true
   },
   "outputs": [
    {
     "name": "stdout",
     "output_type": "stream",
     "text": [
      "Epoch 1/5\n",
      "137/137 [==============================] - 2s 17ms/step - loss: 1.0221 - acc: 0.4380\b\b\b\b\b\b\b\b\b\b\b\b\b\b\b\b\b\b\b\b\b\b\b\b\b\b\b\b\b\b\b\b\b\b\b\b\b\b\b\b\b\b\b\b\b\b\b\b\b\b\b\b\b\b\b\b\b\b\b\b\b\b\b\b\b\b\b\b\b\b\b\b\b\b\b\b\b\b\b\b\b\b\b\b\b\b\b\b\b\b\b\b\b\b\b\b\b\b\b\b\b\b\b\b\b\b\b\b\b\b\b\b\b\b\b\b\b\b\b\b\b\b\b\b\b\b\b\b\b\b\b\b\b\b\b\b\b\b\b\b\b\b\b\b\b\b\b\b\b\b\b\b\b\b\b\b\b\b\b\b\b\b\b\b\b\b\b\b\b\b\b\b\b\b\b\b\b\b\b\b\b\b\b\b\b\b\b\b\b\b\b\b\b\b\b\b\b\b\b\b\b\b\b\b\b\b\b\b\b\b\b\b\b\b\b\b\b\b\b\b\b\b\b\b\b\b\b\b\b\b\b\b\b\b\b\b\b\b\b\b\b\b\b\b\b\b\b\b\b\b\b\b\b\b\b\b\b\b\b\b\b\b\b\b\b\b\b\b\b\b\b\b\b\b\b\b\b\b\b\b\b\b\b\b\b\b\b\b\b\b\b\b\b\b\b\b\b\b\b\b\b\b\b\b\b\b\b\b\b\b\b\n",
      "Epoch 2/5\n",
      "137/137 [==============================] - 2s 15ms/step - loss: 0.9463 - acc: 0.4599\b\b\b\b\b\b\b\b\b\b\b\b\b\b\b\b\b\b\b\b\b\b\b\b\b\b\b\b\b\b\b\b\b\b\b\b\b\b\b\b\b\b\b\b\b\b\b\b\b\b\b\b\b\b\b\b\b\b\b\b\b\b\b\b\b\b\b\b\b\b\b\b\b\b\b\b\b\b\b\b\b\b\b\b\b\b\b\b\b\b\b\b\b\b\b\b\b\b\b\b\b\b\b\b\b\b\b\b\b\b\b\b\b\b\b\b\b\b\b\b\b\b\b\b\b\b\b\b\b\b\b\b\b\b\b\b\b\b\b\b\b\b\b\b\b\b\b\b\b\b\b\b\b\b\b\b\b\b\b\b\b\b\b\b\b\b\b\b\b\b\b\b\b\b\b\b\b\b\b\b\b\b\b\b\b\b\b\b\b\b\b\b\b\b\b\b\b\b\b\b\b\b\b\b\b\b\b\b\b\b\b\b\b\b\b\b\b\b\b\b\b\b\b\b\b\b\b\b\b\b\b\b\b\b\b\b\b\b\b\b\b\b\b\b\b\b\b\b\b\b\b\b\b\b\b\b\b\b\b\b\b\b\b\b\b\b\b\b\b\b\b\b\b\b\b\b\b\b\b\b\b\b\b\b\b\b\b\b\b\b\b\b\b\b\b\b\b\b\b\b\b\b\b\b\b\b\b\b\b\b\b\n",
      "Epoch 3/5\n",
      "137/137 [==============================] - 2s 15ms/step - loss: 0.9012 - acc: 0.4234\b\b\b\b\b\b\b\b\b\b\b\b\b\b\b\b\b\b\b\b\b\b\b\b\b\b\b\b\b\b\b\b\b\b\b\b\b\b\b\b\b\b\b\b\b\b\b\b\b\b\b\b\b\b\b\b\b\b\b\b\b\b\b\b\b\b\b\b\b\b\b\b\b\b\b\b\b\b\b\b\b\b\b\b\b\b\b\b\b\b\b\b\b\b\b\b\b\b\b\b\b\b\b\b\b\b\b\b\b\b\b\b\b\b\b\b\b\b\b\b\b\b\b\b\b\b\b\b\b\b\b\b\b\b\b\b\b\b\b\b\b\b\b\b\b\b\b\b\b\b\b\b\b\b\b\b\b\b\b\b\b\b\b\b\b\b\b\b\b\b\b\b\b\b\b\b\b\b\b\b\b\b\b\b\b\b\b\b\b\b\b\b\b\b\b\b\b\b\b\b\b\b\b\b\b\b\b\b\b\b\b\b\b\b\b\b\b\b\b\b\b\b\b\b\b\b\b\b\b\b\b\b\b\b\b\b\b\b\b\b\b\b\b\b\b\b\b\b\b\b\b\b\b\b\b\b\b\b\b\b\b\b\b\b\b\b\b\b\b\b\b\b\b\b\b\b\b\b\b\b\b\b\b\b\b\b\b\b\b\b\b\b\b\b\b\b\b\b\b\b\b\b\b\b\b\b\b\b\b\b\b\n",
      "Epoch 4/5\n",
      "137/137 [==============================] - 2s 16ms/step - loss: 0.9040 - acc: 0.4891\b\b\b\b\b\b\b\b\b\b\b\b\b\b\b\b\b\b\b\b\b\b\b\b\b\b\b\b\b\b\b\b\b\b\b\b\b\b\b\b\b\b\b\b\b\b\b\b\b\b\b\b\b\b\b\b\b\b\b\b\b\b\b\b\b\b\b\b\b\b\b\b\b\b\b\b\b\b\b\b\b\b\b\b\b\b\b\b\b\b\b\b\b\b\b\b\b\b\b\b\b\b\b\b\b\b\b\b\b\b\b\b\b\b\b\b\b\b\b\b\b\b\b\b\b\b\b\b\b\b\b\b\b\b\b\b\b\b\b\b\b\b\b\b\b\b\b\b\b\b\b\b\b\b\b\b\b\b\b\b\b\b\b\b\b\b\b\b\b\b\b\b\b\b\b\b\b\b\b\b\b\b\b\b\b\b\b\b\b\b\b\b\b\b\b\b\b\b\b\b\b\b\b\b\b\b\b\b\b\b\b\b\b\b\b\b\b\b\b\b\b\b\b\b\b\b\b\b\b\b\b\b\b\b\b\b\b\b\b\b\b\b\b\b\b\b\b\b\b\b\b\b\b\b\b\b\b\b\b\b\b\b\b\b\b\b\b\b\b\b\b\b\b\b\b\b\b\b\b\b\b\b\b\b\b\b\b\b\b\b\b\b\b\b\b\b\b\b\b\b\b\b\b\b\b\b\b\b\b\b\b\n",
      "Epoch 5/5\n",
      "137/137 [==============================] - 3s 24ms/step - loss: 0.8657 - acc: 0.4453\b\b\b\b\b\b\b\b\b\b\b\b\b\b\b\b\b\b\b\b\b\b\b\b\b\b\b\b\b\b\b\b\b\b\b\b\b\b\b\b\b\b\b\b\b\b\b\b\b\b\b\b\b\b\b\b\b\b\b\b\b\b\b\b\b\b\b\b\b\b\b\b\b\b\b\b\b\b\b\b\b\b\b\b\b\b\b\b\b\b\b\b\b\b\b\b\b\b\b\b\b\b\b\b\b\b\b\b\b\b\b\b\b\b\b\b\b\b\b\b\b\b\b\b\b\b\b\b\b\b\b\b\b\b\b\b\b\b\b\b\b\b\b\b\b\b\b\b\b\b\b\b\b\b\b\b\b\b\b\b\b\b\b\b\b\b\b\b\b\b\b\b\b\b\b\b\b\b\b\b\b\b\b\b\b\b\b\b\b\b\b\b\b\b\b\b\b\b\b\b\b\b\b\b\b\b\b\b\b\b\b\b\b\b\b\b\b\b\b\b\b\b\b\b\b\b\b\b\b\b\b\b\b\b\b\b\b\b\b\b\b\b\b\b\b\b\b\b\b\b\b\b\b\b\b\b\b\b\b\b\b\b\b\b\b\b\b\b\b\b\b\b\b\b\b\b\b\b\b\b\b\b\b\b\b\b\b\b\b\b\b\b\b\b\b\b\b\b\b\b\b\b\b\b\b\b\b\b\b\b\b\n"
     ]
    },
    {
     "data": {
      "text/plain": [
       "<keras.callbacks.History at 0x7fbbf2c674e0>"
      ]
     },
     "execution_count": 40,
     "metadata": {},
     "output_type": "execute_result"
    }
   ],
   "source": [
    "# Finally, we create a small 1D convnet to solve our classification problem.\n",
    "\n",
    "sequence_input = Input(shape=(MAX_SEQUENCE_LENGTH,), dtype='int32')\n",
    "embedded_sequences = embedding_layer(sequence_input)\n",
    "x = Conv1D(128, 5, activation='relu')(embedded_sequences)\n",
    "x = MaxPooling1D(5)(x)\n",
    "x = Conv1D(128, 5, activation='relu')(x)\n",
    "x = MaxPooling1D(5)(x)\n",
    "x = Conv1D(128, 5, activation='relu')(x)\n",
    "x = MaxPooling1D(35)(x)  # global max pooling\n",
    "x = Flatten()(x)\n",
    "x = Dense(128, activation='relu')(x)\n",
    "preds = Dense(y_train.shape[1], activation='softmax')(x)\n",
    "\n",
    "model = Model(sequence_input, preds)\n",
    "model.compile(loss='categorical_crossentropy', optimizer='rmsprop', metrics=['acc'])\n",
    "\n",
    "model.fit(x_train, y_train, epochs=5)"
   ]
  },
  {
   "cell_type": "code",
   "execution_count": 41,
   "metadata": {
    "collapsed": false,
    "deletable": true,
    "editable": true
   },
   "outputs": [
    {
     "data": {
      "image/svg+xml": [
       "<svg height=\"885pt\" viewBox=\"0.00 0.00 380.00 885.00\" width=\"380pt\" xmlns=\"http://www.w3.org/2000/svg\" xmlns:xlink=\"http://www.w3.org/1999/xlink\">\n",
       "<g class=\"graph\" id=\"graph0\" transform=\"scale(1 1) rotate(0) translate(4 881)\">\n",
       "<title>G</title>\n",
       "<polygon fill=\"white\" points=\"-4,4 -4,-881 376,-881 376,4 -4,4\" stroke=\"none\"/>\n",
       "<!-- 140443876486336 -->\n",
       "<g class=\"node\" id=\"node1\"><title>140443876486336</title>\n",
       "<polygon fill=\"none\" points=\"51.5,-830.5 51.5,-876.5 320.5,-876.5 320.5,-830.5 51.5,-830.5\" stroke=\"black\"/>\n",
       "<text font-family=\"Times,serif\" font-size=\"14.00\" text-anchor=\"middle\" x=\"114\" y=\"-849.8\">input_1: InputLayer</text>\n",
       "<polyline fill=\"none\" points=\"176.5,-830.5 176.5,-876.5 \" stroke=\"black\"/>\n",
       "<text font-family=\"Times,serif\" font-size=\"14.00\" text-anchor=\"middle\" x=\"204\" y=\"-861.3\">input:</text>\n",
       "<polyline fill=\"none\" points=\"176.5,-853.5 231.5,-853.5 \" stroke=\"black\"/>\n",
       "<text font-family=\"Times,serif\" font-size=\"14.00\" text-anchor=\"middle\" x=\"204\" y=\"-838.3\">output:</text>\n",
       "<polyline fill=\"none\" points=\"231.5,-830.5 231.5,-876.5 \" stroke=\"black\"/>\n",
       "<text font-family=\"Times,serif\" font-size=\"14.00\" text-anchor=\"middle\" x=\"276\" y=\"-861.3\">(None, 1000)</text>\n",
       "<polyline fill=\"none\" points=\"231.5,-853.5 320.5,-853.5 \" stroke=\"black\"/>\n",
       "<text font-family=\"Times,serif\" font-size=\"14.00\" text-anchor=\"middle\" x=\"276\" y=\"-838.3\">(None, 1000)</text>\n",
       "</g>\n",
       "<!-- 140443854506248 -->\n",
       "<g class=\"node\" id=\"node2\"><title>140443854506248</title>\n",
       "<polygon fill=\"none\" points=\"19.5,-747.5 19.5,-793.5 352.5,-793.5 352.5,-747.5 19.5,-747.5\" stroke=\"black\"/>\n",
       "<text font-family=\"Times,serif\" font-size=\"14.00\" text-anchor=\"middle\" x=\"100\" y=\"-766.8\">embedding_2: Embedding</text>\n",
       "<polyline fill=\"none\" points=\"180.5,-747.5 180.5,-793.5 \" stroke=\"black\"/>\n",
       "<text font-family=\"Times,serif\" font-size=\"14.00\" text-anchor=\"middle\" x=\"208\" y=\"-778.3\">input:</text>\n",
       "<polyline fill=\"none\" points=\"180.5,-770.5 235.5,-770.5 \" stroke=\"black\"/>\n",
       "<text font-family=\"Times,serif\" font-size=\"14.00\" text-anchor=\"middle\" x=\"208\" y=\"-755.3\">output:</text>\n",
       "<polyline fill=\"none\" points=\"235.5,-747.5 235.5,-793.5 \" stroke=\"black\"/>\n",
       "<text font-family=\"Times,serif\" font-size=\"14.00\" text-anchor=\"middle\" x=\"294\" y=\"-778.3\">(None, 1000)</text>\n",
       "<polyline fill=\"none\" points=\"235.5,-770.5 352.5,-770.5 \" stroke=\"black\"/>\n",
       "<text font-family=\"Times,serif\" font-size=\"14.00\" text-anchor=\"middle\" x=\"294\" y=\"-755.3\">(None, 1000, 100)</text>\n",
       "</g>\n",
       "<!-- 140443876486336&#45;&gt;140443854506248 -->\n",
       "<g class=\"edge\" id=\"edge1\"><title>140443876486336-&gt;140443854506248</title>\n",
       "<path d=\"M186,-830.366C186,-822.152 186,-812.658 186,-803.725\" fill=\"none\" stroke=\"black\"/>\n",
       "<polygon fill=\"black\" points=\"189.5,-803.607 186,-793.607 182.5,-803.607 189.5,-803.607\" stroke=\"black\"/>\n",
       "</g>\n",
       "<!-- 140443876486448 -->\n",
       "<g class=\"node\" id=\"node3\"><title>140443876486448</title>\n",
       "<polygon fill=\"none\" points=\"38.5,-664.5 38.5,-710.5 333.5,-710.5 333.5,-664.5 38.5,-664.5\" stroke=\"black\"/>\n",
       "<text font-family=\"Times,serif\" font-size=\"14.00\" text-anchor=\"middle\" x=\"100\" y=\"-683.8\">conv1d_1: Conv1D</text>\n",
       "<polyline fill=\"none\" points=\"161.5,-664.5 161.5,-710.5 \" stroke=\"black\"/>\n",
       "<text font-family=\"Times,serif\" font-size=\"14.00\" text-anchor=\"middle\" x=\"189\" y=\"-695.3\">input:</text>\n",
       "<polyline fill=\"none\" points=\"161.5,-687.5 216.5,-687.5 \" stroke=\"black\"/>\n",
       "<text font-family=\"Times,serif\" font-size=\"14.00\" text-anchor=\"middle\" x=\"189\" y=\"-672.3\">output:</text>\n",
       "<polyline fill=\"none\" points=\"216.5,-664.5 216.5,-710.5 \" stroke=\"black\"/>\n",
       "<text font-family=\"Times,serif\" font-size=\"14.00\" text-anchor=\"middle\" x=\"275\" y=\"-695.3\">(None, 1000, 100)</text>\n",
       "<polyline fill=\"none\" points=\"216.5,-687.5 333.5,-687.5 \" stroke=\"black\"/>\n",
       "<text font-family=\"Times,serif\" font-size=\"14.00\" text-anchor=\"middle\" x=\"275\" y=\"-672.3\">(None, 996, 128)</text>\n",
       "</g>\n",
       "<!-- 140443854506248&#45;&gt;140443876486448 -->\n",
       "<g class=\"edge\" id=\"edge2\"><title>140443854506248-&gt;140443876486448</title>\n",
       "<path d=\"M186,-747.366C186,-739.152 186,-729.658 186,-720.725\" fill=\"none\" stroke=\"black\"/>\n",
       "<polygon fill=\"black\" points=\"189.5,-720.607 186,-710.607 182.5,-720.607 189.5,-720.607\" stroke=\"black\"/>\n",
       "</g>\n",
       "<!-- 140443876402344 -->\n",
       "<g class=\"node\" id=\"node4\"><title>140443876402344</title>\n",
       "<polygon fill=\"none\" points=\"-2.84217e-14,-581.5 -2.84217e-14,-627.5 372,-627.5 372,-581.5 -2.84217e-14,-581.5\" stroke=\"black\"/>\n",
       "<text font-family=\"Times,serif\" font-size=\"14.00\" text-anchor=\"middle\" x=\"103.5\" y=\"-600.8\">max_pooling1d_1: MaxPooling1D</text>\n",
       "<polyline fill=\"none\" points=\"207,-581.5 207,-627.5 \" stroke=\"black\"/>\n",
       "<text font-family=\"Times,serif\" font-size=\"14.00\" text-anchor=\"middle\" x=\"234.5\" y=\"-612.3\">input:</text>\n",
       "<polyline fill=\"none\" points=\"207,-604.5 262,-604.5 \" stroke=\"black\"/>\n",
       "<text font-family=\"Times,serif\" font-size=\"14.00\" text-anchor=\"middle\" x=\"234.5\" y=\"-589.3\">output:</text>\n",
       "<polyline fill=\"none\" points=\"262,-581.5 262,-627.5 \" stroke=\"black\"/>\n",
       "<text font-family=\"Times,serif\" font-size=\"14.00\" text-anchor=\"middle\" x=\"317\" y=\"-612.3\">(None, 996, 128)</text>\n",
       "<polyline fill=\"none\" points=\"262,-604.5 372,-604.5 \" stroke=\"black\"/>\n",
       "<text font-family=\"Times,serif\" font-size=\"14.00\" text-anchor=\"middle\" x=\"317\" y=\"-589.3\">(None, 199, 128)</text>\n",
       "</g>\n",
       "<!-- 140443876486448&#45;&gt;140443876402344 -->\n",
       "<g class=\"edge\" id=\"edge3\"><title>140443876486448-&gt;140443876402344</title>\n",
       "<path d=\"M186,-664.366C186,-656.152 186,-646.658 186,-637.725\" fill=\"none\" stroke=\"black\"/>\n",
       "<polygon fill=\"black\" points=\"189.5,-637.607 186,-627.607 182.5,-637.607 189.5,-637.607\" stroke=\"black\"/>\n",
       "</g>\n",
       "<!-- 140443851317992 -->\n",
       "<g class=\"node\" id=\"node5\"><title>140443851317992</title>\n",
       "<polygon fill=\"none\" points=\"42,-498.5 42,-544.5 330,-544.5 330,-498.5 42,-498.5\" stroke=\"black\"/>\n",
       "<text font-family=\"Times,serif\" font-size=\"14.00\" text-anchor=\"middle\" x=\"103.5\" y=\"-517.8\">conv1d_2: Conv1D</text>\n",
       "<polyline fill=\"none\" points=\"165,-498.5 165,-544.5 \" stroke=\"black\"/>\n",
       "<text font-family=\"Times,serif\" font-size=\"14.00\" text-anchor=\"middle\" x=\"192.5\" y=\"-529.3\">input:</text>\n",
       "<polyline fill=\"none\" points=\"165,-521.5 220,-521.5 \" stroke=\"black\"/>\n",
       "<text font-family=\"Times,serif\" font-size=\"14.00\" text-anchor=\"middle\" x=\"192.5\" y=\"-506.3\">output:</text>\n",
       "<polyline fill=\"none\" points=\"220,-498.5 220,-544.5 \" stroke=\"black\"/>\n",
       "<text font-family=\"Times,serif\" font-size=\"14.00\" text-anchor=\"middle\" x=\"275\" y=\"-529.3\">(None, 199, 128)</text>\n",
       "<polyline fill=\"none\" points=\"220,-521.5 330,-521.5 \" stroke=\"black\"/>\n",
       "<text font-family=\"Times,serif\" font-size=\"14.00\" text-anchor=\"middle\" x=\"275\" y=\"-506.3\">(None, 195, 128)</text>\n",
       "</g>\n",
       "<!-- 140443876402344&#45;&gt;140443851317992 -->\n",
       "<g class=\"edge\" id=\"edge4\"><title>140443876402344-&gt;140443851317992</title>\n",
       "<path d=\"M186,-581.366C186,-573.152 186,-563.658 186,-554.725\" fill=\"none\" stroke=\"black\"/>\n",
       "<polygon fill=\"black\" points=\"189.5,-554.607 186,-544.607 182.5,-554.607 189.5,-554.607\" stroke=\"black\"/>\n",
       "</g>\n",
       "<!-- 140443851382856 -->\n",
       "<g class=\"node\" id=\"node6\"><title>140443851382856</title>\n",
       "<polygon fill=\"none\" points=\"-2.84217e-14,-415.5 -2.84217e-14,-461.5 372,-461.5 372,-415.5 -2.84217e-14,-415.5\" stroke=\"black\"/>\n",
       "<text font-family=\"Times,serif\" font-size=\"14.00\" text-anchor=\"middle\" x=\"103.5\" y=\"-434.8\">max_pooling1d_2: MaxPooling1D</text>\n",
       "<polyline fill=\"none\" points=\"207,-415.5 207,-461.5 \" stroke=\"black\"/>\n",
       "<text font-family=\"Times,serif\" font-size=\"14.00\" text-anchor=\"middle\" x=\"234.5\" y=\"-446.3\">input:</text>\n",
       "<polyline fill=\"none\" points=\"207,-438.5 262,-438.5 \" stroke=\"black\"/>\n",
       "<text font-family=\"Times,serif\" font-size=\"14.00\" text-anchor=\"middle\" x=\"234.5\" y=\"-423.3\">output:</text>\n",
       "<polyline fill=\"none\" points=\"262,-415.5 262,-461.5 \" stroke=\"black\"/>\n",
       "<text font-family=\"Times,serif\" font-size=\"14.00\" text-anchor=\"middle\" x=\"317\" y=\"-446.3\">(None, 195, 128)</text>\n",
       "<polyline fill=\"none\" points=\"262,-438.5 372,-438.5 \" stroke=\"black\"/>\n",
       "<text font-family=\"Times,serif\" font-size=\"14.00\" text-anchor=\"middle\" x=\"317\" y=\"-423.3\">(None, 39, 128)</text>\n",
       "</g>\n",
       "<!-- 140443851317992&#45;&gt;140443851382856 -->\n",
       "<g class=\"edge\" id=\"edge5\"><title>140443851317992-&gt;140443851382856</title>\n",
       "<path d=\"M186,-498.366C186,-490.152 186,-480.658 186,-471.725\" fill=\"none\" stroke=\"black\"/>\n",
       "<polygon fill=\"black\" points=\"189.5,-471.607 186,-461.607 182.5,-471.607 189.5,-471.607\" stroke=\"black\"/>\n",
       "</g>\n",
       "<!-- 140443902257360 -->\n",
       "<g class=\"node\" id=\"node7\"><title>140443902257360</title>\n",
       "<polygon fill=\"none\" points=\"45,-332.5 45,-378.5 327,-378.5 327,-332.5 45,-332.5\" stroke=\"black\"/>\n",
       "<text font-family=\"Times,serif\" font-size=\"14.00\" text-anchor=\"middle\" x=\"106.5\" y=\"-351.8\">conv1d_3: Conv1D</text>\n",
       "<polyline fill=\"none\" points=\"168,-332.5 168,-378.5 \" stroke=\"black\"/>\n",
       "<text font-family=\"Times,serif\" font-size=\"14.00\" text-anchor=\"middle\" x=\"195.5\" y=\"-363.3\">input:</text>\n",
       "<polyline fill=\"none\" points=\"168,-355.5 223,-355.5 \" stroke=\"black\"/>\n",
       "<text font-family=\"Times,serif\" font-size=\"14.00\" text-anchor=\"middle\" x=\"195.5\" y=\"-340.3\">output:</text>\n",
       "<polyline fill=\"none\" points=\"223,-332.5 223,-378.5 \" stroke=\"black\"/>\n",
       "<text font-family=\"Times,serif\" font-size=\"14.00\" text-anchor=\"middle\" x=\"275\" y=\"-363.3\">(None, 39, 128)</text>\n",
       "<polyline fill=\"none\" points=\"223,-355.5 327,-355.5 \" stroke=\"black\"/>\n",
       "<text font-family=\"Times,serif\" font-size=\"14.00\" text-anchor=\"middle\" x=\"275\" y=\"-340.3\">(None, 35, 128)</text>\n",
       "</g>\n",
       "<!-- 140443851382856&#45;&gt;140443902257360 -->\n",
       "<g class=\"edge\" id=\"edge6\"><title>140443851382856-&gt;140443902257360</title>\n",
       "<path d=\"M186,-415.366C186,-407.152 186,-397.658 186,-388.725\" fill=\"none\" stroke=\"black\"/>\n",
       "<polygon fill=\"black\" points=\"189.5,-388.607 186,-378.607 182.5,-388.607 189.5,-388.607\" stroke=\"black\"/>\n",
       "</g>\n",
       "<!-- 140443893228824 -->\n",
       "<g class=\"node\" id=\"node8\"><title>140443893228824</title>\n",
       "<polygon fill=\"none\" points=\"3,-249.5 3,-295.5 369,-295.5 369,-249.5 3,-249.5\" stroke=\"black\"/>\n",
       "<text font-family=\"Times,serif\" font-size=\"14.00\" text-anchor=\"middle\" x=\"106.5\" y=\"-268.8\">max_pooling1d_3: MaxPooling1D</text>\n",
       "<polyline fill=\"none\" points=\"210,-249.5 210,-295.5 \" stroke=\"black\"/>\n",
       "<text font-family=\"Times,serif\" font-size=\"14.00\" text-anchor=\"middle\" x=\"237.5\" y=\"-280.3\">input:</text>\n",
       "<polyline fill=\"none\" points=\"210,-272.5 265,-272.5 \" stroke=\"black\"/>\n",
       "<text font-family=\"Times,serif\" font-size=\"14.00\" text-anchor=\"middle\" x=\"237.5\" y=\"-257.3\">output:</text>\n",
       "<polyline fill=\"none\" points=\"265,-249.5 265,-295.5 \" stroke=\"black\"/>\n",
       "<text font-family=\"Times,serif\" font-size=\"14.00\" text-anchor=\"middle\" x=\"317\" y=\"-280.3\">(None, 35, 128)</text>\n",
       "<polyline fill=\"none\" points=\"265,-272.5 369,-272.5 \" stroke=\"black\"/>\n",
       "<text font-family=\"Times,serif\" font-size=\"14.00\" text-anchor=\"middle\" x=\"317\" y=\"-257.3\">(None, 1, 128)</text>\n",
       "</g>\n",
       "<!-- 140443902257360&#45;&gt;140443893228824 -->\n",
       "<g class=\"edge\" id=\"edge7\"><title>140443902257360-&gt;140443893228824</title>\n",
       "<path d=\"M186,-332.366C186,-324.152 186,-314.658 186,-305.725\" fill=\"none\" stroke=\"black\"/>\n",
       "<polygon fill=\"black\" points=\"189.5,-305.607 186,-295.607 182.5,-305.607 189.5,-305.607\" stroke=\"black\"/>\n",
       "</g>\n",
       "<!-- 140443876517200 -->\n",
       "<g class=\"node\" id=\"node9\"><title>140443876517200</title>\n",
       "<polygon fill=\"none\" points=\"55,-166.5 55,-212.5 317,-212.5 317,-166.5 55,-166.5\" stroke=\"black\"/>\n",
       "<text font-family=\"Times,serif\" font-size=\"14.00\" text-anchor=\"middle\" x=\"110\" y=\"-185.8\">flatten_1: Flatten</text>\n",
       "<polyline fill=\"none\" points=\"165,-166.5 165,-212.5 \" stroke=\"black\"/>\n",
       "<text font-family=\"Times,serif\" font-size=\"14.00\" text-anchor=\"middle\" x=\"192.5\" y=\"-197.3\">input:</text>\n",
       "<polyline fill=\"none\" points=\"165,-189.5 220,-189.5 \" stroke=\"black\"/>\n",
       "<text font-family=\"Times,serif\" font-size=\"14.00\" text-anchor=\"middle\" x=\"192.5\" y=\"-174.3\">output:</text>\n",
       "<polyline fill=\"none\" points=\"220,-166.5 220,-212.5 \" stroke=\"black\"/>\n",
       "<text font-family=\"Times,serif\" font-size=\"14.00\" text-anchor=\"middle\" x=\"268.5\" y=\"-197.3\">(None, 1, 128)</text>\n",
       "<polyline fill=\"none\" points=\"220,-189.5 317,-189.5 \" stroke=\"black\"/>\n",
       "<text font-family=\"Times,serif\" font-size=\"14.00\" text-anchor=\"middle\" x=\"268.5\" y=\"-174.3\">(None, 128)</text>\n",
       "</g>\n",
       "<!-- 140443893228824&#45;&gt;140443876517200 -->\n",
       "<g class=\"edge\" id=\"edge8\"><title>140443893228824-&gt;140443876517200</title>\n",
       "<path d=\"M186,-249.366C186,-241.152 186,-231.658 186,-222.725\" fill=\"none\" stroke=\"black\"/>\n",
       "<polygon fill=\"black\" points=\"189.5,-222.607 186,-212.607 182.5,-222.607 189.5,-222.607\" stroke=\"black\"/>\n",
       "</g>\n",
       "<!-- 140443857164440 -->\n",
       "<g class=\"node\" id=\"node10\"><title>140443857164440</title>\n",
       "<polygon fill=\"none\" points=\"66,-83.5 66,-129.5 306,-129.5 306,-83.5 66,-83.5\" stroke=\"black\"/>\n",
       "<text font-family=\"Times,serif\" font-size=\"14.00\" text-anchor=\"middle\" x=\"117\" y=\"-102.8\">dense_1: Dense</text>\n",
       "<polyline fill=\"none\" points=\"168,-83.5 168,-129.5 \" stroke=\"black\"/>\n",
       "<text font-family=\"Times,serif\" font-size=\"14.00\" text-anchor=\"middle\" x=\"195.5\" y=\"-114.3\">input:</text>\n",
       "<polyline fill=\"none\" points=\"168,-106.5 223,-106.5 \" stroke=\"black\"/>\n",
       "<text font-family=\"Times,serif\" font-size=\"14.00\" text-anchor=\"middle\" x=\"195.5\" y=\"-91.3\">output:</text>\n",
       "<polyline fill=\"none\" points=\"223,-83.5 223,-129.5 \" stroke=\"black\"/>\n",
       "<text font-family=\"Times,serif\" font-size=\"14.00\" text-anchor=\"middle\" x=\"264.5\" y=\"-114.3\">(None, 128)</text>\n",
       "<polyline fill=\"none\" points=\"223,-106.5 306,-106.5 \" stroke=\"black\"/>\n",
       "<text font-family=\"Times,serif\" font-size=\"14.00\" text-anchor=\"middle\" x=\"264.5\" y=\"-91.3\">(None, 128)</text>\n",
       "</g>\n",
       "<!-- 140443876517200&#45;&gt;140443857164440 -->\n",
       "<g class=\"edge\" id=\"edge9\"><title>140443876517200-&gt;140443857164440</title>\n",
       "<path d=\"M186,-166.366C186,-158.152 186,-148.658 186,-139.725\" fill=\"none\" stroke=\"black\"/>\n",
       "<polygon fill=\"black\" points=\"189.5,-139.607 186,-129.607 182.5,-139.607 189.5,-139.607\" stroke=\"black\"/>\n",
       "</g>\n",
       "<!-- 140443857163488 -->\n",
       "<g class=\"node\" id=\"node11\"><title>140443857163488</title>\n",
       "<polygon fill=\"none\" points=\"66,-0.5 66,-46.5 306,-46.5 306,-0.5 66,-0.5\" stroke=\"black\"/>\n",
       "<text font-family=\"Times,serif\" font-size=\"14.00\" text-anchor=\"middle\" x=\"117\" y=\"-19.8\">dense_2: Dense</text>\n",
       "<polyline fill=\"none\" points=\"168,-0.5 168,-46.5 \" stroke=\"black\"/>\n",
       "<text font-family=\"Times,serif\" font-size=\"14.00\" text-anchor=\"middle\" x=\"195.5\" y=\"-31.3\">input:</text>\n",
       "<polyline fill=\"none\" points=\"168,-23.5 223,-23.5 \" stroke=\"black\"/>\n",
       "<text font-family=\"Times,serif\" font-size=\"14.00\" text-anchor=\"middle\" x=\"195.5\" y=\"-8.3\">output:</text>\n",
       "<polyline fill=\"none\" points=\"223,-0.5 223,-46.5 \" stroke=\"black\"/>\n",
       "<text font-family=\"Times,serif\" font-size=\"14.00\" text-anchor=\"middle\" x=\"264.5\" y=\"-31.3\">(None, 128)</text>\n",
       "<polyline fill=\"none\" points=\"223,-23.5 306,-23.5 \" stroke=\"black\"/>\n",
       "<text font-family=\"Times,serif\" font-size=\"14.00\" text-anchor=\"middle\" x=\"264.5\" y=\"-8.3\">(None, 3)</text>\n",
       "</g>\n",
       "<!-- 140443857164440&#45;&gt;140443857163488 -->\n",
       "<g class=\"edge\" id=\"edge10\"><title>140443857164440-&gt;140443857163488</title>\n",
       "<path d=\"M186,-83.3664C186,-75.1516 186,-65.6579 186,-56.7252\" fill=\"none\" stroke=\"black\"/>\n",
       "<polygon fill=\"black\" points=\"189.5,-56.6068 186,-46.6068 182.5,-56.6069 189.5,-56.6068\" stroke=\"black\"/>\n",
       "</g>\n",
       "</g>\n",
       "</svg>"
      ],
      "text/plain": [
       "<IPython.core.display.SVG object>"
      ]
     },
     "execution_count": 41,
     "metadata": {},
     "output_type": "execute_result"
    }
   ],
   "source": [
    "from IPython.display import SVG\n",
    "from keras.utils.vis_utils import model_to_dot\n",
    "\n",
    "%matplotlib inline\n",
    "\n",
    "SVG(model_to_dot(model, show_shapes=True).create(prog='dot', format='svg'))"
   ]
  },
  {
   "cell_type": "markdown",
   "metadata": {
    "deletable": true,
    "editable": true
   },
   "source": [
    "### CNN 모델 생성 및 학습 (한국어/실습)"
   ]
  },
  {
   "cell_type": "code",
   "execution_count": 42,
   "metadata": {
    "collapsed": true,
    "deletable": true,
    "editable": true
   },
   "outputs": [],
   "source": [
    "# -- coding"
   ]
  },
  {
   "cell_type": "markdown",
   "metadata": {
    "deletable": true,
    "editable": true
   },
   "source": [
    "## 학습된 모델로 새로운 문장(or 문서) 분류하기 (영어 - 20newsgroups)"
   ]
  },
  {
   "cell_type": "code",
   "execution_count": 43,
   "metadata": {
    "collapsed": true,
    "deletable": true,
    "editable": true
   },
   "outputs": [],
   "source": [
    "def process_text(text):\n",
    "    \"\"\" \n",
    "    Process the input text by tokenizing and padding it.\n",
    "    \"\"\"\n",
    "    tokenizer = Tokenizer()\n",
    "    tokenizer.fit_on_texts(text)\n",
    "    x = tokenizer.texts_to_sequences(text)\n",
    "\n",
    "    x = pad_sequences(x, maxlen=MAX_SEQUENCE_LENGTH)\n",
    "    return x"
   ]
  },
  {
   "cell_type": "code",
   "execution_count": 44,
   "metadata": {
    "collapsed": false,
    "deletable": true,
    "editable": true
   },
   "outputs": [
    {
     "name": "stdout",
     "output_type": "stream",
     "text": [
      "{'comp.graphics': 0.50177741, 'alt.atheism': 0.057258479, 'sci.space': 0.4409641}\n"
     ]
    }
   ],
   "source": [
    "input_text = 'artificial intelligence'\n",
    "\n",
    "matrix = process_text(input_text)\n",
    "\n",
    "predictions = model.predict(matrix)\n",
    "\n",
    "categories=['alt.atheism', 'comp.graphics', 'sci.space']\n",
    "# get the actual categories from output\n",
    "scoredict = {}\n",
    "for idx, classlabel in zip(range(len(categories)), categories):\n",
    "    scoredict[classlabel] = predictions[0][idx]\n",
    "\n",
    "print(scoredict)"
   ]
  },
  {
   "cell_type": "markdown",
   "metadata": {
    "deletable": true,
    "editable": true
   },
   "source": [
    "## 학습된 모델로 새로운 문장(or 문서) 분류하기 (한국어/실습)"
   ]
  },
  {
   "cell_type": "code",
   "execution_count": 45,
   "metadata": {
    "collapsed": true,
    "deletable": true,
    "editable": true
   },
   "outputs": [],
   "source": [
    "# -- coding"
   ]
  },
  {
   "cell_type": "markdown",
   "metadata": {
    "deletable": true,
    "editable": true
   },
   "source": [
    "---------------------------------------"
   ]
  },
  {
   "cell_type": "markdown",
   "metadata": {
    "deletable": true,
    "editable": true
   },
   "source": [
    "# 2D CNN for Text (Gensim + Keras)"
   ]
  },
  {
   "cell_type": "markdown",
   "metadata": {
    "deletable": true,
    "editable": true
   },
   "source": [
    "#### 참고\n",
    "* [3] https://github.com/bhaveshoswal/CNN-text-classification-keras"
   ]
  },
  {
   "cell_type": "markdown",
   "metadata": {},
   "source": [
    "<img src=\"http://d3kbpzbmcynnmx.cloudfront.net/wp-content/uploads/2015/11/Screen-Shot-2015-11-06-at-8.03.47-AM.png\" width=600 />"
   ]
  },
  {
   "cell_type": "code",
   "execution_count": 46,
   "metadata": {
    "collapsed": true,
    "deletable": true,
    "editable": true
   },
   "outputs": [],
   "source": [
    "from keras.layers import Input, Dense, Embedding, Conv2D, MaxPool2D\n",
    "from keras.layers import Reshape, Flatten, Dropout, Concatenate\n",
    "from keras.callbacks import ModelCheckpoint\n",
    "from keras.optimizers import Adam\n",
    "from keras.models import Model"
   ]
  },
  {
   "cell_type": "code",
   "execution_count": 47,
   "metadata": {
    "collapsed": false,
    "deletable": true,
    "editable": true
   },
   "outputs": [
    {
     "name": "stdout",
     "output_type": "stream",
     "text": [
      "Creating Model...\n",
      "Traning Model...\n",
      "Epoch 1/5\n",
      "137/137 [==============================] - 45s 332ms/step - loss: 0.6447 - acc: 0.6667\b\b\b\b\b\b\b\b\b\b\b\b\b\b\b\b\b\b\b\b\b\b\b\b\b\b\b\b\b\b\b\b\b\b\b\b\b\b\b\b\b\b\b\b\b\b\b\b\b\b\b\b\b\b\b\b\b\b\b\b\b\b\b\b\b\b\b\b\b\b\b\b\b\b\b\b\b\b\b\b\b\b\b\b\b\b\b\b\b\b\b\b\b\b\b\b\b\b\b\b\b\b\b\b\b\b\b\b\b\b\b\b\b\b\b\b\b\b\b\b\b\b\b\b\b\b\b\b\b\b\b\b\b\b\b\b\b\b\b\b\b\b\b\b\b\b\b\b\b\b\b\b\b\b\b\b\b\b\b\b\b\b\b\b\b\b\b\b\b\b\b\b\b\b\b\b\b\b\b\b\b\b\b\b\b\b\b\b\b\b\b\b\b\b\b\b\b\b\b\b\b\b\b\b\b\b\b\b\b\b\b\b\b\b\b\b\b\b\b\b\b\b\b\b\b\b\b\b\b\b\b\b\b\b\b\b\b\b\b\b\b\b\b\b\b\b\b\b\b\b\b\b\b\b\b\b\b\b\b\b\b\b\b\b\b\b\b\b\b\b\b\b\b\b\b\b\b\b\b\b\b\b\b\b\b\b\b\b\b\b\b\b\b\b\b\b\b\b\b\b\b\b\b\b\b\b\b\b\b\b\b\b\b\n",
      "Epoch 2/5\n",
      "137/137 [==============================] - 51s 376ms/step - loss: 0.6146 - acc: 0.6667\b\b\b\b\b\b\b\b\b\b\b\b\b\b\b\b\b\b\b\b\b\b\b\b\b\b\b\b\b\b\b\b\b\b\b\b\b\b\b\b\b\b\b\b\b\b\b\b\b\b\b\b\b\b\b\b\b\b\b\b\b\b\b\b\b\b\b\b\b\b\b\b\b\b\b\b\b\b\b\b\b\b\b\b\b\b\b\b\b\b\b\b\b\b\b\b\b\b\b\b\b\b\b\b\b\b\b\b\b\b\b\b\b\b\b\b\b\b\b\b\b\b\b\b\b\b\b\b\b\b\b\b\b\b\b\b\b\b\b\b\b\b\b\b\b\b\b\b\b\b\b\b\b\b\b\b\b\b\b\b\b\b\b\b\b\b\b\b\b\b\b\b\b\b\b\b\b\b\b\b\b\b\b\b\b\b\b\b\b\b\b\b\b\b\b\b\b\b\b\b\b\b\b\b\b\b\b\b\b\b\b\b\b\b\b\b\b\b\b\b\b\b\b\b\b\b\b\b\b\b\b\b\b\b\b\b\b\b\b\b\b\b\b\b\b\b\b\b\b\b\b\b\b\b\b\b\b\b\b\b\b\b\b\b\b\b\b\b\b\b\b\b\b\b\b\b\b\b\b\b\b\b\b\b\b\b\b\b\b\b\b\b\b\b\b\b\b\b\b\b\b\b\b\b\b\b\b\b\b\b\b\b\b\n",
      "Epoch 3/5\n",
      "137/137 [==============================] - 41s 297ms/step - loss: 0.5868 - acc: 0.6667\b\b\b\b\b\b\b\b\b\b\b\b\b\b\b\b\b\b\b\b\b\b\b\b\b\b\b\b\b\b\b\b\b\b\b\b\b\b\b\b\b\b\b\b\b\b\b\b\b\b\b\b\b\b\b\b\b\b\b\b\b\b\b\b\b\b\b\b\b\b\b\b\b\b\b\b\b\b\b\b\b\b\b\b\b\b\b\b\b\b\b\b\b\b\b\b\b\b\b\b\b\b\b\b\b\b\b\b\b\b\b\b\b\b\b\b\b\b\b\b\b\b\b\b\b\b\b\b\b\b\b\b\b\b\b\b\b\b\b\b\b\b\b\b\b\b\b\b\b\b\b\b\b\b\b\b\b\b\b\b\b\b\b\b\b\b\b\b\b\b\b\b\b\b\b\b\b\b\b\b\b\b\b\b\b\b\b\b\b\b\b\b\b\b\b\b\b\b\b\b\b\b\b\b\b\b\b\b\b\b\b\b\b\b\b\b\b\b\b\b\b\b\b\b\b\b\b\b\b\b\b\b\b\b\b\b\b\b\b\b\b\b\b\b\b\b\b\b\b\b\b\b\b\b\b\b\b\b\b\b\b\b\b\b\b\b\b\b\b\b\b\b\b\b\b\b\b\b\b\b\b\b\b\b\b\b\b\b\b\b\b\b\b\b\b\b\b\b\b\b\b\b\b\b\b\b\b\b\b\b\b\b\b\n",
      "Epoch 4/5\n",
      "137/137 [==============================] - 44s 318ms/step - loss: 0.5648 - acc: 0.6667\b\b\b\b\b\b\b\b\b\b\b\b\b\b\b\b\b\b\b\b\b\b\b\b\b\b\b\b\b\b\b\b\b\b\b\b\b\b\b\b\b\b\b\b\b\b\b\b\b\b\b\b\b\b\b\b\b\b\b\b\b\b\b\b\b\b\b\b\b\b\b\b\b\b\b\b\b\b\b\b\b\b\b\b\b\b\b\b\b\b\b\b\b\b\b\b\b\b\b\b\b\b\b\b\b\b\b\b\b\b\b\b\b\b\b\b\b\b\b\b\b\b\b\b\b\b\b\b\b\b\b\b\b\b\b\b\b\b\b\b\b\b\b\b\b\b\b\b\b\b\b\b\b\b\b\b\b\b\b\b\b\b\b\b\b\b\b\b\b\b\b\b\b\b\b\b\b\b\b\b\b\b\b\b\b\b\b\b\b\b\b\b\b\b\b\b\b\b\b\b\b\b\b\b\b\b\b\b\b\b\b\b\b\b\b\b\b\b\b\b\b\b\b\b\b\b\b\b\b\b\b\b\b\b\b\b\b\b\b\b\b\b\b\b\b\b\b\b\b\b\b\b\b\b\b\b\b\b\b\b\b\b\b\b\b\b\b\b\b\b\b\b\b\b\b\b\b\b\b\b\b\b\b\b\b\b\b\b\b\b\b\b\b\b\b\b\b\b\b\b\b\b\b\b\b\b\b\b\b\b\b\b\b\n",
      "Epoch 5/5\n",
      "137/137 [==============================] - 48s 348ms/step - loss: 0.5440 - acc: 0.6764\b\b\b\b\b\b\b\b\b\b\b\b\b\b\b\b\b\b\b\b\b\b\b\b\b\b\b\b\b\b\b\b\b\b\b\b\b\b\b\b\b\b\b\b\b\b\b\b\b\b\b\b\b\b\b\b\b\b\b\b\b\b\b\b\b\b\b\b\b\b\b\b\b\b\b\b\b\b\b\b\b\b\b\b\b\b\b\b\b\b\b\b\b\b\b\b\b\b\b\b\b\b\b\b\b\b\b\b\b\b\b\b\b\b\b\b\b\b\b\b\b\b\b\b\b\b\b\b\b\b\b\b\b\b\b\b\b\b\b\b\b\b\b\b\b\b\b\b\b\b\b\b\b\b\b\b\b\b\b\b\b\b\b\b\b\b\b\b\b\b\b\b\b\b\b\b\b\b\b\b\b\b\b\b\b\b\b\b\b\b\b\b\b\b\b\b\b\b\b\b\b\b\b\b\b\b\b\b\b\b\b\b\b\b\b\b\b\b\b\b\b\b\b\b\b\b\b\b\b\b\b\b\b\b\b\b\b\b\b\b\b\b\b\b\b\b\b\b\b\b\b\b\b\b\b\b\b\b\b\b\b\b\b\b\b\b\b\b\b\b\b\b\b\b\b\b\b\b\b\b\b\b\b\b\b\b\b\b\b\b\b\b\b\b\b\b\b\b\b\b\b\b\b\b\b\b\b\b\b\b\b\b\b\n"
     ]
    },
    {
     "data": {
      "text/plain": [
       "<keras.callbacks.History at 0x7fbb84527898>"
      ]
     },
     "execution_count": 47,
     "metadata": {},
     "output_type": "execute_result"
    }
   ],
   "source": [
    "sequence_length = MAX_SEQUENCE_LENGTH\n",
    "vocabulary_size = len(Keras_w2v_wv.vocab.items())\n",
    "embedding_dim = 256\n",
    "filter_sizes = [3,4,5]\n",
    "num_filters = 512\n",
    "drop = 0.5\n",
    "\n",
    "epochs = 100\n",
    "batch_size = 30\n",
    "\n",
    "# this returns a tensor\n",
    "print(\"Creating Model...\")\n",
    "inputs = Input(shape=(sequence_length,), dtype='int32')\n",
    "embedding = Embedding(input_dim=vocabulary_size, output_dim=embedding_dim, input_length=sequence_length)(inputs)\n",
    "reshape = Reshape((sequence_length,embedding_dim,1))(embedding)\n",
    "\n",
    "conv_0 = Conv2D(num_filters, kernel_size=(filter_sizes[0], embedding_dim), padding='valid', kernel_initializer='normal', activation='relu')(reshape)\n",
    "conv_1 = Conv2D(num_filters, kernel_size=(filter_sizes[1], embedding_dim), padding='valid', kernel_initializer='normal', activation='relu')(reshape)\n",
    "conv_2 = Conv2D(num_filters, kernel_size=(filter_sizes[2], embedding_dim), padding='valid', kernel_initializer='normal', activation='relu')(reshape)\n",
    "\n",
    "maxpool_0 = MaxPool2D(pool_size=(sequence_length - filter_sizes[0] + 1, 1), strides=(1,1), padding='valid')(conv_0)\n",
    "maxpool_1 = MaxPool2D(pool_size=(sequence_length - filter_sizes[1] + 1, 1), strides=(1,1), padding='valid')(conv_1)\n",
    "maxpool_2 = MaxPool2D(pool_size=(sequence_length - filter_sizes[2] + 1, 1), strides=(1,1), padding='valid')(conv_2)\n",
    "\n",
    "concatenated_tensor = Concatenate(axis=1)([maxpool_0, maxpool_1, maxpool_2])\n",
    "flatten = Flatten()(concatenated_tensor)\n",
    "dropout = Dropout(drop)(flatten)\n",
    "output = Dense(units=3, activation='softmax')(dropout)\n",
    "\n",
    "# this creates a model that includes\n",
    "model = Model(inputs=inputs, outputs=output)\n",
    "\n",
    "checkpoint = ModelCheckpoint('weights.{epoch:03d}-{val_acc:.4f}.hdf5', monitor='val_acc', verbose=1, save_best_only=True, mode='auto')\n",
    "adam = Adam(lr=1e-4, beta_1=0.9, beta_2=0.999, epsilon=1e-08, decay=0.0)\n",
    "\n",
    "model.compile(optimizer=adam, loss='binary_crossentropy', metrics=['accuracy'])\n",
    "print(\"Traning Model...\")\n",
    "model.fit(x_train, y_train, epochs=5) # batch_size=batch_size, epochs=epochs, verbose=1, callbacks=[checkpoint], validation_data=(X_test, y_test))  # starts training\n"
   ]
  },
  {
   "cell_type": "code",
   "execution_count": 48,
   "metadata": {
    "collapsed": false,
    "deletable": true,
    "editable": true
   },
   "outputs": [
    {
     "data": {
      "image/svg+xml": [
       "<svg height=\"719pt\" viewBox=\"0.00 0.00 1205.00 719.00\" width=\"1205pt\" xmlns=\"http://www.w3.org/2000/svg\" xmlns:xlink=\"http://www.w3.org/1999/xlink\">\n",
       "<g class=\"graph\" id=\"graph0\" transform=\"scale(1 1) rotate(0) translate(4 715)\">\n",
       "<title>G</title>\n",
       "<polygon fill=\"white\" points=\"-4,4 -4,-715 1201,-715 1201,4 -4,4\" stroke=\"none\"/>\n",
       "<!-- 140443355082936 -->\n",
       "<g class=\"node\" id=\"node1\"><title>140443355082936</title>\n",
       "<polygon fill=\"none\" points=\"464,-664.5 464,-710.5 733,-710.5 733,-664.5 464,-664.5\" stroke=\"black\"/>\n",
       "<text font-family=\"Times,serif\" font-size=\"14.00\" text-anchor=\"middle\" x=\"526.5\" y=\"-683.8\">input_2: InputLayer</text>\n",
       "<polyline fill=\"none\" points=\"589,-664.5 589,-710.5 \" stroke=\"black\"/>\n",
       "<text font-family=\"Times,serif\" font-size=\"14.00\" text-anchor=\"middle\" x=\"616.5\" y=\"-695.3\">input:</text>\n",
       "<polyline fill=\"none\" points=\"589,-687.5 644,-687.5 \" stroke=\"black\"/>\n",
       "<text font-family=\"Times,serif\" font-size=\"14.00\" text-anchor=\"middle\" x=\"616.5\" y=\"-672.3\">output:</text>\n",
       "<polyline fill=\"none\" points=\"644,-664.5 644,-710.5 \" stroke=\"black\"/>\n",
       "<text font-family=\"Times,serif\" font-size=\"14.00\" text-anchor=\"middle\" x=\"688.5\" y=\"-695.3\">(None, 1000)</text>\n",
       "<polyline fill=\"none\" points=\"644,-687.5 733,-687.5 \" stroke=\"black\"/>\n",
       "<text font-family=\"Times,serif\" font-size=\"14.00\" text-anchor=\"middle\" x=\"688.5\" y=\"-672.3\">(None, 1000)</text>\n",
       "</g>\n",
       "<!-- 140443355688856 -->\n",
       "<g class=\"node\" id=\"node2\"><title>140443355688856</title>\n",
       "<polygon fill=\"none\" points=\"432,-581.5 432,-627.5 765,-627.5 765,-581.5 432,-581.5\" stroke=\"black\"/>\n",
       "<text font-family=\"Times,serif\" font-size=\"14.00\" text-anchor=\"middle\" x=\"512.5\" y=\"-600.8\">embedding_3: Embedding</text>\n",
       "<polyline fill=\"none\" points=\"593,-581.5 593,-627.5 \" stroke=\"black\"/>\n",
       "<text font-family=\"Times,serif\" font-size=\"14.00\" text-anchor=\"middle\" x=\"620.5\" y=\"-612.3\">input:</text>\n",
       "<polyline fill=\"none\" points=\"593,-604.5 648,-604.5 \" stroke=\"black\"/>\n",
       "<text font-family=\"Times,serif\" font-size=\"14.00\" text-anchor=\"middle\" x=\"620.5\" y=\"-589.3\">output:</text>\n",
       "<polyline fill=\"none\" points=\"648,-581.5 648,-627.5 \" stroke=\"black\"/>\n",
       "<text font-family=\"Times,serif\" font-size=\"14.00\" text-anchor=\"middle\" x=\"706.5\" y=\"-612.3\">(None, 1000)</text>\n",
       "<polyline fill=\"none\" points=\"648,-604.5 765,-604.5 \" stroke=\"black\"/>\n",
       "<text font-family=\"Times,serif\" font-size=\"14.00\" text-anchor=\"middle\" x=\"706.5\" y=\"-589.3\">(None, 1000, 256)</text>\n",
       "</g>\n",
       "<!-- 140443355082936&#45;&gt;140443355688856 -->\n",
       "<g class=\"edge\" id=\"edge1\"><title>140443355082936-&gt;140443355688856</title>\n",
       "<path d=\"M598.5,-664.366C598.5,-656.152 598.5,-646.658 598.5,-637.725\" fill=\"none\" stroke=\"black\"/>\n",
       "<polygon fill=\"black\" points=\"602,-637.607 598.5,-627.607 595,-637.607 602,-637.607\" stroke=\"black\"/>\n",
       "</g>\n",
       "<!-- 140443354952200 -->\n",
       "<g class=\"node\" id=\"node3\"><title>140443354952200</title>\n",
       "<polygon fill=\"none\" points=\"443,-498.5 443,-544.5 754,-544.5 754,-498.5 443,-498.5\" stroke=\"black\"/>\n",
       "<text font-family=\"Times,serif\" font-size=\"14.00\" text-anchor=\"middle\" x=\"505.5\" y=\"-517.8\">reshape_1: Reshape</text>\n",
       "<polyline fill=\"none\" points=\"568,-498.5 568,-544.5 \" stroke=\"black\"/>\n",
       "<text font-family=\"Times,serif\" font-size=\"14.00\" text-anchor=\"middle\" x=\"595.5\" y=\"-529.3\">input:</text>\n",
       "<polyline fill=\"none\" points=\"568,-521.5 623,-521.5 \" stroke=\"black\"/>\n",
       "<text font-family=\"Times,serif\" font-size=\"14.00\" text-anchor=\"middle\" x=\"595.5\" y=\"-506.3\">output:</text>\n",
       "<polyline fill=\"none\" points=\"623,-498.5 623,-544.5 \" stroke=\"black\"/>\n",
       "<text font-family=\"Times,serif\" font-size=\"14.00\" text-anchor=\"middle\" x=\"688.5\" y=\"-529.3\">(None, 1000, 256)</text>\n",
       "<polyline fill=\"none\" points=\"623,-521.5 754,-521.5 \" stroke=\"black\"/>\n",
       "<text font-family=\"Times,serif\" font-size=\"14.00\" text-anchor=\"middle\" x=\"688.5\" y=\"-506.3\">(None, 1000, 256, 1)</text>\n",
       "</g>\n",
       "<!-- 140443355688856&#45;&gt;140443354952200 -->\n",
       "<g class=\"edge\" id=\"edge2\"><title>140443355688856-&gt;140443354952200</title>\n",
       "<path d=\"M598.5,-581.366C598.5,-573.152 598.5,-563.658 598.5,-554.725\" fill=\"none\" stroke=\"black\"/>\n",
       "<polygon fill=\"black\" points=\"602,-554.607 598.5,-544.607 595,-554.607 602,-554.607\" stroke=\"black\"/>\n",
       "</g>\n",
       "<!-- 140443355667144 -->\n",
       "<g class=\"node\" id=\"node4\"><title>140443355667144</title>\n",
       "<polygon fill=\"none\" points=\"78,-415.5 78,-461.5 387,-461.5 387,-415.5 78,-415.5\" stroke=\"black\"/>\n",
       "<text font-family=\"Times,serif\" font-size=\"14.00\" text-anchor=\"middle\" x=\"139.5\" y=\"-434.8\">conv2d_1: Conv2D</text>\n",
       "<polyline fill=\"none\" points=\"201,-415.5 201,-461.5 \" stroke=\"black\"/>\n",
       "<text font-family=\"Times,serif\" font-size=\"14.00\" text-anchor=\"middle\" x=\"228.5\" y=\"-446.3\">input:</text>\n",
       "<polyline fill=\"none\" points=\"201,-438.5 256,-438.5 \" stroke=\"black\"/>\n",
       "<text font-family=\"Times,serif\" font-size=\"14.00\" text-anchor=\"middle\" x=\"228.5\" y=\"-423.3\">output:</text>\n",
       "<polyline fill=\"none\" points=\"256,-415.5 256,-461.5 \" stroke=\"black\"/>\n",
       "<text font-family=\"Times,serif\" font-size=\"14.00\" text-anchor=\"middle\" x=\"321.5\" y=\"-446.3\">(None, 1000, 256, 1)</text>\n",
       "<polyline fill=\"none\" points=\"256,-438.5 387,-438.5 \" stroke=\"black\"/>\n",
       "<text font-family=\"Times,serif\" font-size=\"14.00\" text-anchor=\"middle\" x=\"321.5\" y=\"-423.3\">(None, 998, 1, 512)</text>\n",
       "</g>\n",
       "<!-- 140443354952200&#45;&gt;140443355667144 -->\n",
       "<g class=\"edge\" id=\"edge3\"><title>140443354952200-&gt;140443355667144</title>\n",
       "<path d=\"M498.972,-498.473C450.352,-487.713 391.727,-474.739 341.859,-463.702\" fill=\"none\" stroke=\"black\"/>\n",
       "<polygon fill=\"black\" points=\"342.528,-460.266 332.008,-461.522 341.015,-467.1 342.528,-460.266\" stroke=\"black\"/>\n",
       "</g>\n",
       "<!-- 140443355023064 -->\n",
       "<g class=\"node\" id=\"node5\"><title>140443355023064</title>\n",
       "<polygon fill=\"none\" points=\"444,-415.5 444,-461.5 753,-461.5 753,-415.5 444,-415.5\" stroke=\"black\"/>\n",
       "<text font-family=\"Times,serif\" font-size=\"14.00\" text-anchor=\"middle\" x=\"505.5\" y=\"-434.8\">conv2d_2: Conv2D</text>\n",
       "<polyline fill=\"none\" points=\"567,-415.5 567,-461.5 \" stroke=\"black\"/>\n",
       "<text font-family=\"Times,serif\" font-size=\"14.00\" text-anchor=\"middle\" x=\"594.5\" y=\"-446.3\">input:</text>\n",
       "<polyline fill=\"none\" points=\"567,-438.5 622,-438.5 \" stroke=\"black\"/>\n",
       "<text font-family=\"Times,serif\" font-size=\"14.00\" text-anchor=\"middle\" x=\"594.5\" y=\"-423.3\">output:</text>\n",
       "<polyline fill=\"none\" points=\"622,-415.5 622,-461.5 \" stroke=\"black\"/>\n",
       "<text font-family=\"Times,serif\" font-size=\"14.00\" text-anchor=\"middle\" x=\"687.5\" y=\"-446.3\">(None, 1000, 256, 1)</text>\n",
       "<polyline fill=\"none\" points=\"622,-438.5 753,-438.5 \" stroke=\"black\"/>\n",
       "<text font-family=\"Times,serif\" font-size=\"14.00\" text-anchor=\"middle\" x=\"687.5\" y=\"-423.3\">(None, 997, 1, 512)</text>\n",
       "</g>\n",
       "<!-- 140443354952200&#45;&gt;140443355023064 -->\n",
       "<g class=\"edge\" id=\"edge4\"><title>140443354952200-&gt;140443355023064</title>\n",
       "<path d=\"M598.5,-498.366C598.5,-490.152 598.5,-480.658 598.5,-471.725\" fill=\"none\" stroke=\"black\"/>\n",
       "<polygon fill=\"black\" points=\"602,-471.607 598.5,-461.607 595,-471.607 602,-471.607\" stroke=\"black\"/>\n",
       "</g>\n",
       "<!-- 140443355023344 -->\n",
       "<g class=\"node\" id=\"node6\"><title>140443355023344</title>\n",
       "<polygon fill=\"none\" points=\"810,-415.5 810,-461.5 1119,-461.5 1119,-415.5 810,-415.5\" stroke=\"black\"/>\n",
       "<text font-family=\"Times,serif\" font-size=\"14.00\" text-anchor=\"middle\" x=\"871.5\" y=\"-434.8\">conv2d_3: Conv2D</text>\n",
       "<polyline fill=\"none\" points=\"933,-415.5 933,-461.5 \" stroke=\"black\"/>\n",
       "<text font-family=\"Times,serif\" font-size=\"14.00\" text-anchor=\"middle\" x=\"960.5\" y=\"-446.3\">input:</text>\n",
       "<polyline fill=\"none\" points=\"933,-438.5 988,-438.5 \" stroke=\"black\"/>\n",
       "<text font-family=\"Times,serif\" font-size=\"14.00\" text-anchor=\"middle\" x=\"960.5\" y=\"-423.3\">output:</text>\n",
       "<polyline fill=\"none\" points=\"988,-415.5 988,-461.5 \" stroke=\"black\"/>\n",
       "<text font-family=\"Times,serif\" font-size=\"14.00\" text-anchor=\"middle\" x=\"1053.5\" y=\"-446.3\">(None, 1000, 256, 1)</text>\n",
       "<polyline fill=\"none\" points=\"988,-438.5 1119,-438.5 \" stroke=\"black\"/>\n",
       "<text font-family=\"Times,serif\" font-size=\"14.00\" text-anchor=\"middle\" x=\"1053.5\" y=\"-423.3\">(None, 996, 1, 512)</text>\n",
       "</g>\n",
       "<!-- 140443354952200&#45;&gt;140443355023344 -->\n",
       "<g class=\"edge\" id=\"edge5\"><title>140443354952200-&gt;140443355023344</title>\n",
       "<path d=\"M698.028,-498.473C746.648,-487.713 805.273,-474.739 855.141,-463.702\" fill=\"none\" stroke=\"black\"/>\n",
       "<polygon fill=\"black\" points=\"855.985,-467.1 864.992,-461.522 854.472,-460.266 855.985,-467.1\" stroke=\"black\"/>\n",
       "</g>\n",
       "<!-- 140443354952144 -->\n",
       "<g class=\"node\" id=\"node7\"><title>140443354952144</title>\n",
       "<polygon fill=\"none\" points=\"0,-332.5 0,-378.5 387,-378.5 387,-332.5 0,-332.5\" stroke=\"black\"/>\n",
       "<text font-family=\"Times,serif\" font-size=\"14.00\" text-anchor=\"middle\" x=\"103.5\" y=\"-351.8\">max_pooling2d_1: MaxPooling2D</text>\n",
       "<polyline fill=\"none\" points=\"207,-332.5 207,-378.5 \" stroke=\"black\"/>\n",
       "<text font-family=\"Times,serif\" font-size=\"14.00\" text-anchor=\"middle\" x=\"234.5\" y=\"-363.3\">input:</text>\n",
       "<polyline fill=\"none\" points=\"207,-355.5 262,-355.5 \" stroke=\"black\"/>\n",
       "<text font-family=\"Times,serif\" font-size=\"14.00\" text-anchor=\"middle\" x=\"234.5\" y=\"-340.3\">output:</text>\n",
       "<polyline fill=\"none\" points=\"262,-332.5 262,-378.5 \" stroke=\"black\"/>\n",
       "<text font-family=\"Times,serif\" font-size=\"14.00\" text-anchor=\"middle\" x=\"324.5\" y=\"-363.3\">(None, 998, 1, 512)</text>\n",
       "<polyline fill=\"none\" points=\"262,-355.5 387,-355.5 \" stroke=\"black\"/>\n",
       "<text font-family=\"Times,serif\" font-size=\"14.00\" text-anchor=\"middle\" x=\"324.5\" y=\"-340.3\">(None, 1, 1, 512)</text>\n",
       "</g>\n",
       "<!-- 140443355667144&#45;&gt;140443354952144 -->\n",
       "<g class=\"edge\" id=\"edge6\"><title>140443355667144-&gt;140443354952144</title>\n",
       "<path d=\"M221.843,-415.366C217.759,-406.884 213.018,-397.037 208.596,-387.853\" fill=\"none\" stroke=\"black\"/>\n",
       "<polygon fill=\"black\" points=\"211.636,-386.098 204.144,-378.607 205.329,-389.135 211.636,-386.098\" stroke=\"black\"/>\n",
       "</g>\n",
       "<!-- 140443354697288 -->\n",
       "<g class=\"node\" id=\"node8\"><title>140443354697288</title>\n",
       "<polygon fill=\"none\" points=\"405,-332.5 405,-378.5 792,-378.5 792,-332.5 405,-332.5\" stroke=\"black\"/>\n",
       "<text font-family=\"Times,serif\" font-size=\"14.00\" text-anchor=\"middle\" x=\"508.5\" y=\"-351.8\">max_pooling2d_2: MaxPooling2D</text>\n",
       "<polyline fill=\"none\" points=\"612,-332.5 612,-378.5 \" stroke=\"black\"/>\n",
       "<text font-family=\"Times,serif\" font-size=\"14.00\" text-anchor=\"middle\" x=\"639.5\" y=\"-363.3\">input:</text>\n",
       "<polyline fill=\"none\" points=\"612,-355.5 667,-355.5 \" stroke=\"black\"/>\n",
       "<text font-family=\"Times,serif\" font-size=\"14.00\" text-anchor=\"middle\" x=\"639.5\" y=\"-340.3\">output:</text>\n",
       "<polyline fill=\"none\" points=\"667,-332.5 667,-378.5 \" stroke=\"black\"/>\n",
       "<text font-family=\"Times,serif\" font-size=\"14.00\" text-anchor=\"middle\" x=\"729.5\" y=\"-363.3\">(None, 997, 1, 512)</text>\n",
       "<polyline fill=\"none\" points=\"667,-355.5 792,-355.5 \" stroke=\"black\"/>\n",
       "<text font-family=\"Times,serif\" font-size=\"14.00\" text-anchor=\"middle\" x=\"729.5\" y=\"-340.3\">(None, 1, 1, 512)</text>\n",
       "</g>\n",
       "<!-- 140443355023064&#45;&gt;140443354697288 -->\n",
       "<g class=\"edge\" id=\"edge7\"><title>140443355023064-&gt;140443354697288</title>\n",
       "<path d=\"M598.5,-415.366C598.5,-407.152 598.5,-397.658 598.5,-388.725\" fill=\"none\" stroke=\"black\"/>\n",
       "<polygon fill=\"black\" points=\"602,-388.607 598.5,-378.607 595,-388.607 602,-388.607\" stroke=\"black\"/>\n",
       "</g>\n",
       "<!-- 140443355450784 -->\n",
       "<g class=\"node\" id=\"node9\"><title>140443355450784</title>\n",
       "<polygon fill=\"none\" points=\"810,-332.5 810,-378.5 1197,-378.5 1197,-332.5 810,-332.5\" stroke=\"black\"/>\n",
       "<text font-family=\"Times,serif\" font-size=\"14.00\" text-anchor=\"middle\" x=\"913.5\" y=\"-351.8\">max_pooling2d_3: MaxPooling2D</text>\n",
       "<polyline fill=\"none\" points=\"1017,-332.5 1017,-378.5 \" stroke=\"black\"/>\n",
       "<text font-family=\"Times,serif\" font-size=\"14.00\" text-anchor=\"middle\" x=\"1044.5\" y=\"-363.3\">input:</text>\n",
       "<polyline fill=\"none\" points=\"1017,-355.5 1072,-355.5 \" stroke=\"black\"/>\n",
       "<text font-family=\"Times,serif\" font-size=\"14.00\" text-anchor=\"middle\" x=\"1044.5\" y=\"-340.3\">output:</text>\n",
       "<polyline fill=\"none\" points=\"1072,-332.5 1072,-378.5 \" stroke=\"black\"/>\n",
       "<text font-family=\"Times,serif\" font-size=\"14.00\" text-anchor=\"middle\" x=\"1134.5\" y=\"-363.3\">(None, 996, 1, 512)</text>\n",
       "<polyline fill=\"none\" points=\"1072,-355.5 1197,-355.5 \" stroke=\"black\"/>\n",
       "<text font-family=\"Times,serif\" font-size=\"14.00\" text-anchor=\"middle\" x=\"1134.5\" y=\"-340.3\">(None, 1, 1, 512)</text>\n",
       "</g>\n",
       "<!-- 140443355023344&#45;&gt;140443355450784 -->\n",
       "<g class=\"edge\" id=\"edge8\"><title>140443355023344-&gt;140443355450784</title>\n",
       "<path d=\"M975.157,-415.366C979.241,-406.884 983.982,-397.037 988.404,-387.853\" fill=\"none\" stroke=\"black\"/>\n",
       "<polygon fill=\"black\" points=\"991.671,-389.135 992.856,-378.607 985.364,-386.098 991.671,-389.135\" stroke=\"black\"/>\n",
       "</g>\n",
       "<!-- 140443355428288 -->\n",
       "<g class=\"node\" id=\"node10\"><title>140443355428288</title>\n",
       "<polygon fill=\"none\" points=\"325,-249.5 325,-295.5 872,-295.5 872,-249.5 325,-249.5\" stroke=\"black\"/>\n",
       "<text font-family=\"Times,serif\" font-size=\"14.00\" text-anchor=\"middle\" x=\"409\" y=\"-268.8\">concatenate_1: Concatenate</text>\n",
       "<polyline fill=\"none\" points=\"493,-249.5 493,-295.5 \" stroke=\"black\"/>\n",
       "<text font-family=\"Times,serif\" font-size=\"14.00\" text-anchor=\"middle\" x=\"520.5\" y=\"-280.3\">input:</text>\n",
       "<polyline fill=\"none\" points=\"493,-272.5 548,-272.5 \" stroke=\"black\"/>\n",
       "<text font-family=\"Times,serif\" font-size=\"14.00\" text-anchor=\"middle\" x=\"520.5\" y=\"-257.3\">output:</text>\n",
       "<polyline fill=\"none\" points=\"548,-249.5 548,-295.5 \" stroke=\"black\"/>\n",
       "<text font-family=\"Times,serif\" font-size=\"14.00\" text-anchor=\"middle\" x=\"710\" y=\"-280.3\">[(None, 1, 1, 512), (None, 1, 1, 512), (None, 1, 1, 512)]</text>\n",
       "<polyline fill=\"none\" points=\"548,-272.5 872,-272.5 \" stroke=\"black\"/>\n",
       "<text font-family=\"Times,serif\" font-size=\"14.00\" text-anchor=\"middle\" x=\"710\" y=\"-257.3\">(None, 3, 1, 512)</text>\n",
       "</g>\n",
       "<!-- 140443354952144&#45;&gt;140443355428288 -->\n",
       "<g class=\"edge\" id=\"edge9\"><title>140443354952144-&gt;140443355428288</title>\n",
       "<path d=\"M303.633,-332.473C357.77,-321.646 423.117,-308.577 478.521,-297.496\" fill=\"none\" stroke=\"black\"/>\n",
       "<polygon fill=\"black\" points=\"479.269,-300.916 488.389,-295.522 477.897,-294.051 479.269,-300.916\" stroke=\"black\"/>\n",
       "</g>\n",
       "<!-- 140443354697288&#45;&gt;140443355428288 -->\n",
       "<g class=\"edge\" id=\"edge10\"><title>140443354697288-&gt;140443355428288</title>\n",
       "<path d=\"M598.5,-332.366C598.5,-324.152 598.5,-314.658 598.5,-305.725\" fill=\"none\" stroke=\"black\"/>\n",
       "<polygon fill=\"black\" points=\"602,-305.607 598.5,-295.607 595,-305.607 602,-305.607\" stroke=\"black\"/>\n",
       "</g>\n",
       "<!-- 140443355450784&#45;&gt;140443355428288 -->\n",
       "<g class=\"edge\" id=\"edge11\"><title>140443355450784-&gt;140443355428288</title>\n",
       "<path d=\"M893.367,-332.473C839.23,-321.646 773.883,-308.577 718.479,-297.496\" fill=\"none\" stroke=\"black\"/>\n",
       "<polygon fill=\"black\" points=\"719.103,-294.051 708.611,-295.522 717.731,-300.916 719.103,-294.051\" stroke=\"black\"/>\n",
       "</g>\n",
       "<!-- 140443355428232 -->\n",
       "<g class=\"node\" id=\"node11\"><title>140443355428232</title>\n",
       "<polygon fill=\"none\" points=\"460.5,-166.5 460.5,-212.5 736.5,-212.5 736.5,-166.5 460.5,-166.5\" stroke=\"black\"/>\n",
       "<text font-family=\"Times,serif\" font-size=\"14.00\" text-anchor=\"middle\" x=\"515.5\" y=\"-185.8\">flatten_2: Flatten</text>\n",
       "<polyline fill=\"none\" points=\"570.5,-166.5 570.5,-212.5 \" stroke=\"black\"/>\n",
       "<text font-family=\"Times,serif\" font-size=\"14.00\" text-anchor=\"middle\" x=\"598\" y=\"-197.3\">input:</text>\n",
       "<polyline fill=\"none\" points=\"570.5,-189.5 625.5,-189.5 \" stroke=\"black\"/>\n",
       "<text font-family=\"Times,serif\" font-size=\"14.00\" text-anchor=\"middle\" x=\"598\" y=\"-174.3\">output:</text>\n",
       "<polyline fill=\"none\" points=\"625.5,-166.5 625.5,-212.5 \" stroke=\"black\"/>\n",
       "<text font-family=\"Times,serif\" font-size=\"14.00\" text-anchor=\"middle\" x=\"681\" y=\"-197.3\">(None, 3, 1, 512)</text>\n",
       "<polyline fill=\"none\" points=\"625.5,-189.5 736.5,-189.5 \" stroke=\"black\"/>\n",
       "<text font-family=\"Times,serif\" font-size=\"14.00\" text-anchor=\"middle\" x=\"681\" y=\"-174.3\">(None, 1536)</text>\n",
       "</g>\n",
       "<!-- 140443355428288&#45;&gt;140443355428232 -->\n",
       "<g class=\"edge\" id=\"edge12\"><title>140443355428288-&gt;140443355428232</title>\n",
       "<path d=\"M598.5,-249.366C598.5,-241.152 598.5,-231.658 598.5,-222.725\" fill=\"none\" stroke=\"black\"/>\n",
       "<polygon fill=\"black\" points=\"602,-222.607 598.5,-212.607 595,-222.607 602,-222.607\" stroke=\"black\"/>\n",
       "</g>\n",
       "<!-- 140443355429800 -->\n",
       "<g class=\"node\" id=\"node12\"><title>140443355429800</title>\n",
       "<polygon fill=\"none\" points=\"464,-83.5 464,-129.5 733,-129.5 733,-83.5 464,-83.5\" stroke=\"black\"/>\n",
       "<text font-family=\"Times,serif\" font-size=\"14.00\" text-anchor=\"middle\" x=\"526.5\" y=\"-102.8\">dropout_1: Dropout</text>\n",
       "<polyline fill=\"none\" points=\"589,-83.5 589,-129.5 \" stroke=\"black\"/>\n",
       "<text font-family=\"Times,serif\" font-size=\"14.00\" text-anchor=\"middle\" x=\"616.5\" y=\"-114.3\">input:</text>\n",
       "<polyline fill=\"none\" points=\"589,-106.5 644,-106.5 \" stroke=\"black\"/>\n",
       "<text font-family=\"Times,serif\" font-size=\"14.00\" text-anchor=\"middle\" x=\"616.5\" y=\"-91.3\">output:</text>\n",
       "<polyline fill=\"none\" points=\"644,-83.5 644,-129.5 \" stroke=\"black\"/>\n",
       "<text font-family=\"Times,serif\" font-size=\"14.00\" text-anchor=\"middle\" x=\"688.5\" y=\"-114.3\">(None, 1536)</text>\n",
       "<polyline fill=\"none\" points=\"644,-106.5 733,-106.5 \" stroke=\"black\"/>\n",
       "<text font-family=\"Times,serif\" font-size=\"14.00\" text-anchor=\"middle\" x=\"688.5\" y=\"-91.3\">(None, 1536)</text>\n",
       "</g>\n",
       "<!-- 140443355428232&#45;&gt;140443355429800 -->\n",
       "<g class=\"edge\" id=\"edge13\"><title>140443355428232-&gt;140443355429800</title>\n",
       "<path d=\"M598.5,-166.366C598.5,-158.152 598.5,-148.658 598.5,-139.725\" fill=\"none\" stroke=\"black\"/>\n",
       "<polygon fill=\"black\" points=\"602,-139.607 598.5,-129.607 595,-139.607 602,-139.607\" stroke=\"black\"/>\n",
       "</g>\n",
       "<!-- 140443355439792 -->\n",
       "<g class=\"node\" id=\"node13\"><title>140443355439792</title>\n",
       "<polygon fill=\"none\" points=\"475.5,-0.5 475.5,-46.5 721.5,-46.5 721.5,-0.5 475.5,-0.5\" stroke=\"black\"/>\n",
       "<text font-family=\"Times,serif\" font-size=\"14.00\" text-anchor=\"middle\" x=\"526.5\" y=\"-19.8\">dense_3: Dense</text>\n",
       "<polyline fill=\"none\" points=\"577.5,-0.5 577.5,-46.5 \" stroke=\"black\"/>\n",
       "<text font-family=\"Times,serif\" font-size=\"14.00\" text-anchor=\"middle\" x=\"605\" y=\"-31.3\">input:</text>\n",
       "<polyline fill=\"none\" points=\"577.5,-23.5 632.5,-23.5 \" stroke=\"black\"/>\n",
       "<text font-family=\"Times,serif\" font-size=\"14.00\" text-anchor=\"middle\" x=\"605\" y=\"-8.3\">output:</text>\n",
       "<polyline fill=\"none\" points=\"632.5,-0.5 632.5,-46.5 \" stroke=\"black\"/>\n",
       "<text font-family=\"Times,serif\" font-size=\"14.00\" text-anchor=\"middle\" x=\"677\" y=\"-31.3\">(None, 1536)</text>\n",
       "<polyline fill=\"none\" points=\"632.5,-23.5 721.5,-23.5 \" stroke=\"black\"/>\n",
       "<text font-family=\"Times,serif\" font-size=\"14.00\" text-anchor=\"middle\" x=\"677\" y=\"-8.3\">(None, 3)</text>\n",
       "</g>\n",
       "<!-- 140443355429800&#45;&gt;140443355439792 -->\n",
       "<g class=\"edge\" id=\"edge14\"><title>140443355429800-&gt;140443355439792</title>\n",
       "<path d=\"M598.5,-83.3664C598.5,-75.1516 598.5,-65.6579 598.5,-56.7252\" fill=\"none\" stroke=\"black\"/>\n",
       "<polygon fill=\"black\" points=\"602,-56.6068 598.5,-46.6068 595,-56.6069 602,-56.6068\" stroke=\"black\"/>\n",
       "</g>\n",
       "</g>\n",
       "</svg>"
      ],
      "text/plain": [
       "<IPython.core.display.SVG object>"
      ]
     },
     "execution_count": 48,
     "metadata": {},
     "output_type": "execute_result"
    }
   ],
   "source": [
    "from IPython.display import SVG\n",
    "from keras.utils.vis_utils import model_to_dot\n",
    "\n",
    "%matplotlib inline\n",
    "\n",
    "SVG(model_to_dot(model, show_shapes=True).create(prog='dot', format='svg'))"
   ]
  },
  {
   "cell_type": "code",
   "execution_count": 49,
   "metadata": {
    "collapsed": false,
    "deletable": true,
    "editable": true
   },
   "outputs": [
    {
     "name": "stdout",
     "output_type": "stream",
     "text": [
      "{'comp.graphics': 0.42833376, 'alt.atheism': 0.15063439, 'sci.space': 0.42103183}\n"
     ]
    }
   ],
   "source": [
    "input_text = 'artificial intelligence'\n",
    "\n",
    "matrix = process_text(input_text)\n",
    "\n",
    "predictions = model.predict(matrix)\n",
    "\n",
    "categories=['alt.atheism', 'comp.graphics', 'sci.space']\n",
    "# get the actual categories from output\n",
    "scoredict = {}\n",
    "for idx, classlabel in zip(range(len(categories)), categories):\n",
    "    scoredict[classlabel] = predictions[0][idx]\n",
    "\n",
    "print(scoredict)"
   ]
  },
  {
   "cell_type": "markdown",
   "metadata": {
    "deletable": true,
    "editable": true
   },
   "source": [
    "# 참고자료\n",
    "* [2] Using wrappers for Gensim models for working with Keras - https://github.com/RaRe-Technologies/gensim/blob/develop/docs/notebooks/keras_wrapper.ipynb\n",
    "* [3] https://github.com/bhaveshoswal/CNN-text-classification-keras\n",
    "* [4] https://github.com/keras-team/keras/blob/ce406b773b9f36be5718a4369ad07fea4f9ebdba/examples/imdb_cnn.py"
   ]
  }
 ],
 "metadata": {
  "kernelspec": {
   "display_name": "Python 3",
   "language": "python",
   "name": "python3"
  },
  "language_info": {
   "codemirror_mode": {
    "name": "ipython",
    "version": 3
   },
   "file_extension": ".py",
   "mimetype": "text/x-python",
   "name": "python",
   "nbconvert_exporter": "python",
   "pygments_lexer": "ipython3",
   "version": "3.5.2"
  },
  "name": "Gensim Newsgroup.ipynb"
 },
 "nbformat": 4,
 "nbformat_minor": 0
}
