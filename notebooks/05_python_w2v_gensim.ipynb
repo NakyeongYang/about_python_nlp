{
 "cells": [
  {
   "cell_type": "markdown",
   "metadata": {
    "deletable": true,
    "editable": true
   },
   "source": [
    "# 05. 파이썬을 이용한 Word2Vec (Using Gensim)"
   ]
  },
  {
   "cell_type": "markdown",
   "metadata": {
    "deletable": true,
    "editable": true
   },
   "source": [
    "* 싸이그래머 / 어바웃 파이썬\n",
    "* 김무성"
   ]
  },
  {
   "cell_type": "markdown",
   "metadata": {
    "deletable": true,
    "editable": true
   },
   "source": [
    "# 차례\n",
    "* Word2Vec \n",
    "* Gensim을 이용한 Word2Vec 간단 예제\n",
    "* Gensim을 이용한 한국어 Word2Vec 예제"
   ]
  },
  {
   "cell_type": "markdown",
   "metadata": {
    "deletable": true,
    "editable": true
   },
   "source": [
    "# Word2Vec\n",
    "* [1] Brain's Pick : 단어 간 유사도 파악 방법 - https://brunch.co.kr/@kakao-it/189\n",
    "* [5] word2vec 관련 이론 정리 - https://shuuki4.wordpress.com/2016/01/27/word2vec-%EA%B4%80%EB%A0%A8-%EC%9D%B4%EB%A1%A0-%EC%A0%95%EB%A6%AC/\n",
    "* [6] Vector Representations of Words - https://www.tensorflow.org/tutorials/word2vec"
   ]
  },
  {
   "cell_type": "markdown",
   "metadata": {},
   "source": [
    "<img src=\"05_figures/cat1.png\" width=600 />\n",
    "<img src=\"05_figures/cat2.png\" width=600 />\n",
    "<img src=\"05_figures/w2v.png\" width=600 />\n",
    "<img src=\"05_figures/we.png\" width=600 />\n",
    "<img src=\"05_figures/tsne.png\" width=600 />"
   ]
  },
  {
   "cell_type": "markdown",
   "metadata": {
    "deletable": true,
    "editable": true
   },
   "source": [
    "--------------------------"
   ]
  },
  {
   "cell_type": "markdown",
   "metadata": {
    "deletable": true,
    "editable": true
   },
   "source": [
    "# Gensim을 이용한 Word2Vec 간단 예제"
   ]
  },
  {
   "cell_type": "markdown",
   "metadata": {
    "deletable": true,
    "editable": true
   },
   "source": [
    "* [2] models.word2vec – Deep learning with word2vec - https://radimrehurek.com/gensim/models/word2vec.html"
   ]
  },
  {
   "cell_type": "markdown",
   "metadata": {},
   "source": [
    "### 영어 예시"
   ]
  },
  {
   "cell_type": "code",
   "execution_count": 1,
   "metadata": {
    "collapsed": false
   },
   "outputs": [],
   "source": [
    "import gensim"
   ]
  },
  {
   "cell_type": "code",
   "execution_count": 6,
   "metadata": {
    "collapsed": true
   },
   "outputs": [],
   "source": [
    "# Data\n",
    "documents = [[\"my\", \"name\", \"is\", \"jamie\"], [\"jamie\", \"is\", \"cute\"]]"
   ]
  },
  {
   "cell_type": "code",
   "execution_count": 14,
   "metadata": {
    "collapsed": false
   },
   "outputs": [],
   "source": [
    "# 모델 초기화\n",
    "model = gensim.models.Word2Vec(min_count=1) # 예) Word2Vec(sentences, size=100, window=5, min_count=5, workers=4)"
   ]
  },
  {
   "cell_type": "code",
   "execution_count": 15,
   "metadata": {
    "collapsed": true
   },
   "outputs": [],
   "source": [
    "# 모델 사전 만들기\n",
    "model.build_vocab(documents)"
   ]
  },
  {
   "cell_type": "code",
   "execution_count": 23,
   "metadata": {
    "collapsed": false
   },
   "outputs": [
    {
     "data": {
      "text/plain": [
       "4"
      ]
     },
     "execution_count": 23,
     "metadata": {},
     "output_type": "execute_result"
    }
   ],
   "source": [
    "# 학습\n",
    "model.train(documents, total_examples=len(documents), epochs=10)"
   ]
  },
  {
   "cell_type": "code",
   "execution_count": 18,
   "metadata": {
    "collapsed": false
   },
   "outputs": [],
   "source": [
    "# 생성된 모델 저장 및 불러오기 - 이것은 나중에 이 모델을 다시 활용하려할 때 써보기. \n",
    "fname = 'mymodel.wv'\n",
    "model.save(fname)\n",
    "my_model = gensim.models.Word2Vec.load(fname)  "
   ]
  },
  {
   "cell_type": "code",
   "execution_count": 19,
   "metadata": {
    "collapsed": false
   },
   "outputs": [
    {
     "name": "stdout",
     "output_type": "stream",
     "text": [
      "mymodel.wv\r\n"
     ]
    }
   ],
   "source": [
    "%ls mymodel.wv"
   ]
  },
  {
   "cell_type": "code",
   "execution_count": 20,
   "metadata": {
    "collapsed": false
   },
   "outputs": [
    {
     "data": {
      "text/plain": [
       "array([  1.09521230e-03,   4.64050146e-03,  -4.45094937e-03,\n",
       "         3.06846108e-03,  -3.19714658e-03,  -3.16221220e-03,\n",
       "         4.56604082e-03,  -4.27358784e-03,  -1.06759043e-03,\n",
       "         4.42925887e-03,   4.23925649e-03,  -1.17838802e-03,\n",
       "         2.55819061e-03,  -4.12957836e-03,   1.79187104e-04,\n",
       "        -2.00552749e-03,   2.03928980e-03,  -3.58911417e-03,\n",
       "         1.47786108e-03,   3.37595446e-03,   4.60004807e-03,\n",
       "        -4.12984838e-04,  -3.15382407e-04,   2.99513136e-04,\n",
       "         4.55651293e-03,  -3.67720379e-03,  -3.22309928e-03,\n",
       "        -1.63103791e-03,  -1.51263608e-03,   2.21117213e-03,\n",
       "        -1.60928350e-03,  -2.75872787e-03,  -5.97351936e-05,\n",
       "         2.08250666e-03,   3.10056238e-03,   2.09029671e-03,\n",
       "        -3.98327690e-03,  -1.07583578e-03,  -4.15374897e-03,\n",
       "        -7.72640575e-04,   3.89523245e-03,  -2.88798497e-03,\n",
       "         4.52040322e-03,  -4.10884293e-03,  -8.05260439e-04,\n",
       "         2.14457465e-03,  -1.51244493e-03,   1.13508233e-03,\n",
       "        -2.00112816e-03,   2.20494764e-03,  -1.60002464e-03,\n",
       "        -3.38299456e-03,  -3.06312088e-03,  -3.74634430e-04,\n",
       "        -3.90874129e-03,  -2.21207878e-03,  -1.59158767e-03,\n",
       "        -4.10903245e-03,   2.32814066e-03,   3.42102442e-03,\n",
       "        -8.10275378e-04,   4.06233780e-03,  -2.24741595e-03,\n",
       "         9.78372642e-04,  -4.36198805e-03,   4.33430029e-03,\n",
       "        -3.27032874e-03,  -2.70430278e-03,  -1.02003454e-03,\n",
       "         4.14572190e-03,   1.38044078e-03,  -1.57427823e-03,\n",
       "         3.02972877e-03,   4.61665820e-03,   4.33313008e-03,\n",
       "        -7.98876456e-04,  -9.50649555e-04,   4.84596519e-03,\n",
       "        -2.25622952e-03,  -4.99843294e-03,   1.21833442e-03,\n",
       "         2.31998530e-03,  -2.82158470e-03,  -4.65845875e-03,\n",
       "         4.20730282e-03,   2.13505627e-04,  -3.61655699e-03,\n",
       "         4.07626200e-03,   3.54953972e-03,   4.44522733e-03,\n",
       "         1.24256522e-03,   3.36181186e-03,   3.98351578e-03,\n",
       "         2.54900847e-03,  -2.35827966e-03,   3.52989626e-03,\n",
       "        -3.30613134e-03,   1.26698939e-03,  -3.45706078e-03,\n",
       "         3.16824764e-04], dtype=float32)"
      ]
     },
     "execution_count": 20,
     "metadata": {},
     "output_type": "execute_result"
    }
   ],
   "source": [
    "# 단어의 벡터값 얻기 \n",
    "model.wv['name']  # numpy vector of a word"
   ]
  },
  {
   "cell_type": "markdown",
   "metadata": {},
   "source": [
    "### 한글 예시"
   ]
  },
  {
   "cell_type": "markdown",
   "metadata": {
    "deletable": true,
    "editable": true
   },
   "source": [
    "##### 다음 문서들을 이용해서 데이터를 만들자. \n",
    "* https://gasazip.com/view.html?no=614736\n",
    "* https://gasazip.com/1224697\n",
    "* https://gasazip.com/view.html?no=599082\n",
    "* https://gasazip.com/view.html?no=645465\n",
    "* http://gasazip.com/view.html?no=643505\n",
    "* https://gasazip.com/view.html?no=615362"
   ]
  },
  {
   "cell_type": "code",
   "execution_count": 21,
   "metadata": {
    "collapsed": true,
    "deletable": true,
    "editable": true
   },
   "outputs": [],
   "source": [
    "# -- 코딩 / 아래는 예시 - 우선은 전처리 하지 말고 바로 해보자.\n",
    "\n",
    "# Data\n",
    "# ---- 여기서부터 -------------------------------\n",
    "d1 = [\"매일\", \"울리는\", \"벨벨벨\"]\n",
    "d2 = [\"Sign을\", \"보내\", \"signal 보내\"]\n",
    "\n",
    "documents = []\n",
    "documents.append(d1)\n",
    "documents.append(d2)\n",
    "# 여기까지를, , 실습을 위해 제대로 바꾸면 된다 ---------"
   ]
  },
  {
   "cell_type": "code",
   "execution_count": 22,
   "metadata": {
    "collapsed": false
   },
   "outputs": [
    {
     "data": {
      "text/plain": [
       "array([  2.60377699e-03,  -8.73178069e-05,   2.76896008e-03,\n",
       "        -3.26095382e-03,  -4.06877045e-03,  -2.96207750e-03,\n",
       "        -3.83626367e-03,  -2.28576991e-03,   3.08630127e-03,\n",
       "         2.46401899e-03,  -7.96728826e-04,   1.25383027e-03,\n",
       "        -2.51484755e-03,   2.83268280e-03,  -1.31098100e-03,\n",
       "         4.04255185e-03,   3.82540189e-03,   1.11923798e-03,\n",
       "        -1.57980411e-03,   4.41629533e-03,   1.16598303e-03,\n",
       "        -3.93112568e-04,   4.75129718e-03,   3.59420595e-03,\n",
       "        -3.84916854e-03,  -3.39429174e-03,  -4.03628452e-03,\n",
       "         2.30653421e-03,  -1.29201170e-03,   2.36161286e-03,\n",
       "        -2.82154826e-04,   9.37287987e-04,  -4.60557523e-04,\n",
       "        -3.73785058e-03,   2.92462180e-03,   1.24247000e-03,\n",
       "         1.35458470e-03,  -1.04766956e-03,  -1.75770419e-03,\n",
       "        -1.70662580e-03,  -1.99063448e-03,   1.05575236e-04,\n",
       "        -2.21528369e-03,   1.67688332e-03,  -3.50895134e-04,\n",
       "         4.29488393e-03,   3.98305897e-03,   1.46421313e-04,\n",
       "         1.12749869e-03,   1.72619929e-03,   4.94385429e-04,\n",
       "        -2.51132762e-03,  -6.12501171e-04,  -4.98337159e-03,\n",
       "         4.65410389e-03,   3.42312014e-05,  -3.26936413e-03,\n",
       "         5.37519460e-04,  -4.61101113e-03,   3.54976929e-03,\n",
       "        -4.88366513e-03,  -2.36215862e-03,  -3.80130857e-03,\n",
       "         2.17704382e-03,   4.26078541e-03,  -2.63016578e-03,\n",
       "         4.15764982e-03,  -2.77217571e-03,   4.65165358e-03,\n",
       "        -2.62733968e-03,   2.66680145e-04,   2.41383584e-03,\n",
       "         1.13262725e-03,   7.88851001e-04,  -3.93350422e-03,\n",
       "         1.90654618e-03,  -4.94049722e-03,  -2.38299224e-04,\n",
       "        -3.40750907e-03,  -8.30562378e-04,   8.91028030e-04,\n",
       "         4.23836708e-03,  -4.07071877e-03,  -2.92357081e-03,\n",
       "        -1.42258278e-03,   2.12968304e-03,  -1.47429632e-03,\n",
       "         3.26246419e-03,   4.95031197e-03,   2.97169574e-03,\n",
       "        -1.15393254e-04,  -1.09270455e-04,  -3.66841001e-03,\n",
       "        -1.57970656e-03,  -4.80918726e-03,   3.83417867e-03,\n",
       "        -3.96284461e-03,   4.17020358e-03,   3.61465430e-03,\n",
       "        -1.25586066e-05], dtype=float32)"
      ]
     },
     "execution_count": 22,
     "metadata": {},
     "output_type": "execute_result"
    }
   ],
   "source": [
    "\n",
    "# 모델 초기화\n",
    "model = gensim.models.Word2Vec(min_count=1) # 예) Word2Vec(sentences, size=100, window=5, min_count=5, workers=4)\n",
    "\n",
    "# 모델 사전 만들기\n",
    "model.build_vocab(documents)\n",
    "\n",
    "# 학습\n",
    "model.train(documents, total_examples=len(documents), epochs=10)\n",
    "\n",
    "# 단어의 벡터값 얻기 \n",
    "model.wv['벨벨벨']  # numpy vector of a word"
   ]
  },
  {
   "cell_type": "markdown",
   "metadata": {},
   "source": [
    "# Gensim을 이용한 한국어 Word2Vec 예제"
   ]
  },
  {
   "cell_type": "markdown",
   "metadata": {},
   "source": [
    "* [3] 한국어 Word2Vec - http://blog.theeluwin.kr/post/146591096133/%ED%95%9C%EA%B5%AD%EC%96%B4-word2vec\n"
   ]
  },
  {
   "cell_type": "markdown",
   "metadata": {},
   "source": [
    "##### 다음 문서들을 이용해서 데이터를 만들자. \n",
    "* https://gasazip.com/view.html?no=614736\n",
    "* https://gasazip.com/1224697\n",
    "* https://gasazip.com/view.html?no=599082\n",
    "* https://gasazip.com/view.html?no=645465\n",
    "* http://gasazip.com/view.html?no=643505\n",
    "* https://gasazip.com/view.html?no=615362    "
   ]
  },
  {
   "cell_type": "markdown",
   "metadata": {},
   "source": [
    "# 실습\n",
    "참고자료 [3]을 보고 직접 해보자. 형태소 분석도 해서."
   ]
  },
  {
   "cell_type": "code",
   "execution_count": null,
   "metadata": {
    "collapsed": true
   },
   "outputs": [],
   "source": [
    "# -- coding"
   ]
  },
  {
   "cell_type": "markdown",
   "metadata": {
    "deletable": true,
    "editable": true
   },
   "source": [
    "# 참고자료\n",
    "* [1] Brain's Pick : 단어 간 유사도 파악 방법 - https://brunch.co.kr/@kakao-it/189\n",
    "* [2] models.word2vec – Deep learning with word2vec - https://radimrehurek.com/gensim/models/word2vec.html\n",
    "* [3] 한국어 Word2Vec - http://blog.theeluwin.kr/post/146591096133/%ED%95%9C%EA%B5%AD%EC%96%B4-word2vec\n",
    "* [4] Word2Vec으로 문장 분류하기 - https://ratsgo.github.io/natural%20language%20processing/2017/03/08/word2vec/\n",
    "* [5] word2vec 관련 이론 정리 - https://shuuki4.wordpress.com/2016/01/27/word2vec-%EA%B4%80%EB%A0%A8-%EC%9D%B4%EB%A1%A0-%EC%A0%95%EB%A6%AC/\n",
    "* [6] Vector Representations of Words - https://www.tensorflow.org/tutorials/word2vec"
   ]
  }
 ],
 "metadata": {
  "kernelspec": {
   "display_name": "Python 3",
   "language": "python",
   "name": "python3"
  },
  "language_info": {
   "codemirror_mode": {
    "name": "ipython",
    "version": 3
   },
   "file_extension": ".py",
   "mimetype": "text/x-python",
   "name": "python",
   "nbconvert_exporter": "python",
   "pygments_lexer": "ipython3",
   "version": "3.5.2"
  },
  "name": "Gensim Newsgroup.ipynb"
 },
 "nbformat": 4,
 "nbformat_minor": 0
}
