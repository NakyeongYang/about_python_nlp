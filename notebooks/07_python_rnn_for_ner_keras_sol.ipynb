{
 "cells": [
  {
   "cell_type": "markdown",
   "metadata": {
    "deletable": true,
    "editable": true
   },
   "source": [
    "# 06. 파이썬을 이용한 RNN for NER (Using Keras)"
   ]
  },
  {
   "cell_type": "markdown",
   "metadata": {
    "deletable": true,
    "editable": true
   },
   "source": [
    "* 싸이그래머 / 어바웃 파이썬\n",
    "* 김무성"
   ]
  },
  {
   "cell_type": "markdown",
   "metadata": {
    "deletable": true,
    "editable": true
   },
   "source": [
    "# 차례\n",
    "* NER / CRF for NER / CRF-LSTM for NER  \n",
    "* anaGo를 이용한 NER - 간단 사용법\n",
    "* anaGo를 이용한 NER - 영어 데이터 학습 적용\n",
    "* anaGo를 이용한 NER - 한국어 데이터 학습 적용"
   ]
  },
  {
   "cell_type": "markdown",
   "metadata": {},
   "source": [
    "#### 참고\n",
    "* [1] Lecture 10: Recurrent Neural Networks - http://cs231n.stanford.edu/slides/2017/cs231n_2017_lecture10.pdf\n",
    "* [2] CRF기반 개채명 인식기(Named Entitiy Recognizer) 만들기 - https://github.com/biospin/biopy/blob/gh-pages/notebook/Part3/Week7/python-crfsuite-NER.ipynb\n",
    "* [3] LSTM-CRF for NER\n",
    "    - (원 논문) Bidirectional LSTM-CRF Models for Sequence Tagging - https://arxiv.org/abs/1508.01991\n",
    "    - (슬라이드) Bi-directional LSTM-CNNs-CRF for Italian Sequence Labeling - https://www.slideshare.net/basilepp/bidirectional-lstmcnnscrf-for-italian-sequence-labeling-84065298\n",
    "    - (슬라이드) 論文紹介：「End-to-end Sequence Labeling via Bi-directional LSTM-CNNs-CRF」 - https://www.slideshare.net/NaonoriNagano/endtoend-sequence-labeling-via-bidirectional-lstmcnnscrf\n",
    "    - (슬라이드 일부) Python과 Tensorflow를 활용한 AI Chatbot 개발 및 실무 적용 - https://www.slideshare.net/healess/python-tensorflow-ai-chatbot\n",
    "    - (슬라이드 일부) 20170227 파이썬으로 챗봇_만들기 - https://www.slideshare.net/KimSungdong1/20170227-72644192\n",
    "    - (슬라이드 일부) Deep Learning for Chatbot (2/4) - https://www.slideshare.net/JaeminCho6/dl-chatbot-seminar-day-02"
   ]
  },
  {
   "cell_type": "markdown",
   "metadata": {
    "deletable": true,
    "editable": true
   },
   "source": [
    "# NER / CRF for NER / CRF-LSTM for NER"
   ]
  },
  {
   "cell_type": "markdown",
   "metadata": {
    "deletable": true,
    "editable": true
   },
   "source": [
    "<img src=\"http://imanage.com/wp-content/uploads/2014/10/NER1.png\" width=600/>"
   ]
  },
  {
   "cell_type": "markdown",
   "metadata": {
    "deletable": true,
    "editable": true
   },
   "source": [
    "<img src=\"https://www.codeproject.com/KB/recipes/559535/gerative-discriminative.png\" width=600 />"
   ]
  },
  {
   "cell_type": "markdown",
   "metadata": {
    "deletable": true,
    "editable": true
   },
   "source": [
    "<img src=\"http://www.cs.cmu.edu/~ssandeep/images/lstm-crf.png\" width=600 />"
   ]
  },
  {
   "cell_type": "markdown",
   "metadata": {
    "deletable": true,
    "editable": true
   },
   "source": [
    "---------------------------------"
   ]
  },
  {
   "cell_type": "markdown",
   "metadata": {
    "deletable": true,
    "editable": true
   },
   "source": [
    "# anaGo를 이용한 NER - 간단 사용법\n",
    "* 설치\n",
    "* 실습을 위한 환경구성\n",
    "* pre-trained models을 사용하기"
   ]
  },
  {
   "cell_type": "markdown",
   "metadata": {},
   "source": [
    "#### 참고\n",
    "* [4] anaGo - https://github.com/Hironsan/anago"
   ]
  },
  {
   "cell_type": "markdown",
   "metadata": {
    "deletable": true,
    "editable": true
   },
   "source": [
    "## 설치"
   ]
  },
  {
   "cell_type": "code",
   "execution_count": 1,
   "metadata": {
    "collapsed": true,
    "deletable": true,
    "editable": true
   },
   "outputs": [],
   "source": [
    "# 설치\n",
    "#pip install anago"
   ]
  },
  {
   "cell_type": "markdown",
   "metadata": {
    "deletable": true,
    "editable": true
   },
   "source": [
    "## 실습을 위한 환경구성"
   ]
  },
  {
   "cell_type": "code",
   "execution_count": 2,
   "metadata": {
    "collapsed": false,
    "deletable": true,
    "editable": true
   },
   "outputs": [
    {
     "name": "stderr",
     "output_type": "stream",
     "text": [
      "Using TensorFlow backend.\n"
     ]
    }
   ],
   "source": [
    "import anago"
   ]
  },
  {
   "cell_type": "code",
   "execution_count": null,
   "metadata": {
    "collapsed": true,
    "deletable": true,
    "editable": true
   },
   "outputs": [],
   "source": [
    "# 아래와 같은 폴더가 만들어져 있어야 한다."
   ]
  },
  {
   "cell_type": "code",
   "execution_count": 3,
   "metadata": {
    "collapsed": false,
    "deletable": true,
    "editable": true
   },
   "outputs": [
    {
     "name": "stdout",
     "output_type": "stream",
     "text": [
      "07_data/data:\r\n",
      "\u001b[0m\u001b[01;34men\u001b[0m/  \u001b[01;34mkr\u001b[0m/\r\n",
      "\r\n",
      "07_data/models:\r\n",
      "\u001b[01;34mdefult\u001b[0m/  \u001b[01;34men\u001b[0m/  \u001b[01;34mkr\u001b[0m/\r\n"
     ]
    }
   ],
   "source": [
    "%ls 07_data/*"
   ]
  },
  {
   "cell_type": "markdown",
   "metadata": {
    "deletable": true,
    "editable": true
   },
   "source": [
    "## pre-trained models을 사용하기"
   ]
  },
  {
   "cell_type": "code",
   "execution_count": 5,
   "metadata": {
    "collapsed": false,
    "deletable": true,
    "editable": true
   },
   "outputs": [
    {
     "name": "stdout",
     "output_type": "stream",
     "text": [
      "Downloading...\n",
      "Complete!\n"
     ]
    }
   ],
   "source": [
    "# Downloading pre-trained models - 해당 패키지가 좀 준비해놓은 것이 있다.\n",
    "from anago.utils import download\n",
    "\n",
    "dir_path = '07_data/models/defult'\n",
    "url = 'https://storage.googleapis.com/chakki/datasets/public/models.zip'\n",
    "download(url, dir_path)"
   ]
  },
  {
   "cell_type": "code",
   "execution_count": 68,
   "metadata": {
    "collapsed": false,
    "deletable": true,
    "editable": true
   },
   "outputs": [
    {
     "name": "stdout",
     "output_type": "stream",
     "text": [
      "config.json  model_weights.h5  preprocessor.pkl\r\n"
     ]
    }
   ],
   "source": [
    "%ls 07_data/models/defult"
   ]
  },
  {
   "cell_type": "code",
   "execution_count": 7,
   "metadata": {
    "collapsed": true,
    "deletable": true,
    "editable": true
   },
   "outputs": [],
   "source": [
    "# 모델 로드\n",
    "model = anago.Sequence.load(dir_path)"
   ]
  },
  {
   "cell_type": "code",
   "execution_count": 8,
   "metadata": {
    "collapsed": false,
    "deletable": true,
    "editable": true
   },
   "outputs": [
    {
     "data": {
      "text/plain": [
       "['President', 'Obama', 'is', 'speaking', 'at', 'the', 'White', 'House.']"
      ]
     },
     "execution_count": 8,
     "metadata": {},
     "output_type": "execute_result"
    }
   ],
   "source": [
    "# 분석할 문장 준비\n",
    "words = 'President Obama is speaking at the White House.'.split()\n",
    "words"
   ]
  },
  {
   "cell_type": "code",
   "execution_count": 9,
   "metadata": {
    "collapsed": false,
    "deletable": true,
    "editable": true
   },
   "outputs": [
    {
     "data": {
      "text/plain": [
       "{'entities': [{'beginOffset': 1,\n",
       "   'endOffset': 2,\n",
       "   'score': 1.0,\n",
       "   'text': 'Obama',\n",
       "   'type': 'PER'},\n",
       "  {'beginOffset': 6,\n",
       "   'endOffset': 8,\n",
       "   'score': 1.0,\n",
       "   'text': 'White House.',\n",
       "   'type': 'LOC'}],\n",
       " 'words': ['President',\n",
       "  'Obama',\n",
       "  'is',\n",
       "  'speaking',\n",
       "  'at',\n",
       "  'the',\n",
       "  'White',\n",
       "  'House.']}"
      ]
     },
     "execution_count": 9,
     "metadata": {},
     "output_type": "execute_result"
    }
   ],
   "source": [
    "# NER 탐지\n",
    "model.analyze(words)"
   ]
  },
  {
   "cell_type": "markdown",
   "metadata": {
    "deletable": true,
    "editable": true
   },
   "source": [
    "---------------------------"
   ]
  },
  {
   "cell_type": "markdown",
   "metadata": {
    "deletable": true,
    "editable": true
   },
   "source": [
    "# anaGo를 이용한 NER - 영어 데이터 학습 적용\n",
    "* 나만의 학습 데이터로 모델 만들기\n",
    "    - 학습 / 평가\n",
    "    - 예측\n",
    "* pre-trained word embeddings 사용하기 (gensim)"
   ]
  },
  {
   "cell_type": "markdown",
   "metadata": {
    "deletable": true,
    "editable": true
   },
   "source": [
    "## 나만의 학습 데이터로 모델 만들기"
   ]
  },
  {
   "cell_type": "markdown",
   "metadata": {
    "deletable": true,
    "editable": true
   },
   "source": [
    "#### 아래와 같은 형식으로 태깅된 파일을 준비하면 된다.\n",
    "* Training data takes a tsv format. The following text is an example of training data:"
   ]
  },
  {
   "cell_type": "markdown",
   "metadata": {
    "deletable": true,
    "editable": true
   },
   "source": [
    "```\n",
    "EU\tB-ORG\n",
    "rejects\tO\n",
    "German\tB-MISC\n",
    "call\tO\n",
    "to\tO\n",
    "boycott\tO\n",
    "British\tB-MISC\n",
    "lamb\tO\n",
    ".\tO\n",
    "\n",
    "Peter\tB-PER\n",
    "Blackburn\tI-PER\n",
    "```"
   ]
  },
  {
   "cell_type": "markdown",
   "metadata": {
    "deletable": true,
    "editable": true
   },
   "source": [
    "#### 학습용 데이터가 들어갈 폴더에 train.txt, valid.txt, test.txt 파일을 만들어 넣는다."
   ]
  },
  {
   "cell_type": "code",
   "execution_count": 74,
   "metadata": {
    "collapsed": false,
    "deletable": true,
    "editable": true
   },
   "outputs": [],
   "source": [
    "%ls 07_data/data/en"
   ]
  },
  {
   "cell_type": "code",
   "execution_count": null,
   "metadata": {
    "collapsed": true,
    "deletable": true,
    "editable": true
   },
   "outputs": [],
   "source": [
    "import anago\n",
    "from anago.reader import load_data_and_labels"
   ]
  },
  {
   "cell_type": "code",
   "execution_count": null,
   "metadata": {
    "collapsed": true,
    "deletable": true,
    "editable": true
   },
   "outputs": [],
   "source": [
    "train_data_dir = \"07_data/data/en/train.txt\"\n",
    "valid_data_dir = \"07_data/data/en/valid.txt\"\n",
    "test_data_dir = \"07_data/data/en/test.txt\""
   ]
  },
  {
   "cell_type": "code",
   "execution_count": null,
   "metadata": {
    "collapsed": true,
    "deletable": true,
    "editable": true
   },
   "outputs": [],
   "source": [
    "x_train, y_train = load_data_and_labels(train_data_dir)\n",
    "x_valid, y_valid = load_data_and_labels(valid_data_dir)\n",
    "x_test, y_test = load_data_and_labels(test_data_dir)"
   ]
  },
  {
   "cell_type": "code",
   "execution_count": null,
   "metadata": {
    "collapsed": true,
    "deletable": true,
    "editable": true
   },
   "outputs": [],
   "source": [
    "x_train"
   ]
  },
  {
   "cell_type": "code",
   "execution_count": null,
   "metadata": {
    "collapsed": true,
    "deletable": true,
    "editable": true
   },
   "outputs": [],
   "source": [
    "y_train"
   ]
  },
  {
   "cell_type": "code",
   "execution_count": null,
   "metadata": {
    "collapsed": true,
    "deletable": true,
    "editable": true
   },
   "outputs": [],
   "source": [
    "x_valid"
   ]
  },
  {
   "cell_type": "code",
   "execution_count": null,
   "metadata": {
    "collapsed": true,
    "deletable": true,
    "editable": true
   },
   "outputs": [],
   "source": [
    "y_valid"
   ]
  },
  {
   "cell_type": "code",
   "execution_count": null,
   "metadata": {
    "collapsed": true,
    "deletable": true,
    "editable": true
   },
   "outputs": [],
   "source": [
    "x_test"
   ]
  },
  {
   "cell_type": "code",
   "execution_count": null,
   "metadata": {
    "collapsed": true,
    "deletable": true,
    "editable": true
   },
   "outputs": [],
   "source": [
    "y_test"
   ]
  },
  {
   "cell_type": "code",
   "execution_count": null,
   "metadata": {
    "collapsed": true,
    "deletable": true,
    "editable": true
   },
   "outputs": [],
   "source": [
    "model = anago.Sequence(max_epoch=1)\n",
    "model.train(x_train, y_train, x_valid, y_valid)"
   ]
  },
  {
   "cell_type": "code",
   "execution_count": null,
   "metadata": {
    "collapsed": true,
    "deletable": true,
    "editable": true
   },
   "outputs": [],
   "source": [
    "model.eval(x_test, y_test)"
   ]
  },
  {
   "cell_type": "code",
   "execution_count": null,
   "metadata": {
    "collapsed": true,
    "deletable": true,
    "editable": true
   },
   "outputs": [],
   "source": [
    "words = 'President Obama is speaking at the White House.'.split()\n",
    "model.analyze(words)"
   ]
  },
  {
   "cell_type": "markdown",
   "metadata": {
    "deletable": true,
    "editable": true
   },
   "source": [
    "## pre-trained word embeddings 사용하기 (gensim)"
   ]
  },
  {
   "cell_type": "markdown",
   "metadata": {
    "deletable": true,
    "editable": true
   },
   "source": [
    "#### 참고\n",
    "* [5] ner_word2vec exmaple -  https://github.com/Hironsan/anago/blob/master/examples/ner_word2vec.py\n",
    "* [6] The List of Pretrained Word Embeddings - http://ahogrammer.com/2017/01/20/the-list-of-pretrained-word-embeddings/"
   ]
  },
  {
   "cell_type": "code",
   "execution_count": 1,
   "metadata": {
    "collapsed": true,
    "deletable": true,
    "editable": true
   },
   "outputs": [],
   "source": [
    "# 해보자"
   ]
  },
  {
   "cell_type": "markdown",
   "metadata": {
    "deletable": true,
    "editable": true
   },
   "source": [
    "--------------------------"
   ]
  },
  {
   "cell_type": "markdown",
   "metadata": {
    "deletable": true,
    "editable": true
   },
   "source": [
    "# anaGo를 이용한 NER - 한국어 데이터 학습 적용"
   ]
  },
  {
   "cell_type": "markdown",
   "metadata": {
    "deletable": true,
    "editable": true
   },
   "source": [
    "* 나만의 학습 데이터로 모델 만들기\n",
    "    - 학습 / 평가\n",
    "    - 예측\n",
    "* pre-trained word embeddings 사용하기 (gensim)"
   ]
  },
  {
   "cell_type": "markdown",
   "metadata": {
    "deletable": true,
    "editable": true
   },
   "source": [
    "## 나만의 학습 데이터로 모델 만들기"
   ]
  },
  {
   "cell_type": "code",
   "execution_count": 10,
   "metadata": {
    "collapsed": true,
    "deletable": true,
    "editable": true
   },
   "outputs": [],
   "source": [
    "import anago\n",
    "from anago.reader import load_data_and_labels"
   ]
  },
  {
   "cell_type": "code",
   "execution_count": 11,
   "metadata": {
    "collapsed": false,
    "deletable": true,
    "editable": true
   },
   "outputs": [
    {
     "name": "stdout",
     "output_type": "stream",
     "text": [
      "07_data/data/en:\r\n",
      "\r\n",
      "07_data/data/kr:\r\n",
      "test.txt  train.txt  valid.txt\r\n",
      "\r\n",
      "07_data/models/defult:\r\n",
      "config.json  model_weights.h5  preprocessor.pkl\r\n",
      "\r\n",
      "07_data/models/en:\r\n",
      "\r\n",
      "07_data/models/kr:\r\n"
     ]
    }
   ],
   "source": [
    "%ls 07_data/data/kr"
   ]
  },
  {
   "cell_type": "code",
   "execution_count": 34,
   "metadata": {
    "collapsed": true,
    "deletable": true,
    "editable": true
   },
   "outputs": [],
   "source": [
    "train_data_dir = \"07_data/data/kr/train.txt\"\n",
    "valid_data_dir = \"07_data/data/kr/valid.txt\"\n",
    "test_data_dir = \"07_data/data/kr/test.txt\""
   ]
  },
  {
   "cell_type": "code",
   "execution_count": 35,
   "metadata": {
    "collapsed": false,
    "deletable": true,
    "editable": true
   },
   "outputs": [],
   "source": [
    "x_train, y_train = load_data_and_labels(train_data_dir)\n",
    "x_valid, y_valid = load_data_and_labels(valid_data_dir)\n",
    "x_test, y_test = load_data_and_labels(test_data_dir)"
   ]
  },
  {
   "cell_type": "code",
   "execution_count": 36,
   "metadata": {
    "collapsed": false,
    "deletable": true,
    "editable": true
   },
   "outputs": [
    {
     "data": {
      "text/plain": [
       "array([ list(['하지만', '한국', '은', '끝내', '마지막', '김은정', '의', '샷이', '점수가', '되며', '감격의', '승리를', '거뒀다', '.']),\n",
       "       list(['김은정', '의', '눈물에', '팀원들도', '모두', '울었다', '.']),\n",
       "       list(['늘', '이겨도', '냉철한', '모습만', '보이던', '김은정', '역시', '눈물을', '쏟을', '정도로', '마음고생이', '심한', '경기였다', '.']),\n",
       "       list(['가히', '평창', '올림픽', '한국', '최고의', '장면', '중', '하나일', '수밖에', '없다', '.']),\n",
       "       list(['이상화', '의', '은메달', '이후', '고다이라', '나오', '에게', '안겨', '우는', '모습', ',']),\n",
       "       list(['윤성빈', '의', '금메달', '등']),\n",
       "       list(['최고의', '장면에', '꼭', '뽑힐', '만한', '멋지고', '감격적인', '김은정', '의', '눈물이었다', '.']),\n",
       "       list(['한국', '여자', '컬링', '대표팀은', '23일', '오후', '8시5분부터', '강릉', '컬링', '센터에서', '열린', '2018', '평창', '동계', '올림픽', '.']),\n",
       "       list(['1엔드부터', '3점을', '따내며', '기선을', '제압한', '한국', '은', '3엔드에', '1점을', '추가', ',', '4-2로', '앞서나갔다', '.']),\n",
       "       list(['승리가', '확실해보였으나', '일본', '의', '저력도', '매서웠다', '.']),\n",
       "       list(['주장', '김은정', '(', '스킵', ')', ',', '김영미', '(', '리드', ')', ',', '김선영', '(', '세컨드', ')', ',', '김경애', '(', '서드', ')', '로', '이뤄진', '한국', '여자', '대표팀은', '23일', '강릉', '컬링', '센터에서', '열린', '2018', '평창', '동계', '올림픽', '여자', '컬링', '준결승전에서', '‘', '숙적', '’', '일본', '을', '연장', '접전', '끝에', '8-7로', '제압했다', '.']),\n",
       "       list(['한국', '의', '김은정', '이', '마지막에', '웃었다', '.']),\n",
       "       list(['지난', '15일', '예선', '대결에선', '후지사와', '가', '먼저', '웃었다', '.']),\n",
       "       list(['당시', '일본', '이', '끌려가다', '역전승했다', '.']),\n",
       "       list(['1위로', '예선을', '통과한', '한국', '(', '8승', '1패', ')', '은', '유일하게', '일본', '(', '5대7', ')', '에만', '졌다', '.']),\n",
       "       list(['당시', '한국', '은', '9엔드', '때', '스킵', '김은정', '의', '결정적인', '샷', '미스로', '실점하면서', '역전당했고', ',', '10엔드에서', '만회하지', '못했다', '.']),\n",
       "       list(['김은정', '은', '이번', '올림픽', '에서', '환상적인', '샷으로', '수차례', '팬들의', '환호성과', '박수를', '받았다', '.']),\n",
       "       list(['그런데', '김은정', '의', '이번', '대회', '일본', '전', '샷', '성공률은', '60%로', '9경기', '중', '가장', '낮았다', '.']),\n",
       "       list(['반면', '후지사와', '는', '우리나라', '를', '맞아', '76%의', '샷', '성공률을', '기록했다', '.']),\n",
       "       list(['김은정', '은', '가장', '중요한', '준결승에서', '다시', '한번', '집중력을', '발휘했다', '.']),\n",
       "       list(['후지사와', '도', '만만치', '않았다', '.']),\n",
       "       list(['김은정', '은', '82%', ',', '후지사와', '는', '86%', '의', '샷', '성공률을', '기록했다', '.']),\n",
       "       list(['초반에는', '김은정', '이', '더', '빛났다', '.']),\n",
       "       list(['한국', '의', '승리를', '위한', '승부처였다', '.']),\n",
       "       list(['김은정', '은', '7번째', '스톤으로', '어려운', '더블', '테이크아웃을', '성공시켰다', '.']),\n",
       "       list(['‘', '안경선배', '’', '라는', '별명을', '얻은', '김은정', '이', '무표정한', '얼굴로', '경기에', '집중하거나', '바나나', '를', '먹는', '모습', '등을', '비교한', '사진']),\n",
       "       list(['김은정', '이', '“', '영미', ',', '여기', '지금이야', '”', '를', '외치면', '로봇청소기', '가', '컬링', '스톤', '처럼', '다가온다는', '설정의'])], dtype=object)"
      ]
     },
     "execution_count": 36,
     "metadata": {},
     "output_type": "execute_result"
    }
   ],
   "source": [
    "x_train"
   ]
  },
  {
   "cell_type": "code",
   "execution_count": 37,
   "metadata": {
    "collapsed": false,
    "deletable": true,
    "editable": true
   },
   "outputs": [
    {
     "data": {
      "text/plain": [
       "array([ list(['O', 'B-LOC', 'O', 'O', 'O', 'B-PER', 'O', 'O', 'O', 'O', 'O', 'O', 'O', 'O']),\n",
       "       list(['B-PER', 'O', 'O', 'O', 'O', 'O', 'O']),\n",
       "       list(['O', 'O', 'O', 'O', 'O', 'B-PER', 'O', 'O', 'O', 'O', 'O', 'O', 'O', 'O']),\n",
       "       list(['O', 'B-LOC', 'O', 'B-LOC', 'O', 'O', 'O', 'O', 'O', 'O', 'O']),\n",
       "       list(['B-PER', 'O', 'O', 'O', 'B-PER', 'I-PER', 'O', 'O', 'O', 'O', 'O']),\n",
       "       list(['B-PER', 'O', 'O', 'O']),\n",
       "       list(['O', 'O', 'O', 'O', 'O', 'O', 'O', 'B-PER', 'O', 'O', 'O']),\n",
       "       list(['B-LOC', 'O', 'O', 'O', 'O', 'O', 'O', 'B-LOC', 'O', 'O', 'O', 'O', 'B-LOC', 'O', 'O', 'O']),\n",
       "       list(['O', 'O', 'O', 'O', 'O', 'B-LOC', 'O', 'O', 'O', 'O', 'O', 'O', 'O', 'O']),\n",
       "       list(['O', 'O', 'B-LOC', 'O', 'O', 'O', 'O']),\n",
       "       list(['O', 'B-PER', 'O', 'O', 'O', 'O', 'B-PER', 'O', 'O', 'O', 'O', 'B-PER', 'O', 'O', 'O', 'O', 'B-PER', 'O', 'O', 'O', 'O', 'O', 'B-LOC', 'O', 'O', 'O', 'B-LOC', 'O', 'O', 'O', 'O', 'B-LOC', 'O', 'O', 'O', 'O', 'O', 'O', 'O', 'O', 'B-LOC', 'O', 'O', 'O', 'O', 'O', 'O', 'O']),\n",
       "       list(['B-LOC', 'O', 'B-PER', 'O', 'O', 'O', 'O']),\n",
       "       list(['O', 'O', 'O', 'O', 'B-PER', 'O', 'O', 'O', 'O']),\n",
       "       list(['O', 'B-LOC', 'O', 'O', 'O', 'O']),\n",
       "       list(['O', 'O', 'O', 'B-LOC', 'O', 'O', 'O', 'O', 'O', 'O', 'B-LOC', 'O', 'O', 'O', 'O', 'O', 'O']),\n",
       "       list(['O', 'B-LOC', 'O', 'O', 'O', 'O', 'B-PER', 'O', 'O', 'O', 'O', 'O', 'O', 'O', 'O', 'O', 'O', 'O']),\n",
       "       list(['B-PER', 'O', 'O', 'O', 'O', 'O', 'O', 'O', 'O', 'O', 'O', 'O', 'O']),\n",
       "       list(['O', 'B-PER', 'O', 'O', 'O', 'B-LOC', 'O', 'O', 'O', 'O', 'O', 'O', 'O', 'O', 'O']),\n",
       "       list(['O', 'B-PER', 'O', 'B-LOC', 'O', 'O', 'O', 'O', 'O', 'O', 'O']),\n",
       "       list(['B-PER', 'O', 'O', 'O', 'O', 'O', 'O', 'O', 'O', 'O']),\n",
       "       list(['B-PER', 'O', 'O', 'O', 'O']),\n",
       "       list(['B-PER', 'O', 'O', 'O', 'B-PER', 'O', 'O', 'O', 'O', 'O', 'O', 'O']),\n",
       "       list(['O', 'B-PER', 'O', 'O', 'O', 'O']),\n",
       "       list(['B-LOC', 'O', 'O', 'O', 'O', 'O']),\n",
       "       list(['B-PER', 'O', 'O', 'O', 'O', 'O', 'O', 'O', 'O']),\n",
       "       list(['O', 'O', 'O', 'O', 'O', 'O', 'B-PER', 'O', 'O', 'O', 'O', 'O', 'O', 'O', 'O', 'O', 'O', 'O', 'O']),\n",
       "       list(['B-PER', 'O', 'O', 'B-PER', 'O', 'O', 'O', 'O', 'O', 'O', 'O', 'O', 'O', 'O', 'O', 'O', 'O'])], dtype=object)"
      ]
     },
     "execution_count": 37,
     "metadata": {},
     "output_type": "execute_result"
    }
   ],
   "source": [
    "y_train"
   ]
  },
  {
   "cell_type": "code",
   "execution_count": 38,
   "metadata": {
    "collapsed": false,
    "deletable": true,
    "editable": true
   },
   "outputs": [
    {
     "data": {
      "text/plain": [
       "array([ list(['감격적인', '마지막', '샷을', '성공시킨', '후', '김은정', '의', '표정', '변화와', '눈물은', '가히', '평창', '동계', '올림픽', '최고의', '장면', '중', '하나라고', '하기에', '손색', '없었다', '.']),\n",
       "       list(['그동안', '냉철하고', '무표정한', '모습으로', '화제를', '모았던', '안경', '선배', '김은정', '이', '울었다', '.']),\n",
       "       list(['승리', '확정', '후', '그동안', '냉철한', '모습과', '무표정한', '모습으로', '국민적', '인기를', '끌었던', \"'\", '안경', '선배', \"'\", '김은정', '은', '왈칵', '눈물을', '쏟았다', '.']),\n",
       "       list(['한국', '은', '25일', '오전', '9시5분', '열리는', '결승전에서', '예선에서', '7-6으로', '이겼던', '난적', '스웨덴', '과', '맞붙게', '됐다', '.']),\n",
       "       list(['김은정', '은', '컬링', '을', '시작한지', '이제', '막', '10년이', '넘었다', '.']),\n",
       "       list(['고등학교', '친구', '김영미', '에', '이끌려', '입문한', '뒤', '꾸준한', '발전', '속에', '지금의', '스킵으로', '성장했다', '.']),\n",
       "       list(['반면', '후지사와', '는', '6세', '때', '아버지', '의', '손에', '이끌려', '컬링', '스톤', '을', '잡았다', '.']),\n",
       "       list(['컬링', '경력만', '놓고', '보면', '후지사와', '가', '더', '길다', '.']),\n",
       "       list(['일본', '홋카이도', '출신인', '후지사와', '는', '컬링', '집안의', '막내딸', '이라', '어릴적부터', '얼음이', '익숙했다', '.']),\n",
       "       list(['하지만', '김은정', '은', '이번', '대회를', '통해', '성장을', '거듭했다', '.']),\n",
       "       list(['10엔드에서', '실수한', '마음의', '짐을', '털어낸', '김은정', '은', '눈물을', '흘렸다', '.']),\n",
       "       list(['김은정', '앞에', '일본', '은', '없었다', '.']),\n",
       "       list(['대한민국', '에', '새', '컬링', '용어', '‘', '영미', '’', '가', '등장했다', '.']),\n",
       "       list(['내로라하는', '강호들을', '연파하며', '10개', '팀', '중', '예선', '1위로', '4강', '진출을', '확정한', '여자', '컬링', '대표팀', '의', '김영미', '(', '27', ')', '가', '그', '주인공이다', '.']),\n",
       "       list(['한국', '여자', '컬링', '이', '파죽지세로', '7연승을', '달리자', '누리꾼들은', '대표팀', '스킵', '(', '주장', ')', '김은정', '(', '28', ')', '이', '경기마다', '애타게', '외치는', '‘', '영미', '’', '를', '패러디한', '각종', '글과', '영상들을', '쏟아내고', '있다', '.']),\n",
       "       list(['“', '여자', '컬링', '대표팀', '은', '영미', ',', '영미', '동생', ',', '영미', '친구', ',', '영미', '동생', '친구', '로', '이뤄졌다', '”', '는', '누리꾼들', '의', '우스갯소리도', '있다', '.'])], dtype=object)"
      ]
     },
     "execution_count": 38,
     "metadata": {},
     "output_type": "execute_result"
    }
   ],
   "source": [
    "x_valid"
   ]
  },
  {
   "cell_type": "code",
   "execution_count": 39,
   "metadata": {
    "collapsed": false,
    "deletable": true,
    "editable": true
   },
   "outputs": [
    {
     "data": {
      "text/plain": [
       "array([ list(['O', 'O', 'O', 'O', 'O', 'B-PER', 'O', 'O', 'O', 'O', 'O', 'B-LOC', 'O', 'O', 'O', 'O', 'O', 'O', 'O', 'O', 'O', 'O']),\n",
       "       list(['O', 'O', 'O', 'O', 'O', 'O', 'O', 'O', 'B-PER', 'O', 'O', 'O']),\n",
       "       list(['O', 'O', 'O', 'O', 'O', 'O', 'O', 'O', 'O', 'O', 'O', 'O', 'O', 'O', 'O', 'B-PER', 'O', 'O', 'O', 'O', 'O']),\n",
       "       list(['B-LOC', 'O', 'O', 'O', 'O', 'O', 'O', 'O', 'O', 'O', 'O', 'B-LOC', 'O', 'O', 'O', 'O']),\n",
       "       list(['B-PER', 'O', 'O', 'O', 'O', 'O', 'O', 'O', 'O', 'O']),\n",
       "       list(['O', 'O', 'B-PER', 'O', 'O', 'O', 'O', 'O', 'O', 'O', 'O', 'O', 'O', 'O']),\n",
       "       list(['O', 'B-PER', 'O', 'O', 'O', 'O', 'O', 'O', 'O', 'O', 'O', 'O', 'O', 'O']),\n",
       "       list(['O', 'O', 'O', 'O', 'B-PER', 'O', 'O', 'O', 'O']),\n",
       "       list(['B-LOC', 'B-LOC', 'O', 'B-PER', 'O', 'O', 'O', 'O', 'O', 'O', 'O', 'O', 'O']),\n",
       "       list(['O', 'B-PER', 'O', 'O', 'O', 'O', 'O', 'O', 'O']),\n",
       "       list(['O', 'O', 'O', 'O', 'O', 'B-PER', 'O', 'O', 'O', 'O']),\n",
       "       list(['B-PER', 'O', 'B-LOC', 'O', 'O', 'O']),\n",
       "       list(['B-LOC', 'O', 'O', 'O', 'O', 'O', 'B-PER', 'O', 'O', 'O', 'O']),\n",
       "       list(['O', 'O', 'O', 'O', 'O', 'O', 'O', 'O', 'O', 'O', 'O', 'O', 'O', 'O', 'O', 'B-PER', 'O', 'O', 'O', 'O', 'O', 'O', 'O']),\n",
       "       list(['B-LOC', 'O', 'O', 'O', 'O', 'O', 'O', 'O', 'O', 'O', 'O', 'O', 'O', 'B-PER', 'O', 'O', 'O', 'O', 'O', 'O', 'O', 'O', 'B-PER', 'O', 'O', 'O', 'O', 'O', 'O', 'O', 'O', 'O']),\n",
       "       list(['O', 'O', 'O', 'O', 'O', 'B-PER', 'O', 'B-PER', 'O', 'O', 'B-PER', 'O', 'O', 'B-PER', 'O', 'O', 'O', 'O', 'O', 'O', 'O', 'O', 'O', 'O', 'O'])], dtype=object)"
      ]
     },
     "execution_count": 39,
     "metadata": {},
     "output_type": "execute_result"
    }
   ],
   "source": [
    "y_valid"
   ]
  },
  {
   "cell_type": "code",
   "execution_count": 40,
   "metadata": {
    "collapsed": false,
    "deletable": true,
    "editable": true
   },
   "outputs": [
    {
     "data": {
      "text/plain": [
       "array([ list(['지난', '15일', '예선', '2차전에서', '일본', '에', '5-7로', '역전패했던', '한국', '은', '이날', '승리로', '지난', '패배를', '설욕하고', '최소한', '은메달', '을', '확보했다', '.']),\n",
       "       list(['4엔드에는', '일본', '에', '1점을', '내줬지만', '5엔드', '2점', ',', '8엔드', '1점을', '내며', '7-4까지', '벌렸다', '.']),\n",
       "       list(['그러나', '연장으로', '접어든', '11엔드에서', '스킵', '김은정', '이', '정확한', '샷으로', '1점을', '내며', '짜릿한', '승리에', '마침표를', '찍었다', '.']),\n",
       "       list(['김영미', '와', '김경애', '(', '24', ')', '는', '친자매', '사이고', ',', '김은정', '과', '김선영', '(', '25', ')', '은', '각각', '자매의', '친구들이기', '때문이다', '.']),\n",
       "       list(['영미', '는', '이제', '‘', '국민', '영미', '’', '가', '됐다', '.'])], dtype=object)"
      ]
     },
     "execution_count": 40,
     "metadata": {},
     "output_type": "execute_result"
    }
   ],
   "source": [
    "x_test"
   ]
  },
  {
   "cell_type": "code",
   "execution_count": 41,
   "metadata": {
    "collapsed": false,
    "deletable": true,
    "editable": true
   },
   "outputs": [
    {
     "data": {
      "text/plain": [
       "array([ list(['O', 'O', 'O', 'O', 'B-LOC', 'O', 'O', 'O', 'B-LOC', 'O', 'O', 'O', 'O', 'O', 'O', 'O', 'O', 'O', 'O', 'O']),\n",
       "       list(['O', 'B-LOC', 'O', 'O', 'O', 'O', 'O', 'O', 'O', 'O', 'O', 'O', 'O', 'O']),\n",
       "       list(['O', 'O', 'O', 'O', 'O', 'B-PER', 'O', 'O', 'O', 'O', 'O', 'O', 'O', 'O', 'O', 'O']),\n",
       "       list(['B-PER', 'O', 'B-PER', 'O', 'O', 'O', 'O', 'O', 'O', 'O', 'B-PER', 'O', 'B-PER', 'O', 'O', 'O', 'O', 'O', 'O', 'O', 'O', 'O']),\n",
       "       list(['B-PER', 'O', 'O', 'O', 'O', 'B-PER', 'O', 'O', 'O', 'O'])], dtype=object)"
      ]
     },
     "execution_count": 41,
     "metadata": {},
     "output_type": "execute_result"
    }
   ],
   "source": [
    "y_test"
   ]
  },
  {
   "cell_type": "code",
   "execution_count": 61,
   "metadata": {
    "collapsed": false,
    "deletable": true,
    "editable": true
   },
   "outputs": [
    {
     "name": "stdout",
     "output_type": "stream",
     "text": [
      "Epoch 1/1\n",
      "1/2 [==============>...............] - ETA: 49s - loss: 33.1497 - f1: 13.18\n",
      "2/2 [==============================] - 54s 27s/step - loss: 52.6783\n"
     ]
    }
   ],
   "source": [
    "model = anago.Sequence(max_epoch=1)\n",
    "model.train(x_train, y_train, x_valid, y_valid)"
   ]
  },
  {
   "cell_type": "code",
   "execution_count": 62,
   "metadata": {
    "collapsed": false,
    "deletable": true,
    "editable": true
   },
   "outputs": [
    {
     "name": "stdout",
     "output_type": "stream",
     "text": [
      " - f1: 11.49\n"
     ]
    }
   ],
   "source": [
    "model.eval(x_test, y_test)"
   ]
  },
  {
   "cell_type": "code",
   "execution_count": 67,
   "metadata": {
    "collapsed": false,
    "deletable": true,
    "editable": true
   },
   "outputs": [
    {
     "data": {
      "text/plain": [
       "{'entities': [{'beginOffset': 1,\n",
       "   'endOffset': 2,\n",
       "   'score': 1.0,\n",
       "   'text': '한국',\n",
       "   'type': 'PER'},\n",
       "  {'beginOffset': 2, 'endOffset': 3, 'score': 1.0, 'text': '은', 'type': 'PER'},\n",
       "  {'beginOffset': 3,\n",
       "   'endOffset': 4,\n",
       "   'score': 1.0,\n",
       "   'text': '끝내',\n",
       "   'type': 'PER'},\n",
       "  {'beginOffset': 4,\n",
       "   'endOffset': 5,\n",
       "   'score': 1.0,\n",
       "   'text': '마지막',\n",
       "   'type': 'PER'},\n",
       "  {'beginOffset': 5,\n",
       "   'endOffset': 6,\n",
       "   'score': 1.0,\n",
       "   'text': '김은정',\n",
       "   'type': 'PER'},\n",
       "  {'beginOffset': 6, 'endOffset': 7, 'score': 1.0, 'text': '의', 'type': 'PER'},\n",
       "  {'beginOffset': 7,\n",
       "   'endOffset': 8,\n",
       "   'score': 1.0,\n",
       "   'text': '샷이',\n",
       "   'type': 'PER'},\n",
       "  {'beginOffset': 8,\n",
       "   'endOffset': 9,\n",
       "   'score': 1.0,\n",
       "   'text': '점수가',\n",
       "   'type': 'PER'},\n",
       "  {'beginOffset': 9,\n",
       "   'endOffset': 10,\n",
       "   'score': 1.0,\n",
       "   'text': '되며',\n",
       "   'type': 'PER'},\n",
       "  {'beginOffset': 10,\n",
       "   'endOffset': 11,\n",
       "   'score': 1.0,\n",
       "   'text': '감격의',\n",
       "   'type': 'PER'},\n",
       "  {'beginOffset': 11,\n",
       "   'endOffset': 12,\n",
       "   'score': 1.0,\n",
       "   'text': '승리를',\n",
       "   'type': 'PER'},\n",
       "  {'beginOffset': 12,\n",
       "   'endOffset': 13,\n",
       "   'score': 1.0,\n",
       "   'text': '거뒀다',\n",
       "   'type': 'PER'}],\n",
       " 'words': ['하지만',\n",
       "  '한국',\n",
       "  '은',\n",
       "  '끝내',\n",
       "  '마지막',\n",
       "  '김은정',\n",
       "  '의',\n",
       "  '샷이',\n",
       "  '점수가',\n",
       "  '되며',\n",
       "  '감격의',\n",
       "  '승리를',\n",
       "  '거뒀다']}"
      ]
     },
     "execution_count": 67,
     "metadata": {},
     "output_type": "execute_result"
    }
   ],
   "source": [
    "words = '하지만 한국 은 끝내 마지막 김은정 의 샷이 점수가 되며 감격의 승리를 거뒀다'.split()\n",
    "#words = '김은정 은 자신의 실수를 만회하며 한국 의 승리를 이끌었다.'.split()\n",
    "#words = '김은정 스킵과 리드 김영미, 세컨드 김선영, 서드 김경애, 후보 김초희로 이뤄진 한국 여자 컬링 대표팀은 5엔드까지 홀수 엔드에서는 일본을 눌렀다.'.split()\n",
    "model.analyze(words)"
   ]
  },
  {
   "cell_type": "markdown",
   "metadata": {
    "deletable": true,
    "editable": true
   },
   "source": [
    "## pre-trained word embeddings 사용하기 (gensim)"
   ]
  },
  {
   "cell_type": "markdown",
   "metadata": {},
   "source": [
    "#### 참고\n",
    "* [7] Pre-trained word vectors of 30+ languages -https://github.com/Kyubyong/wordvectors\n",
    "* [8] kor2vec - https://github.com/dongjun-Lee/kor2vec"
   ]
  },
  {
   "cell_type": "code",
   "execution_count": 2,
   "metadata": {
    "collapsed": true,
    "deletable": true,
    "editable": true
   },
   "outputs": [],
   "source": [
    "# 해보자"
   ]
  },
  {
   "cell_type": "markdown",
   "metadata": {
    "deletable": true,
    "editable": true
   },
   "source": [
    "# 참고자료 \n",
    "* [1] Lecture 10: Recurrent Neural Networks - http://cs231n.stanford.edu/slides/2017/cs231n_2017_lecture10.pdf\n",
    "* [2] CRF기반 개채명 인식기(Named Entitiy Recognizer) 만들기 - https://github.com/biospin/biopy/blob/gh-pages/notebook/Part3/Week7/python-crfsuite-NER.ipynb\n",
    "* [3] LSTM-CRF for NER\n",
    "    - (원 논문) Bidirectional LSTM-CRF Models for Sequence Tagging - https://arxiv.org/abs/1508.01991\n",
    "    - (슬라이드) Bi-directional LSTM-CNNs-CRF for Italian Sequence Labeling - https://www.slideshare.net/basilepp/bidirectional-lstmcnnscrf-for-italian-sequence-labeling-84065298\n",
    "    - (슬라이드) 論文紹介：「End-to-end Sequence Labeling via Bi-directional LSTM-CNNs-CRF」 - https://www.slideshare.net/NaonoriNagano/endtoend-sequence-labeling-via-bidirectional-lstmcnnscrf\n",
    "    - (슬라이드 일부) Python과 Tensorflow를 활용한 AI Chatbot 개발 및 실무 적용 - https://www.slideshare.net/healess/python-tensorflow-ai-chatbot\n",
    "    - (슬라이드 일부) 20170227 파이썬으로 챗봇_만들기 - https://www.slideshare.net/KimSungdong1/20170227-72644192\n",
    "    - (슬라이드 일부) Deep Learning for Chatbot (2/4) - https://www.slideshare.net/JaeminCho6/dl-chatbot-seminar-day-02\n",
    "* [4] anaGo - https://github.com/Hironsan/anago\n",
    "* [5] ner_word2vec exmaple -  https://github.com/Hironsan/anago/blob/master/examples/ner_word2vec.py\n",
    "* [6] The List of Pretrained Word Embeddings - http://ahogrammer.com/2017/01/20/the-list-of-pretrained-word-embeddings/\n",
    "* [7] Pre-trained word vectors of 30+ languages -https://github.com/Kyubyong/wordvectors\n",
    "* [8] kor2vec - https://github.com/dongjun-Lee/kor2vec"
   ]
  }
 ],
 "metadata": {
  "kernelspec": {
   "display_name": "Python 3",
   "language": "python",
   "name": "python3"
  },
  "language_info": {
   "codemirror_mode": {
    "name": "ipython",
    "version": 3
   },
   "file_extension": ".py",
   "mimetype": "text/x-python",
   "name": "python",
   "nbconvert_exporter": "python",
   "pygments_lexer": "ipython3",
   "version": "3.5.2"
  },
  "name": "Gensim Newsgroup.ipynb"
 },
 "nbformat": 4,
 "nbformat_minor": 0
}
