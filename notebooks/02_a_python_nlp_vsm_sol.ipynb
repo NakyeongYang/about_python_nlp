{
 "cells": [
  {
   "cell_type": "markdown",
   "metadata": {},
   "source": [
    "# 02_a. Distributional word representations"
   ]
  },
  {
   "cell_type": "markdown",
   "metadata": {},
   "source": [
    "* 싸이그래머 / 어바웃 파이썬\n",
    "* 김무성"
   ]
  },
  {
   "cell_type": "markdown",
   "metadata": {},
   "source": [
    "# 차례\n",
    "* TF-IDF\n",
    "    - gensim으로 tf-idf\n",
    "    - scikit-learn으로 tf-idf\n",
    "* Distributional word representations"
   ]
  },
  {
   "cell_type": "markdown",
   "metadata": {},
   "source": [
    "# TF-IDF\n",
    "* gensim으로 tf-idf\n",
    "* scikit-learn으로 tf-idf"
   ]
  },
  {
   "cell_type": "markdown",
   "metadata": {},
   "source": [
    "#### vector space model"
   ]
  },
  {
   "cell_type": "markdown",
   "metadata": {},
   "source": [
    "<img src=\"https://media.licdn.com/mpr/mpr/shrinknp_400_400/AAEAAQAAAAAAAAEDAAAAJGJlMzAwMzU0LTQ5MTEtNDk4Yi04MDVlLWMzN2MwMzZiNzQxMw.png\" width=600 />"
   ]
  },
  {
   "cell_type": "markdown",
   "metadata": {},
   "source": [
    "#### BOW (Bag of Words) "
   ]
  },
  {
   "cell_type": "markdown",
   "metadata": {},
   "source": [
    "<img src=\"https://image.slidesharecdn.com/mrkt451speciallecture1i-140307202701-phpapp01/95/introduction-to-text-mining-8-638.jpg?cb=1394224092\" width=600 />"
   ]
  },
  {
   "cell_type": "markdown",
   "metadata": {},
   "source": [
    "#### TF-IDF"
   ]
  },
  {
   "cell_type": "markdown",
   "metadata": {},
   "source": [
    "<img src=\"http://images.slideplayer.com/16/5094063/slides/slide_2.jpg\" width=600 />"
   ]
  },
  {
   "cell_type": "markdown",
   "metadata": {},
   "source": [
    "<img src=\"http://www.bloter.net/wp-content/uploads/2016/09/td-idf-graphic-765x255.png\" width=600 />"
   ]
  },
  {
   "cell_type": "markdown",
   "metadata": {},
   "source": [
    "<img src=\"https://i.ytimg.com/vi/zvFGNpbAfEI/hqdefault.jpg\" width=600 />"
   ]
  },
  {
   "cell_type": "markdown",
   "metadata": {},
   "source": [
    "## gensim으로 tf-idf"
   ]
  },
  {
   "cell_type": "markdown",
   "metadata": {},
   "source": [
    "gensim에서 tf-idf을 계산하려면 문서 목록인 documents를 corpus 클래스로 바꿔야 한다."
   ]
  },
  {
   "cell_type": "code",
   "execution_count": 3,
   "metadata": {
    "collapsed": true
   },
   "outputs": [],
   "source": [
    "# 가상의 4가지 문서 \n",
    "documents = [\n",
    "    \"a b c a\",\n",
    "    \"c b c\",\n",
    "    \"b b a\",\n",
    "    \"a c c\",\n",
    "    \"c b a\",\n",
    "]"
   ]
  },
  {
   "cell_type": "code",
   "execution_count": 21,
   "metadata": {
    "collapsed": false
   },
   "outputs": [
    {
     "name": "stdout",
     "output_type": "stream",
     "text": [
      "[['a', 'b', 'c', 'a'],\n",
      " ['c', 'b', 'c'],\n",
      " ['b', 'b', 'a'],\n",
      " ['a', 'c', 'c'],\n",
      " ['c', 'b', 'a']]\n"
     ]
    }
   ],
   "source": [
    "from pprint import pprint\n",
    "\n",
    "# 단어(토큰) 단위로 분할\n",
    "texts = list(map(lambda x: x.split(), documents))\n",
    "\n",
    "pprint(texts)"
   ]
  },
  {
   "cell_type": "code",
   "execution_count": 23,
   "metadata": {
    "collapsed": false
   },
   "outputs": [
    {
     "name": "stdout",
     "output_type": "stream",
     "text": [
      "{'a': 0, 'b': 1, 'c': 2}\n"
     ]
    }
   ],
   "source": [
    "from gensim import corpora\n",
    "\n",
    "# Dictionary 객체. 구체적으로는 단어에 id 할당 (그 외에도 여러가지 기능은 튜토리얼 참조)\n",
    "dictionary = corpora.Dictionary(texts)\n",
    "\n",
    "pprint(dictionary.token2id)"
   ]
  },
  {
   "cell_type": "code",
   "execution_count": 24,
   "metadata": {
    "collapsed": false
   },
   "outputs": [
    {
     "name": "stdout",
     "output_type": "stream",
     "text": [
      "[[(0, 2), (1, 1), (2, 1)],\n",
      " [(1, 1), (2, 2)],\n",
      " [(0, 1), (1, 2)],\n",
      " [(0, 1), (2, 2)],\n",
      " [(0, 1), (1, 1), (2, 1)]]\n"
     ]
    }
   ],
   "source": [
    "# 위의 dictioanry를 사용하여 방금 전의 texts를 corpus로 바꾼다.\n",
    "# 각 문서의 (출현 단어 id, 출현 횟수) 튜플의 리스트 \n",
    "corpus = list(map(dictionary.doc2bow, texts))\n",
    "pprint(corpus)"
   ]
  },
  {
   "cell_type": "code",
   "execution_count": 33,
   "metadata": {
    "collapsed": true
   },
   "outputs": [],
   "source": [
    "# corpus에서 tfidf 모델 생성\n",
    "from gensim import models\n",
    "tfidf_model = models.TfidfModel(corpus)"
   ]
  },
  {
   "cell_type": "code",
   "execution_count": 34,
   "metadata": {
    "collapsed": false
   },
   "outputs": [
    {
     "name": "stdout",
     "output_type": "stream",
     "text": [
      "[(0, 0.816496580927726), (1, 0.408248290463863), (2, 0.408248290463863)]\n",
      "[(1, 0.447213595499958), (2, 0.894427190999916)]\n",
      "[(0, 0.447213595499958), (1, 0.894427190999916)]\n",
      "[(0, 0.447213595499958), (2, 0.894427190999916)]\n",
      "[(0, 0.5773502691896257), (1, 0.5773502691896257), (2, 0.5773502691896257)]\n"
     ]
    }
   ],
   "source": [
    "# 코퍼스들의 tf-idf 구함\n",
    "corpus_tfidf = tfidf_model[corpus]\n",
    "\n",
    "for doc in corpus_tfidf:\n",
    "    print(doc)"
   ]
  },
  {
   "cell_type": "code",
   "execution_count": 35,
   "metadata": {
    "collapsed": false
   },
   "outputs": [
    {
     "name": "stdout",
     "output_type": "stream",
     "text": [
      "Similarity index with 5 documents in 0 shards (stored under ./)\n",
      "<class 'gensim.similarities.docsim.Similarity'>\n"
     ]
    }
   ],
   "source": [
    "# tf-idf기반 유사 문서 찾기\n",
    "from gensim import similarities\n",
    "sims = similarities.Similarity('./',corpus_tfidf,\n",
    "                                      num_features=len(dictionary))\n",
    "print(sims)\n",
    "print(type(sims))"
   ]
  },
  {
   "cell_type": "code",
   "execution_count": 36,
   "metadata": {
    "collapsed": false
   },
   "outputs": [
    {
     "name": "stdout",
     "output_type": "stream",
     "text": [
      "[['a', 'b', 'c', 'a'],\n",
      " ['c', 'b', 'c'],\n",
      " ['b', 'b', 'a'],\n",
      " ['a', 'c', 'c'],\n",
      " ['c', 'b', 'a']]\n",
      "['c', 'c', 'c']\n",
      "[(2, 3)]\n",
      "[(2, 1.0)]\n"
     ]
    },
    {
     "data": {
      "text/plain": [
       "array([ 0.40824831,  0.89442718,  0.        ,  0.89442718,  0.57735026], dtype=float32)"
      ]
     },
     "execution_count": 36,
     "metadata": {},
     "output_type": "execute_result"
    }
   ],
   "source": [
    "# 비교할 문서도 tf-idf로 변경해줘야 한다.\n",
    "pprint(texts)\n",
    "\n",
    "query_doc = ['c', 'c', 'c']\n",
    "print(query_doc)\n",
    "query_doc_bow = dictionary.doc2bow(query_doc)\n",
    "print(query_doc_bow)\n",
    "query_doc_tf_idf = tfidf_model[query_doc_bow]\n",
    "print(query_doc_tf_idf)\n",
    "\n",
    "sims[query_doc_tf_idf]"
   ]
  },
  {
   "cell_type": "markdown",
   "metadata": {},
   "source": [
    "### 실습 1 \n",
    "#### 1) 이걸 tf-idf 벡터화 해보자.\n",
    "```python\n",
    "raw_documents = [\"I'm taking the show on the road.\",\n",
    "                 \"My socks are a force multiplier.\",\n",
    "                 \"I am the barber who cuts everyone's hair who doesn't cut their own.\",\n",
    "                 \"Legend has it that the mind is a mad monkey.\",\n",
    "                 \"I make my own fun.\"]\n",
    "```                 \n",
    "#### 2) 위의 문서 중에서 아래 문서와 가장 유사한 것은 무엇인가?\n",
    "```python\n",
    "query_doc = \"Socks are a force for good.\"\n",
    "```"
   ]
  },
  {
   "cell_type": "markdown",
   "metadata": {},
   "source": [
    "### 실습 2\n",
    "#### 1) 다음 문서들을 tf-idf 벡터로 만들어보자.\n",
    "* https://gasazip.com/view.html?no=614736\n",
    "* https://gasazip.com/1224697\n",
    "* https://gasazip.com/view.html?no=599082\n",
    "* https://gasazip.com/view.html?no=645465\n",
    "* http://gasazip.com/view.html?no=643505\n",
    "* https://gasazip.com/view.html?no=615362\n",
    "\n",
    "#### 2) 위의 문서 중에서 아래 문서와 가장 유사한 것은 무엇인가?\n",
    "* https://gasazip.com/view.html?no=636135"
   ]
  },
  {
   "cell_type": "markdown",
   "metadata": {},
   "source": [
    "## scikit-learn으로 tf-idf"
   ]
  },
  {
   "cell_type": "markdown",
   "metadata": {},
   "source": [
    "Scikit-Learn 의 feature_extraction 서브패키지와 feature_extraction.text 서브 패키지는 다음과 같은 문서 전처리용 클래스를 제공.\n",
    "\n",
    "* DictVectorizer:\n",
    "    - 단어의 수를 세어놓은 사전에서 BOW 벡터를 만든다.\n",
    "* CountVectorizer:\n",
    "    - 문서 집합으로부터 단어의 수를 세어 BOW 벡터를 만든다.\n",
    "* TfidfVectorizer:\n",
    "    - 문서 집합으로부터 단어의 수를 세고 TF-IDF 방식으로 단어의 가중치를 조정한 BOW 벡터를 만든다.\n",
    "* HashingVectorizer:\n",
    "    - hashing trick 을 사용하여 빠르게 BOW 벡터를 만든다."
   ]
  },
  {
   "cell_type": "code",
   "execution_count": 40,
   "metadata": {
    "collapsed": false
   },
   "outputs": [
    {
     "data": {
      "text/plain": [
       "{'and': 0,\n",
       " 'document': 1,\n",
       " 'first': 2,\n",
       " 'is': 3,\n",
       " 'last': 4,\n",
       " 'one': 5,\n",
       " 'second': 6,\n",
       " 'the': 7,\n",
       " 'third': 8,\n",
       " 'this': 9}"
      ]
     },
     "execution_count": 40,
     "metadata": {},
     "output_type": "execute_result"
    }
   ],
   "source": [
    "# 코퍼스에서 빈도 벡터 만들기\n",
    "from sklearn.feature_extraction.text import CountVectorizer\n",
    "corpus = [\n",
    "    'This is the first document.',\n",
    "    'This is the second second document.',\n",
    "    'And the third one.',\n",
    "    'Is this the first document?',\n",
    "    'The last document?',    \n",
    "]\n",
    "vect = CountVectorizer()\n",
    "vect.fit(corpus)\n",
    "vect.vocabulary_"
   ]
  },
  {
   "cell_type": "code",
   "execution_count": 41,
   "metadata": {
    "collapsed": false
   },
   "outputs": [
    {
     "data": {
      "text/plain": [
       "array([[0, 1, 0, 1, 0, 0, 1, 1, 0, 1]])"
      ]
     },
     "execution_count": 41,
     "metadata": {},
     "output_type": "execute_result"
    }
   ],
   "source": [
    "vect.transform(['This is the second document.']).toarray()"
   ]
  },
  {
   "cell_type": "code",
   "execution_count": 42,
   "metadata": {
    "collapsed": false
   },
   "outputs": [
    {
     "data": {
      "text/plain": [
       "array([[0, 0, 0, 0, 0, 0, 0, 0, 0, 0]])"
      ]
     },
     "execution_count": 42,
     "metadata": {},
     "output_type": "execute_result"
    }
   ],
   "source": [
    "vect.transform(['Something completely new.']).toarray()"
   ]
  },
  {
   "cell_type": "code",
   "execution_count": 43,
   "metadata": {
    "collapsed": false
   },
   "outputs": [
    {
     "data": {
      "text/plain": [
       "array([[0, 1, 1, 1, 0, 0, 0, 1, 0, 1],\n",
       "       [0, 1, 0, 1, 0, 0, 2, 1, 0, 1],\n",
       "       [1, 0, 0, 0, 0, 1, 0, 1, 1, 0],\n",
       "       [0, 1, 1, 1, 0, 0, 0, 1, 0, 1],\n",
       "       [0, 1, 0, 0, 1, 0, 0, 1, 0, 0]])"
      ]
     },
     "execution_count": 43,
     "metadata": {},
     "output_type": "execute_result"
    }
   ],
   "source": [
    "vect.transform(corpus).toarray()"
   ]
  },
  {
   "cell_type": "code",
   "execution_count": 44,
   "metadata": {
    "collapsed": false
   },
   "outputs": [
    {
     "data": {
      "text/plain": [
       "{'document': 0, 'first': 1, 'last': 2, 'one': 3, 'second': 4, 'third': 5}"
      ]
     },
     "execution_count": 44,
     "metadata": {},
     "output_type": "execute_result"
    }
   ],
   "source": [
    "# Stop Words (사전 생성할 때 무시할 단어들) 적용\n",
    "vect = CountVectorizer(stop_words=[\"and\", \"is\", \"the\", \"this\"]).fit(corpus)\n",
    "vect.vocabulary_"
   ]
  },
  {
   "cell_type": "code",
   "execution_count": 45,
   "metadata": {
    "collapsed": false
   },
   "outputs": [
    {
     "data": {
      "text/plain": [
       "{'document': 0, 'second': 1}"
      ]
     },
     "execution_count": 45,
     "metadata": {},
     "output_type": "execute_result"
    }
   ],
   "source": [
    "vect = CountVectorizer(stop_words=\"english\").fit(corpus)\n",
    "vect.vocabulary_"
   ]
  },
  {
   "cell_type": "code",
   "execution_count": 131,
   "metadata": {
    "collapsed": false
   },
   "outputs": [],
   "source": [
    "# 웹 문서 빈도 분석\n",
    "import requests\n",
    "from bs4 import BeautifulSoup\n",
    "import json\n",
    "import string\n",
    "from konlpy.utils import pprint\n",
    "from konlpy.tag import Hannanum\n",
    "hannanum = Hannanum()\n",
    "\n",
    "url = \"https://gasazip.com/view.html?no=614736\"\n",
    "#url = \"https://gasazip.com/view.html?no=636135\""
   ]
  },
  {
   "cell_type": "code",
   "execution_count": 132,
   "metadata": {
    "collapsed": true
   },
   "outputs": [],
   "source": [
    "# HTTP GET Request\n",
    "req = requests.get(url)\n",
    "# HTML 소스 가져오기\n",
    "html = req.text\n",
    "# BeautifulSoup으로 html소스를 python객체로 변환하기\n",
    "# 첫 인자는 html소스코드, 두 번째 인자는 어떤 parser를 이용할지 명시.\n",
    "# 이 글에서는 Python 내장 html.parser를 이용했다.\n",
    "soup = BeautifulSoup(html, 'html.parser')"
   ]
  },
  {
   "cell_type": "code",
   "execution_count": 133,
   "metadata": {
    "collapsed": false
   },
   "outputs": [],
   "source": [
    "lyrics = []\n",
    "for txt in soup.find_all('div', attrs={'class': 'col-md-8'}) :\n",
    "    lines = txt.get_text().split('\\n')\n",
    "    for line in lines :\n",
    "        lyrics.append(line.strip())"
   ]
  },
  {
   "cell_type": "code",
   "execution_count": 134,
   "metadata": {
    "collapsed": false
   },
   "outputs": [
    {
     "data": {
      "text/plain": [
       "['CHEER UP',\n",
       " '',\n",
       " '매일 울리는 벨벨벨',\n",
       " '이젠 나를 배려 해줘',\n",
       " '배터리 낭비하긴 싫어',\n",
       " '자꾸만 봐 자꾸 자꾸만 와',\n",
       " '전화가 펑 터질 것만 같아',\n",
       " '몰라 몰라 숨도 못 쉰대',\n",
       " '나 때문에 힘들어',\n",
       " '쿵 심장이 떨어진대 왜',\n",
       " '걔 말은 나 너무 예쁘대',\n",
       " '자랑 하는건 아니구',\n",
       " '아 아까는 못 받아서 미안해',\n",
       " '친구를 만나느라 shy shy shy',\n",
       " '만나긴 좀 그렇구 미안해',\n",
       " '좀 있다 연락할게 later',\n",
       " '조르지마 얼마 가지 않아',\n",
       " '부르게 해줄게 Baby',\n",
       " '아직은 좀 일러 내 맘 같긴 일러',\n",
       " '하지만 더 보여줄래',\n",
       " 'CHEER UP BABY CHEER UP BABY',\n",
       " '좀 더 힘을 내',\n",
       " '여자가 쉽게 맘을 주면 안돼',\n",
       " '그래야 니가 날 더 좋아하게 될걸',\n",
       " '태연하게 연기할래 아무렇지 않게',\n",
       " '내가 널 좋아하는 맘 모르게',\n",
       " 'just get it together',\n",
       " 'and then baby CHEER UP',\n",
       " '안절부절 목소리가',\n",
       " '여기까지 들려',\n",
       " '땀에 젖은 전화기가',\n",
       " '여기서도 보여',\n",
       " '바로 바로 대답하는 것도',\n",
       " '매력 없어',\n",
       " '메시지만 읽고',\n",
       " '확인 안 하는 건 기본',\n",
       " '어어어 너무 심했나 boy',\n",
       " '이러다가 지칠까 봐',\n",
       " '걱정되긴 하고',\n",
       " '어어어 안 그러면 내가 더',\n",
       " '빠질 것만 같어 빠질 것만 같어',\n",
       " '아 답장을 못해줘서 미안해',\n",
       " '친구를 만나느라 shy shy shy',\n",
       " '만나긴 좀 그렇구 미안해',\n",
       " '좀 있다 연락할게 later',\n",
       " '조르지마 어디 가지 않아',\n",
       " '되어줄게 너의 Baby',\n",
       " '너무 빨린 싫어 성의를 더 보여',\n",
       " '내가 널 기다려줄게',\n",
       " 'CHEER UP BABY CHEER UP BABY',\n",
       " '좀 더 힘을 내',\n",
       " '여자가 쉽게 맘을 주면 안돼',\n",
       " '그래야 니가 날 더 좋아하게 될걸',\n",
       " '태연하게 연기할래 아무렇지 않게',\n",
       " '내가 널 좋아하는 맘 모르게',\n",
       " 'just get it together',\n",
       " 'and then baby CHEER UP',\n",
       " '나도 니가 좋아 상처 입을까 봐',\n",
       " '걱정되지만 여자니까 이해해주길',\n",
       " '속 마음 들킬 까봐 겁이나',\n",
       " '지금처럼 조금만 더 다가와',\n",
       " '그리 오래 걸리진 않아',\n",
       " 'just get it together',\n",
       " 'and then baby CHEER UP',\n",
       " 'Be a man a real man',\n",
       " 'gotta see u love me like a real man',\n",
       " 'Be a man a real man',\n",
       " 'gotta see u love me like a real man',\n",
       " 'CHEER UP BABY CHEER UP BABY',\n",
       " '좀 더 힘을 내',\n",
       " '여자가 쉽게 맘을 주면 안돼',\n",
       " '그래야 니가 날 더 좋아하게 될걸',\n",
       " '태연하게 연기할래 아무렇지 않게',\n",
       " '내가 널 좋아하는 맘 모르게',\n",
       " 'just get it together',\n",
       " 'and then baby CHEER UP',\n",
       " '',\n",
       " 'HTTP://K2NBLOG.COM',\n",
       " '']"
      ]
     },
     "execution_count": 134,
     "metadata": {},
     "output_type": "execute_result"
    }
   ],
   "source": [
    "lyrics"
   ]
  },
  {
   "cell_type": "code",
   "execution_count": 135,
   "metadata": {
    "collapsed": false
   },
   "outputs": [],
   "source": [
    "docs = [w for w in hannanum.nouns(\" \".join(lyrics)) if ((not w[0].isnumeric()) and (w[0] not in string.punctuation))]"
   ]
  },
  {
   "cell_type": "code",
   "execution_count": 136,
   "metadata": {
    "collapsed": false
   },
   "outputs": [
    {
     "data": {
      "text/plain": [
       "['벨벨벨',\n",
       " '이젠',\n",
       " '나',\n",
       " '배',\n",
       " '배터리',\n",
       " '낭비하긴',\n",
       " '전화',\n",
       " '것',\n",
       " '숨',\n",
       " '쉰대',\n",
       " '나',\n",
       " '때문',\n",
       " '심장',\n",
       " '떨어진대',\n",
       " '걔',\n",
       " '나',\n",
       " '예쁘대',\n",
       " '자랑',\n",
       " '하는건',\n",
       " '아니구',\n",
       " '미안',\n",
       " '친구',\n",
       " '만나긴',\n",
       " '그렇구',\n",
       " '미안',\n",
       " '연락할게',\n",
       " '조르지마',\n",
       " '얼마',\n",
       " '가지',\n",
       " '내',\n",
       " '같긴',\n",
       " '힘',\n",
       " '여자',\n",
       " '니',\n",
       " '될걸',\n",
       " '태연',\n",
       " '연기할래',\n",
       " '나',\n",
       " '목소리',\n",
       " '여기',\n",
       " '전화기',\n",
       " '여기',\n",
       " '대답',\n",
       " '것',\n",
       " '매력',\n",
       " '확인',\n",
       " '거',\n",
       " '기본',\n",
       " '어어',\n",
       " '걱정되긴',\n",
       " '어어',\n",
       " '나',\n",
       " '것',\n",
       " '것',\n",
       " '답장',\n",
       " '미안',\n",
       " '친구',\n",
       " '만나긴',\n",
       " '그렇구',\n",
       " '미안',\n",
       " '연락할게',\n",
       " '조르지마',\n",
       " '가지',\n",
       " '너',\n",
       " '성의',\n",
       " '나',\n",
       " '힘',\n",
       " '여자',\n",
       " '니',\n",
       " '될걸',\n",
       " '태연',\n",
       " '연기할래',\n",
       " '나',\n",
       " '나',\n",
       " '니',\n",
       " '상처',\n",
       " '걱정',\n",
       " '여자',\n",
       " '이해해주길',\n",
       " '속',\n",
       " '마음',\n",
       " '겁',\n",
       " '지금',\n",
       " '조금',\n",
       " '걸리진',\n",
       " '힘',\n",
       " '여자',\n",
       " '니',\n",
       " '될걸',\n",
       " '태연',\n",
       " '연기할래',\n",
       " '나']"
      ]
     },
     "execution_count": 136,
     "metadata": {},
     "output_type": "execute_result"
    }
   ],
   "source": [
    "docs"
   ]
  },
  {
   "cell_type": "markdown",
   "metadata": {},
   "source": [
    "여기에서는 하나의 문서가 하나의 단어로만 이루어져 있다. 따라서 CountVectorizer로 이 문서 집합을 처리하면 각 문서는 하나의 원소만 1이고 나머지 원소는 0인 벡터가 된다. 이 벡터의 합으로 빈도를 알아보았다.\n"
   ]
  },
  {
   "cell_type": "code",
   "execution_count": 137,
   "metadata": {
    "collapsed": false
   },
   "outputs": [
    {
     "data": {
      "image/png": "[encoded data removed]",
      "text/plain": [
       "<matplotlib.figure.Figure at 0x7fce98ecc0f0>"
      ]
     },
     "metadata": {},
     "output_type": "display_data"
    }
   ],
   "source": [
    "import numpy as np\n",
    "import matplotlib.pyplot as plt\n",
    "\n",
    "vect = CountVectorizer().fit(docs)\n",
    "count = vect.transform(docs).toarray().sum(axis=0)\n",
    "idx = np.argsort(-count)\n",
    "count = count[idx]\n",
    "feature_name = np.array(vect.get_feature_names())[idx]\n",
    "plt.bar(range(len(count)), count)\n",
    "plt.show()"
   ]
  },
  {
   "cell_type": "code",
   "execution_count": 138,
   "metadata": {
    "collapsed": false
   },
   "outputs": [
    {
     "name": "stdout",
     "output_type": "stream",
     "text": [
      "[('여자', 4),\n",
      " ('미안', 4),\n",
      " ('태연', 3),\n",
      " ('연기할래', 3),\n",
      " ('될걸', 3),\n",
      " ('가지', 2),\n",
      " ('친구', 2),\n",
      " ('조르지마', 2),\n",
      " ('그렇구', 2),\n",
      " ('여기', 2),\n",
      " ('어어', 2),\n",
      " ('연락할게', 2),\n",
      " ('만나긴', 2),\n",
      " ('얼마', 1),\n",
      " ('이해해주길', 1),\n",
      " ('이젠', 1),\n",
      " ('자랑', 1),\n",
      " ('전화', 1),\n",
      " ('전화기', 1),\n",
      " ('조금', 1),\n",
      " ('지금', 1),\n",
      " ('예쁘대', 1),\n",
      " ('아니구', 1),\n",
      " ('성의', 1),\n",
      " ('쉰대', 1),\n",
      " ('같긴', 1),\n",
      " ('걱정', 1),\n",
      " ('걱정되긴', 1),\n",
      " ('걸리진', 1),\n",
      " ('기본', 1),\n",
      " ('낭비하긴', 1),\n",
      " ('답장', 1),\n",
      " ('대답', 1),\n",
      " ('때문', 1),\n",
      " ('떨어진대', 1),\n",
      " ('마음', 1),\n",
      " ('매력', 1),\n",
      " ('목소리', 1),\n",
      " ('배터리', 1),\n",
      " ('벨벨벨', 1),\n",
      " ('상처', 1),\n",
      " ('하는건', 1),\n",
      " ('심장', 1),\n",
      " ('확인', 1)]\n"
     ]
    }
   ],
   "source": [
    "pprint(list(zip(feature_name, count)))"
   ]
  },
  {
   "cell_type": "code",
   "execution_count": 46,
   "metadata": {
    "collapsed": true
   },
   "outputs": [],
   "source": [
    "# 코퍼스에서 tf-idf 벡터 만들기\n",
    "from sklearn.feature_extraction.text import TfidfVectorizer\n",
    "corpus = [\n",
    "    'This is the first document.',\n",
    "    'This is the second second document.',\n",
    "    'And the third one.',\n",
    "    'Is this the first document?',\n",
    "    'The last document?',    \n",
    "]"
   ]
  },
  {
   "cell_type": "code",
   "execution_count": 49,
   "metadata": {
    "collapsed": false
   },
   "outputs": [
    {
     "data": {
      "text/plain": [
       "array([[ 0.        ,  0.38947624,  0.55775063,  0.4629834 ,  0.        ,\n",
       "         0.        ,  0.        ,  0.32941651,  0.        ,  0.4629834 ],\n",
       "       [ 0.        ,  0.24151532,  0.        ,  0.28709733,  0.        ,\n",
       "         0.        ,  0.85737594,  0.20427211,  0.        ,  0.28709733],\n",
       "       [ 0.55666851,  0.        ,  0.        ,  0.        ,  0.        ,\n",
       "         0.55666851,  0.        ,  0.26525553,  0.55666851,  0.        ],\n",
       "       [ 0.        ,  0.38947624,  0.55775063,  0.4629834 ,  0.        ,\n",
       "         0.        ,  0.        ,  0.32941651,  0.        ,  0.4629834 ],\n",
       "       [ 0.        ,  0.45333103,  0.        ,  0.        ,  0.80465933,\n",
       "         0.        ,  0.        ,  0.38342448,  0.        ,  0.        ]])"
      ]
     },
     "execution_count": 49,
     "metadata": {},
     "output_type": "execute_result"
    }
   ],
   "source": [
    "tfidv = TfidfVectorizer().fit(corpus)\n",
    "corpus_tfidf = tfidv.transform(corpus).toarray()\n",
    "corpus_tfidf"
   ]
  },
  {
   "cell_type": "code",
   "execution_count": 53,
   "metadata": {
    "collapsed": false
   },
   "outputs": [
    {
     "data": {
      "text/plain": [
       "array([[ 1.        ,  0.42719768,  0.08737955,  1.        ,  0.30286802],\n",
       "       [ 0.42719768,  1.        ,  0.05418431,  0.42719768,  0.18780932],\n",
       "       [ 0.08737955,  0.05418431,  1.        ,  0.08737955,  0.10170546],\n",
       "       [ 1.        ,  0.42719768,  0.08737955,  1.        ,  0.30286802],\n",
       "       [ 0.30286802,  0.18780932,  0.10170546,  0.30286802,  1.        ]])"
      ]
     },
     "execution_count": 53,
     "metadata": {},
     "output_type": "execute_result"
    }
   ],
   "source": [
    "from sklearn.metrics.pairwise import cosine_similarity\n",
    "cosine_similarity(corpus_tfidf)"
   ]
  },
  {
   "cell_type": "markdown",
   "metadata": {},
   "source": [
    "### 실습 3 - 실습 2를 scikit-learn으로 해보자\n",
    "#### 1) 다음 문서들을 tf-idf 벡터로 만들어보자.\n",
    "* https://gasazip.com/view.html?no=614736\n",
    "* https://gasazip.com/1224697\n",
    "* https://gasazip.com/view.html?no=599082\n",
    "* https://gasazip.com/view.html?no=645465\n",
    "* http://gasazip.com/view.html?no=643505\n",
    "* https://gasazip.com/view.html?no=615362\n",
    "\n",
    "#### 2) 위의 문서 중에서 아래 문서와 가장 유사한 것은 무엇인가?\n",
    "* https://gasazip.com/view.html?no=636135"
   ]
  },
  {
   "cell_type": "markdown",
   "metadata": {},
   "source": [
    "# Distributional word representations\n",
    "* 환경 설정\n",
    "* Distributional matrices\n",
    "* Vector comparison\n",
    "* Distributional neighbors\n",
    "* Matrix reweighting"
   ]
  },
  {
   "cell_type": "markdown",
   "metadata": {},
   "source": [
    "#### 참고\n",
    "* [7] CS224U: Natural Language Understanding - https://web.stanford.edu/class/cs224u/\n",
    "* [8] CS224U: Natural Language Understanding / Distributional word representations \n",
    "    - notebook -  http://nbviewer.jupyter.org/github/cgpotts/cs224u/blob/master/vsm.ipynb\n",
    "    - Overview slide - https://web.stanford.edu/class/cs224u/materials/cs224u-vsm-overview.pdf\n",
    "    - Vector comparison slide - https://web.stanford.edu/class/cs224u/materials/cs224u-vsm-veccompare.pdf\n",
    "    - Reweighting slide - https://web.stanford.edu/class/cs224u/materials/cs224u-vsm-weighting.pdf"
   ]
  },
  {
   "cell_type": "markdown",
   "metadata": {},
   "source": [
    "## 환경 설정\n",
    "* data - https://web.stanford.edu/class/cs224u/data/vsmdata.zip"
   ]
  },
  {
   "cell_type": "code",
   "execution_count": 144,
   "metadata": {
    "collapsed": false
   },
   "outputs": [
    {
     "name": "stdout",
     "output_type": "stream",
     "text": [
      "--2018-01-12 22:02:56--  https://web.stanford.edu/class/cs224u/data/vsmdata.zip\n",
      "Resolving web.stanford.edu (web.stanford.edu)... 171.67.215.200, 2607:f6d0:0:925a::ab43:d7c8\n",
      "Connecting to web.stanford.edu (web.stanford.edu)|171.67.215.200|:443... connected.\n",
      "HTTP request sent, awaiting response... 200 OK\n",
      "Length: 12703912 (12M) [application/zip]\n",
      "Saving to: ‘vsmdata.zip’\n",
      "\n",
      "vsmdata.zip         100%[=====================>]  12.12M   446KB/s   in 28s    \n",
      "\n",
      "2018-01-12 22:03:25 (441 KB/s) - ‘vsmdata.zip’ saved [12703912/12703912]\n",
      "\n"
     ]
    }
   ],
   "source": [
    "!wget https://web.stanford.edu/class/cs224u/data/vsmdata.zip"
   ]
  },
  {
   "cell_type": "code",
   "execution_count": 145,
   "metadata": {
    "collapsed": false
   },
   "outputs": [
    {
     "name": "stdout",
     "output_type": "stream",
     "text": [
      "Archive:  vsmdata.zip\n",
      "   creating: vsmdata/\n",
      "  inflating: vsmdata/.DS_Store       \n",
      "   creating: __MACOSX/\n",
      "   creating: __MACOSX/vsmdata/\n",
      "  inflating: __MACOSX/vsmdata/._.DS_Store  \n",
      "  inflating: vsmdata/gigawordnyt-advmod-matrix.csv  \n",
      "  inflating: __MACOSX/vsmdata/._gigawordnyt-advmod-matrix.csv  \n",
      "  inflating: vsmdata/imdb-posneg-lexicon.pickle  \n",
      "  inflating: __MACOSX/vsmdata/._imdb-posneg-lexicon.pickle  \n",
      "  inflating: vsmdata/imdb-worddoc.csv  \n",
      "  inflating: __MACOSX/vsmdata/._imdb-worddoc.csv  \n",
      "  inflating: vsmdata/imdb-wordword.csv  \n",
      "  inflating: __MACOSX/vsmdata/._imdb-wordword.csv  \n",
      "  inflating: vsmdata/longer_shuffled_synset_relations.tsv  \n",
      "  inflating: __MACOSX/vsmdata/._longer_shuffled_synset_relations.tsv  \n",
      "   creating: vsmdata/question-data/\n",
      "  inflating: vsmdata/question-data/capital-common-countries.txt  \n",
      "   creating: __MACOSX/vsmdata/question-data/\n",
      "  inflating: __MACOSX/vsmdata/question-data/._capital-common-countries.txt  \n",
      "  inflating: vsmdata/question-data/capital-world.txt  \n",
      "  inflating: __MACOSX/vsmdata/question-data/._capital-world.txt  \n",
      "  inflating: vsmdata/question-data/city-in-state.txt  \n",
      "  inflating: __MACOSX/vsmdata/question-data/._city-in-state.txt  \n",
      "  inflating: vsmdata/question-data/currency.txt  \n",
      "  inflating: __MACOSX/vsmdata/question-data/._currency.txt  \n",
      "  inflating: vsmdata/question-data/family.txt  \n",
      "  inflating: __MACOSX/vsmdata/question-data/._family.txt  \n",
      "  inflating: vsmdata/question-data/gram1-adjective-to-adverb.txt  \n",
      "  inflating: __MACOSX/vsmdata/question-data/._gram1-adjective-to-adverb.txt  \n",
      "  inflating: vsmdata/question-data/gram2-opposite.txt  \n",
      "  inflating: __MACOSX/vsmdata/question-data/._gram2-opposite.txt  \n",
      "  inflating: vsmdata/question-data/gram3-comparative.txt  \n",
      "  inflating: __MACOSX/vsmdata/question-data/._gram3-comparative.txt  \n",
      "  inflating: vsmdata/question-data/gram4-superlative.txt  \n",
      "  inflating: __MACOSX/vsmdata/question-data/._gram4-superlative.txt  \n",
      "  inflating: vsmdata/question-data/gram5-present-participle.txt  \n",
      "  inflating: __MACOSX/vsmdata/question-data/._gram5-present-participle.txt  \n",
      "  inflating: vsmdata/question-data/gram6-nationality-adjective.txt  \n",
      "  inflating: __MACOSX/vsmdata/question-data/._gram6-nationality-adjective.txt  \n",
      "  inflating: vsmdata/question-data/gram7-past-tense.txt  \n",
      "  inflating: __MACOSX/vsmdata/question-data/._gram7-past-tense.txt  \n",
      "  inflating: vsmdata/question-data/gram8-plural.txt  \n",
      "  inflating: __MACOSX/vsmdata/question-data/._gram8-plural.txt  \n",
      "  inflating: vsmdata/question-data/gram9-plural-verbs.txt  \n",
      "  inflating: __MACOSX/vsmdata/question-data/._gram9-plural-verbs.txt  \n",
      "  inflating: __MACOSX/vsmdata/._question-data  \n",
      "  inflating: vsmdata/README.txt      \n",
      "  inflating: __MACOSX/vsmdata/._README.txt  \n",
      "   creating: vsmdata/wordsim/\n",
      "  inflating: vsmdata/wordsim/.DS_Store  \n",
      "   creating: __MACOSX/vsmdata/wordsim/\n",
      "  inflating: __MACOSX/vsmdata/wordsim/._.DS_Store  \n",
      "  inflating: vsmdata/wordsim/MEN_dataset_natural_form_full  \n",
      "  inflating: __MACOSX/vsmdata/wordsim/._MEN_dataset_natural_form_full  \n",
      "  inflating: vsmdata/wordsim/MTurk-287.csv  \n",
      "  inflating: __MACOSX/vsmdata/wordsim/._MTurk-287.csv  \n",
      "  inflating: vsmdata/wordsim/MTURK-771.csv  \n",
      "  inflating: __MACOSX/vsmdata/wordsim/._MTURK-771.csv  \n",
      "  inflating: vsmdata/wordsim/wordsim353.csv  \n",
      "  inflating: __MACOSX/vsmdata/wordsim/._wordsim353.csv  \n",
      "  inflating: __MACOSX/._vsmdata      \n"
     ]
    }
   ],
   "source": [
    "!unzip vsmdata.zip"
   ]
  },
  {
   "cell_type": "code",
   "execution_count": 147,
   "metadata": {
    "collapsed": false
   },
   "outputs": [
    {
     "name": "stdout",
     "output_type": "stream",
     "text": [
      "vsmdata.zip\r\n",
      "\r\n",
      "vsmdata:\r\n",
      "gigawordnyt-advmod-matrix.csv  imdb-wordword.csv\t\t     README.txt\r\n",
      "imdb-posneg-lexicon.pickle     longer_shuffled_synset_relations.tsv  wordsim\r\n",
      "imdb-worddoc.csv\t       question-data\r\n"
     ]
    }
   ],
   "source": [
    "!ls vsmdata*"
   ]
  },
  {
   "cell_type": "code",
   "execution_count": 150,
   "metadata": {
    "collapsed": true
   },
   "outputs": [],
   "source": [
    "vsmdata_home = \"vsmdata\""
   ]
  },
  {
   "cell_type": "code",
   "execution_count": 152,
   "metadata": {
    "collapsed": false
   },
   "outputs": [],
   "source": [
    "import os\n",
    "import sys\n",
    "import csv\n",
    "import random\n",
    "import itertools\n",
    "from operator import itemgetter\n",
    "from collections import defaultdict\n",
    "import numpy as np\n",
    "import scipy\n",
    "import scipy.spatial.distance\n",
    "from numpy.linalg import svd\n",
    "import matplotlib.pyplot as plt\n",
    "from sklearn.decomposition import PCA\n",
    "from sklearn.manifold import TSNE\n",
    "import utils"
   ]
  },
  {
   "cell_type": "markdown",
   "metadata": {},
   "source": [
    "## Distributional matrices\n",
    "* Overview slide - https://web.stanford.edu/class/cs224u/materials/cs224u-vsm-overview.pdf"
   ]
  },
  {
   "cell_type": "markdown",
   "metadata": {},
   "source": [
    "The data distribution includes two pre-computed matrices of co-occurrence counts in IMDB movie reviews. The build function in the utils module for this repository allows you to read them in:\n",
    "\n",
    "Let's read these in now for use in later examples:"
   ]
  },
  {
   "cell_type": "code",
   "execution_count": 153,
   "metadata": {
    "collapsed": true
   },
   "outputs": [],
   "source": [
    "ww = utils.build(os.path.join(vsmdata_home, 'imdb-wordword.csv'))\n",
    "wd = utils.build(os.path.join(vsmdata_home, 'imdb-worddoc.csv'))"
   ]
  },
  {
   "cell_type": "code",
   "execution_count": 168,
   "metadata": {
    "collapsed": false
   },
   "outputs": [
    {
     "name": "stdout",
     "output_type": "stream",
     "text": [
      "3\n"
     ]
    }
   ],
   "source": [
    "print(len(ww))"
   ]
  },
  {
   "cell_type": "code",
   "execution_count": 170,
   "metadata": {
    "collapsed": false
   },
   "outputs": [
    {
     "name": "stdout",
     "output_type": "stream",
     "text": [
      "2998 [[  3.43744000e+05   2.25000000e+02   4.41000000e+02 ...,   4.74000000e+02\n",
      "    1.62500000e+03   1.05000000e+03]\n",
      " [  1.43000000e+02   2.18000000e+02   9.00000000e+00 ...,   3.00000000e+00\n",
      "    3.00000000e+00   5.00000000e+00]]\n"
     ]
    }
   ],
   "source": [
    "print(len(ww[0]), ww[0][:2])"
   ]
  },
  {
   "cell_type": "code",
   "execution_count": 173,
   "metadata": {
    "collapsed": false
   },
   "outputs": [
    {
     "name": "stdout",
     "output_type": "stream",
     "text": [
      "2998 ['!', '):', ');', '1', '1/10', '1/2', '10', '10/10', '100', '11']\n"
     ]
    }
   ],
   "source": [
    "print(len(ww[1]), ww[1][:10])"
   ]
  },
  {
   "cell_type": "code",
   "execution_count": 174,
   "metadata": {
    "collapsed": false
   },
   "outputs": [
    {
     "name": "stdout",
     "output_type": "stream",
     "text": [
      "2998 ['!', '):', ');', '1', '1/10', '1/2', '10', '10/10', '100', '11']\n"
     ]
    }
   ],
   "source": [
    "print(len(ww[2]), ww[2][:10])"
   ]
  },
  {
   "cell_type": "markdown",
   "metadata": {},
   "source": [
    "## Vector comparison\n",
    "* Vector comparison slide - https://web.stanford.edu/class/cs224u/materials/cs224u-vsm-veccompare.pdf"
   ]
  },
  {
   "cell_type": "markdown",
   "metadata": {},
   "source": [
    "#### Euclidean distance"
   ]
  },
  {
   "cell_type": "markdown",
   "metadata": {},
   "source": [
    "<img src=\"https://render.githubusercontent.com/render/math?math=%5Csqrt%7B%5Csum_%7Bi%3D1%7D%5E%7Bn%7D%20%7Cu_%7Bi%7D-v_%7Bi%7D%7C%5E2%7D&mode=display\"/>"
   ]
  },
  {
   "cell_type": "code",
   "execution_count": 175,
   "metadata": {
    "collapsed": true
   },
   "outputs": [],
   "source": [
    "def euclidean(u, v):    \n",
    "    \"\"\"Eculidean distance between 1d np.arrays `u` and `v`, which must \n",
    "    have the same dimensionality. Returns a float.\"\"\"\n",
    "    # Use scipy's method:\n",
    "    return scipy.spatial.distance.euclidean(u, v)\n",
    "    # Or define it yourself:\n",
    "    # return vector_length(u - v)"
   ]
  },
  {
   "cell_type": "markdown",
   "metadata": {},
   "source": [
    "#### vector length"
   ]
  },
  {
   "cell_type": "markdown",
   "metadata": {},
   "source": [
    "<img src=\"https://render.githubusercontent.com/render/math?math=%5C%7Cu%5C%7C%20%3D%20%5Csqrt%7B%5Csum_%7Bi%3D1%7D%5E%7Bn%7D%20u_%7Bi%7D%5E%7B2%7D%7D&mode=display\" />"
   ]
  },
  {
   "cell_type": "code",
   "execution_count": 176,
   "metadata": {
    "collapsed": true
   },
   "outputs": [],
   "source": [
    "def vector_length(u):\n",
    "    \"\"\"Length (L2) of the 1d np.array `u`. Returns a new np.array with the \n",
    "    same dimensions as `u`.\"\"\"\n",
    "    return np.sqrt(np.dot(u, u))"
   ]
  },
  {
   "cell_type": "code",
   "execution_count": 177,
   "metadata": {
    "collapsed": false
   },
   "outputs": [
    {
     "data": {
      "image/png": "[encoded data removed]",
      "text/plain": [
       "<matplotlib.figure.Figure at 0x7fce6c7e1978>"
      ]
     },
     "metadata": {},
     "output_type": "display_data"
    }
   ],
   "source": [
    "ABC = np.array([\n",
    "    [ 2.0,  4.0],  # A\n",
    "    [10.0, 15.0],  # B\n",
    "    [14.0, 10.0]]) # C\n",
    "\n",
    "def plot_ABC(m):\n",
    "    plt.plot(m[:,0], m[:,1], marker='', linestyle='')\n",
    "    plt.xlim([0,np.max(m)*1.2])\n",
    "    plt.ylim([0,np.max(m)*1.2])\n",
    "    for i, x in enumerate(['A','B','C']):\n",
    "        plt.annotate(x, m[i,:])\n",
    "\n",
    "plot_ABC(ABC)"
   ]
  },
  {
   "cell_type": "code",
   "execution_count": 178,
   "metadata": {
    "collapsed": false
   },
   "outputs": [
    {
     "data": {
      "text/plain": [
       "13.601470508735444"
      ]
     },
     "execution_count": 178,
     "metadata": {},
     "output_type": "execute_result"
    }
   ],
   "source": [
    "euclidean(ABC[0], ABC[1])"
   ]
  },
  {
   "cell_type": "code",
   "execution_count": 179,
   "metadata": {
    "collapsed": false
   },
   "outputs": [
    {
     "data": {
      "text/plain": [
       "6.4031242374328485"
      ]
     },
     "execution_count": 179,
     "metadata": {},
     "output_type": "execute_result"
    }
   ],
   "source": [
    "euclidean(ABC[1], ABC[2])"
   ]
  },
  {
   "cell_type": "markdown",
   "metadata": {},
   "source": [
    "#### Length normalization "
   ]
  },
  {
   "cell_type": "code",
   "execution_count": 180,
   "metadata": {
    "collapsed": true
   },
   "outputs": [],
   "source": [
    "def length_norm(u):\n",
    "    \"\"\"L2 norm of the 1d np.array `u`. Returns a float.\"\"\"\n",
    "    return u / vector_length(u)"
   ]
  },
  {
   "cell_type": "code",
   "execution_count": 181,
   "metadata": {
    "collapsed": false
   },
   "outputs": [
    {
     "data": {
      "image/png": "[encoded data removed]",
      "text/plain": [
       "<matplotlib.figure.Figure at 0x7fce633d5780>"
      ]
     },
     "metadata": {},
     "output_type": "display_data"
    }
   ],
   "source": [
    "plot_ABC(np.array([length_norm(row) for row in ABC]))"
   ]
  },
  {
   "cell_type": "markdown",
   "metadata": {},
   "source": [
    "#### Cosine distance"
   ]
  },
  {
   "cell_type": "markdown",
   "metadata": {},
   "source": [
    "<img src=\"https://render.githubusercontent.com/render/math?math=1%20-%20%5Cleft%28%5Cfrac%7B%5Csum_%7Bi%3D1%7D%5E%7Bn%7D%20u_%7Bi%7D%20%5Ccdot%20v_%7Bi%7D%7D%7B%5C%7Cu%5C%7C%5Ccdot%20%5C%7Cv%5C%7C%7D%5Cright%29&mode=display\" />"
   ]
  },
  {
   "cell_type": "code",
   "execution_count": 182,
   "metadata": {
    "collapsed": true
   },
   "outputs": [],
   "source": [
    "def cosine(u, v):        \n",
    "    \"\"\"Cosine distance between 1d np.arrays `u` and `v`, which must have \n",
    "    the same dimensionality. Returns a float.\"\"\"\n",
    "    # Use scipy's method:\n",
    "    return scipy.spatial.distance.cosine(u, v)\n",
    "    # Or define it yourself:\n",
    "    # return 1.0 - (np.dot(u, v) / (vector_length(u) * vector_length(v)))"
   ]
  },
  {
   "cell_type": "code",
   "execution_count": 183,
   "metadata": {
    "collapsed": false
   },
   "outputs": [
    {
     "name": "stdout",
     "output_type": "stream",
     "text": [
      "      euclidean(A, B) = 13.60       euclidean(B, C) =  6.40\n",
      "         cosine(A, B) =  0.01          cosine(B, C) =  0.07\n"
     ]
    }
   ],
   "source": [
    "for m in (euclidean, cosine):\n",
    "    fmt = {'n': m.__name__,  \n",
    "           'AB': m(ABC[0], ABC[1]), \n",
    "           'BC': m(ABC[1], ABC[2])}\n",
    "    print('%(n)15s(A, B) = %(AB)5.2f %(n)15s(B, C) = %(BC)5.2f' % fmt)"
   ]
  },
  {
   "cell_type": "markdown",
   "metadata": {},
   "source": [
    "## Distributional neighbors"
   ]
  },
  {
   "cell_type": "code",
   "execution_count": 184,
   "metadata": {
    "collapsed": true
   },
   "outputs": [],
   "source": [
    "def neighbors(word, mat, rownames, distfunc=cosine):    \n",
    "    \"\"\"Tool for finding the nearest neighbors of `word` in `mat` according \n",
    "    to `distfunc`. The comparisons are between row vectors.\n",
    "    \n",
    "    Parameters\n",
    "    ----------\n",
    "    word : str\n",
    "        The anchor word. Assumed to be in `rownames`.\n",
    "        \n",
    "    mat : np.array\n",
    "        The vector-space model.\n",
    "        \n",
    "    rownames : list of str\n",
    "        The rownames of mat.\n",
    "            \n",
    "    distfunc : function mapping vector pairs to floats (default: `cosine`)\n",
    "        The measure of distance between vectors. Can also be `euclidean`, \n",
    "        `matching`, `jaccard`, as well as any other distance measure  \n",
    "        between 1d vectors.\n",
    "        \n",
    "    Raises\n",
    "    ------\n",
    "    ValueError\n",
    "        If word is not in rownames.\n",
    "    \n",
    "    Returns\n",
    "    -------    \n",
    "    list of tuples\n",
    "        The list is ordered by closeness to `word`. Each member is a pair \n",
    "        (word, distance) where word is a str and distance is a float.\n",
    "    \n",
    "    \"\"\"\n",
    "    if word not in rownames:\n",
    "        raise ValueError('%s is not in this VSM' % word)\n",
    "    w = mat[rownames.index(word)]\n",
    "    dists = [(rownames[i], distfunc(w, mat[i])) for i in range(len(mat))]\n",
    "    return sorted(dists, key=itemgetter(1), reverse=False)"
   ]
  },
  {
   "cell_type": "code",
   "execution_count": 185,
   "metadata": {
    "collapsed": false
   },
   "outputs": [
    {
     "data": {
      "text/plain": [
       "[('superb', 0.0),\n",
       " ('excellent', 0.0026965023912962627),\n",
       " ('outstanding', 0.0027344413235225185),\n",
       " ('beautifully', 0.0027345163104325332),\n",
       " ('brilliant', 0.0027888643627085319)]"
      ]
     },
     "execution_count": 185,
     "metadata": {},
     "output_type": "execute_result"
    }
   ],
   "source": [
    "neighbors(word='superb', mat=ww[0], rownames=ww[1], distfunc=cosine)[: 5]"
   ]
  },
  {
   "cell_type": "code",
   "execution_count": 186,
   "metadata": {
    "collapsed": false
   },
   "outputs": [
    {
     "data": {
      "text/plain": [
       "[('superb', 0.0),\n",
       " ('familiar', 1448.8919904533948),\n",
       " ('violent', 1630.3723501090174),\n",
       " ('follows', 1647.0276257549538),\n",
       " ('convincing', 1701.2260284865147)]"
      ]
     },
     "execution_count": 186,
     "metadata": {},
     "output_type": "execute_result"
    }
   ],
   "source": [
    "neighbors(word='superb', mat=ww[0], rownames=ww[1], distfunc=euclidean)[: 5]"
   ]
  },
  {
   "cell_type": "markdown",
   "metadata": {},
   "source": [
    "## Matrix reweighting\n",
    "* Reweighting slide - https://web.stanford.edu/class/cs224u/materials/cs224u-vsm-weighting.pdf"
   ]
  },
  {
   "cell_type": "markdown",
   "metadata": {},
   "source": [
    "#### Normalization"
   ]
  },
  {
   "cell_type": "code",
   "execution_count": 187,
   "metadata": {
    "collapsed": true
   },
   "outputs": [],
   "source": [
    "def prob_norm(u):\n",
    "    \"\"\"Normalize 1d np.array `u` into a probability distribution. Assumes \n",
    "    that all the members of `u` are positive. Returns a 1d np.array of \n",
    "    the same dimensionality as `u`.\"\"\"\n",
    "    return u / np.sum(u)"
   ]
  },
  {
   "cell_type": "markdown",
   "metadata": {},
   "source": [
    "#### TF-IDF"
   ]
  },
  {
   "cell_type": "code",
   "execution_count": 188,
   "metadata": {
    "collapsed": true
   },
   "outputs": [],
   "source": [
    "def tfidf(mat, rownames=None):\n",
    "    \"\"\"TF-IDF \n",
    "    \n",
    "    Parameters\n",
    "    ----------\n",
    "    mat : 2d np.array\n",
    "       The matrix to operate on.\n",
    "       \n",
    "    rownames : list of str or None\n",
    "        Not used; it's an argument only for consistency with other methods \n",
    "        defined here.\n",
    "        \n",
    "    Returns\n",
    "    -------\n",
    "    (np.array, list of str)    \n",
    "       The first member is the TF-IDF-transformed version of `mat`, and \n",
    "       the second member is `rownames` (unchanged).\n",
    "    \n",
    "    \"\"\"\n",
    "    colsums = np.sum(mat, axis=0)\n",
    "    doccount = mat.shape[1]\n",
    "    w = np.array([_tfidf_row_func(row, colsums, doccount) for row in mat])\n",
    "    return (w, rownames)\n",
    "\n",
    "def _tfidf_row_func(row, colsums, doccount):\n",
    "    df = float(len([x for x in row if x > 0]))\n",
    "    idf = 0.0\n",
    "    # This ensures a defined IDF value >= 0.0:\n",
    "    if df > 0.0 and df != doccount:\n",
    "        idf = np.log(doccount / df)\n",
    "    tfs = row/colsums\n",
    "    return tfs * idf"
   ]
  },
  {
   "cell_type": "code",
   "execution_count": 189,
   "metadata": {
    "collapsed": true
   },
   "outputs": [],
   "source": [
    "wd_tfidf = tfidf(mat=wd[0], rownames=wd[1])"
   ]
  },
  {
   "cell_type": "code",
   "execution_count": 190,
   "metadata": {
    "collapsed": false
   },
   "outputs": [
    {
     "data": {
      "text/plain": [
       "[('superb', 0.0),\n",
       " ('outstanding', 0.72256301656130351),\n",
       " ('remain', 0.73606093603489875),\n",
       " ('viewed', 0.74639986506462097),\n",
       " ('and', 0.74880553661599947)]"
      ]
     },
     "execution_count": 190,
     "metadata": {},
     "output_type": "execute_result"
    }
   ],
   "source": [
    "neighbors(word='superb', mat=wd_tfidf[0], rownames=wd_tfidf[1], distfunc=cosine)[: 5]"
   ]
  },
  {
   "cell_type": "markdown",
   "metadata": {},
   "source": [
    "# 참고자료\n",
    "* [1] gensim の tfidf で正規化（normalize）に苦しんだ話 - http://tawara.hatenablog.com/entry/2016/11/08/021408\n",
    "* [2] How do I compare document similarity using Python? - https://www.oreilly.com/learning/how-do-i-compare-document-similarity-using-python\n",
    "* [3] Scikit-Learn의 문서 전처리 기능 - https://datascienceschool.net/view-notebook/3e7aadbf88ed4f0d87a76f9ddc925d69/\n",
    "* [4] 나만의 웹 크롤러 만들기 with Requests/BeautifulSoup - https://beomi.github.io/2017/01/20/HowToMakeWebCrawler/\n",
    "* [5] scikit-learn: TF/IDF and cosine similarity for computer science papers - http://www.markhneedham.com/blog/2016/07/27/scitkit-learn-tfidf-and-cosine-similarity-for-computer-science-papers/\n",
    "* [6] sklearn.metrics.pairwise.cosine_similarity - http://scikit-learn.org/stable/modules/generated/sklearn.metrics.pairwise.cosine_similarity.html#sklearn.metrics.pairwise.cosine_similarity\n",
    "* [7] CS224U: Natural Language Understanding - https://web.stanford.edu/class/cs224u/\n",
    "* [8] CS224U: Natural Language Understanding / Distributional word representations \n",
    "    - notebook -  http://nbviewer.jupyter.org/github/cgpotts/cs224u/blob/master/vsm.ipynb\n",
    "    - Overview slide - https://web.stanford.edu/class/cs224u/materials/cs224u-vsm-overview.pdf\n",
    "    - Vector comparison slide - https://web.stanford.edu/class/cs224u/materials/cs224u-vsm-veccompare.pdf\n",
    "    - Reweighting slide - https://web.stanford.edu/class/cs224u/materials/cs224u-vsm-weighting.pdf"
   ]
  }
 ],
 "metadata": {
  "kernelspec": {
   "display_name": "Python 3",
   "language": "python",
   "name": "python3"
  },
  "language_info": {
   "codemirror_mode": {
    "name": "ipython",
    "version": 3
   },
   "file_extension": ".py",
   "mimetype": "text/x-python",
   "name": "python",
   "nbconvert_exporter": "python",
   "pygments_lexer": "ipython3",
   "version": "3.5.2"
  }
 },
 "nbformat": 4,
 "nbformat_minor": 2
}
